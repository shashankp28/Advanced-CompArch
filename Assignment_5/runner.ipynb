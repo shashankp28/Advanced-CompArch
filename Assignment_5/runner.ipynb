{
 "cells": [
  {
   "cell_type": "markdown",
   "metadata": {},
   "source": [
    "# Imports"
   ]
  },
  {
   "cell_type": "code",
   "execution_count": 21,
   "metadata": {},
   "outputs": [],
   "source": [
    "import os\n",
    "from tqdm.notebook import tqdm\n",
    "import xml.etree.ElementTree as ET\n",
    "import subprocess\n",
    "import json"
   ]
  },
  {
   "cell_type": "markdown",
   "metadata": {},
   "source": [
    "# XML Parser"
   ]
  },
  {
   "cell_type": "code",
   "execution_count": 22,
   "metadata": {},
   "outputs": [],
   "source": [
    "def replace_key_in_xml(xml_file, key_val, output_file):\n",
    "    tree = ET.parse(xml_file)\n",
    "    root = tree.getroot()\n",
    "    for elem in root.iter():\n",
    "        if elem.tag in key_val:\n",
    "            key = elem.tag\n",
    "            val = key_val[key]\n",
    "            if key == \"L3Cache_12M_16\":\n",
    "                for element in elem:\n",
    "                    if element.tag == \"Prefetcher\":\n",
    "                        element.text = val\n",
    "            else:\n",
    "                elem.text = val\n",
    "    tree.write(output_file)"
   ]
  },
  {
   "cell_type": "markdown",
   "metadata": {},
   "source": [
    "# Build and Run"
   ]
  },
  {
   "cell_type": "code",
   "execution_count": 23,
   "metadata": {},
   "outputs": [],
   "source": [
    "def run(file_name, benchmark_path=\"\"):\n",
    "    err_file = f\"./err/{file_name}.err\"\n",
    "    assignment_dir=\"/home/shashankp/Desktop/GitHub_S/Advanced-CompArch/Assignment_5\"\n",
    "    resource_dir = \"/home/shashankp/Desktop/GitHub_S/Advanced-CompArch/cs810_resources\"\n",
    "    cmd = f\"java -jar {resource_dir}/Tejas/jars/tejas.jar {assignment_dir}/config_tigerlake_modified.xml {assignment_dir}/outputs/{file_name}.stat\"\n",
    "    cmd += f\" {benchmark_path}\"\n",
    "    with open(err_file, \"w\") as output_file:\n",
    "        print(cmd)\n",
    "        subprocess.run(cmd, shell=True, stdout=output_file)"
   ]
  },
  {
   "cell_type": "markdown",
   "metadata": {},
   "source": [
    "# Constants"
   ]
  },
  {
   "cell_type": "code",
   "execution_count": 24,
   "metadata": {},
   "outputs": [],
   "source": [
    "prefetchers = [\"Simple\", \"Power4\", \"Bingo\", \"None\"]\n",
    "config_file_path = \"./config_tigerlake.xml\"\n",
    "output_file = \"./config_tigerlake_modified.xml\""
   ]
  },
  {
   "cell_type": "markdown",
   "metadata": {},
   "source": [
    "# New Benchmarks"
   ]
  },
  {
   "cell_type": "code",
   "execution_count": 25,
   "metadata": {},
   "outputs": [
    {
     "data": {
      "application/vnd.jupyter.widget-view+json": {
       "model_id": "ae5a431e10d647f5a8fc629976c210bb",
       "version_major": 2,
       "version_minor": 0
      },
      "text/plain": [
       "  0%|          | 0/20 [00:00<?, ?it/s]"
      ]
     },
     "metadata": {},
     "output_type": "display_data"
    },
    {
     "name": "stdout",
     "output_type": "stream",
     "text": [
      "openssl_8 Simple\n",
      "java -jar /home/shashankp/Desktop/GitHub_S/Advanced-CompArch/cs810_resources/Tejas/jars/tejas.jar /home/shashankp/Desktop/GitHub_S/Advanced-CompArch/Assignment_5/config_tigerlake_modified.xml /home/shashankp/Desktop/GitHub_S/Advanced-CompArch/Assignment_5/outputs/openssl_8_Simple.stat \n"
     ]
    },
    {
     "name": "stderr",
     "output_type": "stream",
     "text": [
      " (TAGE 463917)  (LOOP 1248)  (SC 58190)  (TOTAL 523355 bits 511 Kbits)  (TAGE 463917)  (LOOP 1248)  (SC 58190)  (TOTAL 523355 bits 511 Kbits)  (TAGE 463917)  (LOOP 1248)  (SC 58190)  (TOTAL 523355 bits 511 Kbits)  (TAGE 463917)  (LOOP 1248)  (SC 58190)  (TOTAL 523355 bits 511 Kbits)  (TAGE 463917)  (LOOP 1248)  (SC 58190)  (TOTAL 523355 bits 511 Kbits)  (TAGE 463917)  (LOOP 1248)  (SC 58190)  (TOTAL 523355 bits 511 Kbits)  (TAGE 463917)  (LOOP 1248)  (SC 58190)  (TOTAL 523355 bits 511 Kbits)  (TAGE 463917)  (LOOP 1248)  (SC 58190)  (TOTAL 523355 bits 511 Kbits) "
     ]
    },
    {
     "name": "stdout",
     "output_type": "stream",
     "text": [
      "blender_8 Simple\n",
      "java -jar /home/shashankp/Desktop/GitHub_S/Advanced-CompArch/cs810_resources/Tejas/jars/tejas.jar /home/shashankp/Desktop/GitHub_S/Advanced-CompArch/Assignment_5/config_tigerlake_modified.xml /home/shashankp/Desktop/GitHub_S/Advanced-CompArch/Assignment_5/outputs/blender_8_Simple.stat \n"
     ]
    },
    {
     "name": "stderr",
     "output_type": "stream",
     "text": [
      " (TAGE 463917)  (LOOP 1248)  (SC 58190)  (TOTAL 523355 bits 511 Kbits)  (TAGE 463917)  (LOOP 1248)  (SC 58190)  (TOTAL 523355 bits 511 Kbits)  (TAGE 463917)  (LOOP 1248)  (SC 58190)  (TOTAL 523355 bits 511 Kbits)  (TAGE 463917)  (LOOP 1248)  (SC 58190)  (TOTAL 523355 bits 511 Kbits)  (TAGE 463917)  (LOOP 1248)  (SC 58190)  (TOTAL 523355 bits 511 Kbits)  (TAGE 463917)  (LOOP 1248)  (SC 58190)  (TOTAL 523355 bits 511 Kbits)  (TAGE 463917)  (LOOP 1248)  (SC 58190)  (TOTAL 523355 bits 511 Kbits)  (TAGE 463917)  (LOOP 1248)  (SC 58190)  (TOTAL 523355 bits 511 Kbits) "
     ]
    },
    {
     "name": "stdout",
     "output_type": "stream",
     "text": [
      "gimp_8 Simple\n",
      "java -jar /home/shashankp/Desktop/GitHub_S/Advanced-CompArch/cs810_resources/Tejas/jars/tejas.jar /home/shashankp/Desktop/GitHub_S/Advanced-CompArch/Assignment_5/config_tigerlake_modified.xml /home/shashankp/Desktop/GitHub_S/Advanced-CompArch/Assignment_5/outputs/gimp_8_Simple.stat \n"
     ]
    },
    {
     "name": "stderr",
     "output_type": "stream",
     "text": [
      " (TAGE 463917)  (LOOP 1248)  (SC 58190)  (TOTAL 523355 bits 511 Kbits)  (TAGE 463917)  (LOOP 1248)  (SC 58190)  (TOTAL 523355 bits 511 Kbits)  (TAGE 463917)  (LOOP 1248)  (SC 58190)  (TOTAL 523355 bits 511 Kbits)  (TAGE 463917)  (LOOP 1248)  (SC 58190)  (TOTAL 523355 bits 511 Kbits)  (TAGE 463917)  (LOOP 1248)  (SC 58190)  (TOTAL 523355 bits 511 Kbits)  (TAGE 463917)  (LOOP 1248)  (SC 58190)  (TOTAL 523355 bits 511 Kbits)  (TAGE 463917)  (LOOP 1248)  (SC 58190)  (TOTAL 523355 bits 511 Kbits)  (TAGE 463917)  (LOOP 1248)  (SC 58190)  (TOTAL 523355 bits 511 Kbits) "
     ]
    },
    {
     "name": "stdout",
     "output_type": "stream",
     "text": [
      "numenta-nab_8 Simple\n",
      "java -jar /home/shashankp/Desktop/GitHub_S/Advanced-CompArch/cs810_resources/Tejas/jars/tejas.jar /home/shashankp/Desktop/GitHub_S/Advanced-CompArch/Assignment_5/config_tigerlake_modified.xml /home/shashankp/Desktop/GitHub_S/Advanced-CompArch/Assignment_5/outputs/numenta-nab_8_Simple.stat \n"
     ]
    },
    {
     "name": "stderr",
     "output_type": "stream",
     "text": [
      " (TAGE 463917)  (LOOP 1248)  (SC 58190)  (TOTAL 523355 bits 511 Kbits)  (TAGE 463917)  (LOOP 1248)  (SC 58190)  (TOTAL 523355 bits 511 Kbits)  (TAGE 463917)  (LOOP 1248)  (SC 58190)  (TOTAL 523355 bits 511 Kbits)  (TAGE 463917)  (LOOP 1248)  (SC 58190)  (TOTAL 523355 bits 511 Kbits)  (TAGE 463917)  (LOOP 1248)  (SC 58190)  (TOTAL 523355 bits 511 Kbits)  (TAGE 463917)  (LOOP 1248)  (SC 58190)  (TOTAL 523355 bits 511 Kbits)  (TAGE 463917)  (LOOP 1248)  (SC 58190)  (TOTAL 523355 bits 511 Kbits)  (TAGE 463917)  (LOOP 1248)  (SC 58190)  (TOTAL 523355 bits 511 Kbits) "
     ]
    },
    {
     "name": "stdout",
     "output_type": "stream",
     "text": [
      "compress-7zip_8 Simple\n",
      "java -jar /home/shashankp/Desktop/GitHub_S/Advanced-CompArch/cs810_resources/Tejas/jars/tejas.jar /home/shashankp/Desktop/GitHub_S/Advanced-CompArch/Assignment_5/config_tigerlake_modified.xml /home/shashankp/Desktop/GitHub_S/Advanced-CompArch/Assignment_5/outputs/compress-7zip_8_Simple.stat \n"
     ]
    },
    {
     "name": "stderr",
     "output_type": "stream",
     "text": [
      " (TAGE 463917)  (LOOP 1248)  (SC 58190)  (TOTAL 523355 bits 511 Kbits)  (TAGE 463917)  (LOOP 1248)  (SC 58190)  (TOTAL 523355 bits 511 Kbits)  (TAGE 463917)  (LOOP 1248)  (SC 58190)  (TOTAL 523355 bits 511 Kbits)  (TAGE 463917)  (LOOP 1248)  (SC 58190)  (TOTAL 523355 bits 511 Kbits)  (TAGE 463917)  (LOOP 1248)  (SC 58190)  (TOTAL 523355 bits 511 Kbits)  (TAGE 463917)  (LOOP 1248)  (SC 58190)  (TOTAL 523355 bits 511 Kbits)  (TAGE 463917)  (LOOP 1248)  (SC 58190)  (TOTAL 523355 bits 511 Kbits)  (TAGE 463917)  (LOOP 1248)  (SC 58190)  (TOTAL 523355 bits 511 Kbits) Error in reading input packet file /home/shashankp/Desktop/GitHub_S/Advanced-CompArch/phoronix_short_traces/compress-7zip_8/compress-7zip_0.gz\n",
      "Time : 0\n",
      "emulator command is : null\n",
      "java.lang.Exception\n",
      "\tat misc.Error.showErrorAndExit(Error.java:39)\n",
      "\tat emulatorinterface.communication.filePacket.FilePacket.<init>(FilePacket.java:95)\n",
      "\tat main.Main.startCommunicationChannel(Main.java:202)\n",
      "\tat main.Main.main(Main.java:117)\n"
     ]
    },
    {
     "name": "stdout",
     "output_type": "stream",
     "text": [
      "openssl_8 Power4\n",
      "java -jar /home/shashankp/Desktop/GitHub_S/Advanced-CompArch/cs810_resources/Tejas/jars/tejas.jar /home/shashankp/Desktop/GitHub_S/Advanced-CompArch/Assignment_5/config_tigerlake_modified.xml /home/shashankp/Desktop/GitHub_S/Advanced-CompArch/Assignment_5/outputs/openssl_8_Power4.stat \n"
     ]
    },
    {
     "name": "stderr",
     "output_type": "stream",
     "text": [
      " (TAGE 463917)  (LOOP 1248)  (SC 58190)  (TOTAL 523355 bits 511 Kbits)  (TAGE 463917)  (LOOP 1248)  (SC 58190)  (TOTAL 523355 bits 511 Kbits)  (TAGE 463917)  (LOOP 1248)  (SC 58190)  (TOTAL 523355 bits 511 Kbits)  (TAGE 463917)  (LOOP 1248)  (SC 58190)  (TOTAL 523355 bits 511 Kbits)  (TAGE 463917)  (LOOP 1248)  (SC 58190)  (TOTAL 523355 bits 511 Kbits)  (TAGE 463917)  (LOOP 1248)  (SC 58190)  (TOTAL 523355 bits 511 Kbits)  (TAGE 463917)  (LOOP 1248)  (SC 58190)  (TOTAL 523355 bits 511 Kbits)  (TAGE 463917)  (LOOP 1248)  (SC 58190)  (TOTAL 523355 bits 511 Kbits) "
     ]
    },
    {
     "name": "stdout",
     "output_type": "stream",
     "text": [
      "blender_8 Power4\n",
      "java -jar /home/shashankp/Desktop/GitHub_S/Advanced-CompArch/cs810_resources/Tejas/jars/tejas.jar /home/shashankp/Desktop/GitHub_S/Advanced-CompArch/Assignment_5/config_tigerlake_modified.xml /home/shashankp/Desktop/GitHub_S/Advanced-CompArch/Assignment_5/outputs/blender_8_Power4.stat \n"
     ]
    },
    {
     "name": "stderr",
     "output_type": "stream",
     "text": [
      " (TAGE 463917)  (LOOP 1248)  (SC 58190)  (TOTAL 523355 bits 511 Kbits)  (TAGE 463917)  (LOOP 1248)  (SC 58190)  (TOTAL 523355 bits 511 Kbits)  (TAGE 463917)  (LOOP 1248)  (SC 58190)  (TOTAL 523355 bits 511 Kbits)  (TAGE 463917)  (LOOP 1248)  (SC 58190)  (TOTAL 523355 bits 511 Kbits)  (TAGE 463917)  (LOOP 1248)  (SC 58190)  (TOTAL 523355 bits 511 Kbits)  (TAGE 463917)  (LOOP 1248)  (SC 58190)  (TOTAL 523355 bits 511 Kbits)  (TAGE 463917)  (LOOP 1248)  (SC 58190)  (TOTAL 523355 bits 511 Kbits)  (TAGE 463917)  (LOOP 1248)  (SC 58190)  (TOTAL 523355 bits 511 Kbits) "
     ]
    },
    {
     "name": "stdout",
     "output_type": "stream",
     "text": [
      "gimp_8 Power4\n",
      "java -jar /home/shashankp/Desktop/GitHub_S/Advanced-CompArch/cs810_resources/Tejas/jars/tejas.jar /home/shashankp/Desktop/GitHub_S/Advanced-CompArch/Assignment_5/config_tigerlake_modified.xml /home/shashankp/Desktop/GitHub_S/Advanced-CompArch/Assignment_5/outputs/gimp_8_Power4.stat \n"
     ]
    },
    {
     "name": "stderr",
     "output_type": "stream",
     "text": [
      " (TAGE 463917)  (LOOP 1248)  (SC 58190)  (TOTAL 523355 bits 511 Kbits)  (TAGE 463917)  (LOOP 1248)  (SC 58190)  (TOTAL 523355 bits 511 Kbits)  (TAGE 463917)  (LOOP 1248)  (SC 58190)  (TOTAL 523355 bits 511 Kbits)  (TAGE 463917)  (LOOP 1248)  (SC 58190)  (TOTAL 523355 bits 511 Kbits)  (TAGE 463917)  (LOOP 1248)  (SC 58190)  (TOTAL 523355 bits 511 Kbits)  (TAGE 463917)  (LOOP 1248)  (SC 58190)  (TOTAL 523355 bits 511 Kbits)  (TAGE 463917)  (LOOP 1248)  (SC 58190)  (TOTAL 523355 bits 511 Kbits)  (TAGE 463917)  (LOOP 1248)  (SC 58190)  (TOTAL 523355 bits 511 Kbits) "
     ]
    },
    {
     "name": "stdout",
     "output_type": "stream",
     "text": [
      "numenta-nab_8 Power4\n",
      "java -jar /home/shashankp/Desktop/GitHub_S/Advanced-CompArch/cs810_resources/Tejas/jars/tejas.jar /home/shashankp/Desktop/GitHub_S/Advanced-CompArch/Assignment_5/config_tigerlake_modified.xml /home/shashankp/Desktop/GitHub_S/Advanced-CompArch/Assignment_5/outputs/numenta-nab_8_Power4.stat \n"
     ]
    },
    {
     "name": "stderr",
     "output_type": "stream",
     "text": [
      " (TAGE 463917)  (LOOP 1248)  (SC 58190)  (TOTAL 523355 bits 511 Kbits)  (TAGE 463917)  (LOOP 1248)  (SC 58190)  (TOTAL 523355 bits 511 Kbits)  (TAGE 463917)  (LOOP 1248)  (SC 58190)  (TOTAL 523355 bits 511 Kbits)  (TAGE 463917)  (LOOP 1248)  (SC 58190)  (TOTAL 523355 bits 511 Kbits)  (TAGE 463917)  (LOOP 1248)  (SC 58190)  (TOTAL 523355 bits 511 Kbits)  (TAGE 463917)  (LOOP 1248)  (SC 58190)  (TOTAL 523355 bits 511 Kbits)  (TAGE 463917)  (LOOP 1248)  (SC 58190)  (TOTAL 523355 bits 511 Kbits)  (TAGE 463917)  (LOOP 1248)  (SC 58190)  (TOTAL 523355 bits 511 Kbits) "
     ]
    },
    {
     "name": "stdout",
     "output_type": "stream",
     "text": [
      "compress-7zip_8 Power4\n",
      "java -jar /home/shashankp/Desktop/GitHub_S/Advanced-CompArch/cs810_resources/Tejas/jars/tejas.jar /home/shashankp/Desktop/GitHub_S/Advanced-CompArch/Assignment_5/config_tigerlake_modified.xml /home/shashankp/Desktop/GitHub_S/Advanced-CompArch/Assignment_5/outputs/compress-7zip_8_Power4.stat \n"
     ]
    },
    {
     "name": "stderr",
     "output_type": "stream",
     "text": [
      " (TAGE 463917)  (LOOP 1248)  (SC 58190)  (TOTAL 523355 bits 511 Kbits)  (TAGE 463917)  (LOOP 1248)  (SC 58190)  (TOTAL 523355 bits 511 Kbits)  (TAGE 463917)  (LOOP 1248)  (SC 58190)  (TOTAL 523355 bits 511 Kbits)  (TAGE 463917)  (LOOP 1248)  (SC 58190)  (TOTAL 523355 bits 511 Kbits)  (TAGE 463917)  (LOOP 1248)  (SC 58190)  (TOTAL 523355 bits 511 Kbits)  (TAGE 463917)  (LOOP 1248)  (SC 58190)  (TOTAL 523355 bits 511 Kbits)  (TAGE 463917)  (LOOP 1248)  (SC 58190)  (TOTAL 523355 bits 511 Kbits)  (TAGE 463917)  (LOOP 1248)  (SC 58190)  (TOTAL 523355 bits 511 Kbits) Error in reading input packet file /home/shashankp/Desktop/GitHub_S/Advanced-CompArch/phoronix_short_traces/compress-7zip_8/compress-7zip_0.gz\n",
      "Time : 0\n",
      "emulator command is : null\n",
      "java.lang.Exception\n",
      "\tat misc.Error.showErrorAndExit(Error.java:39)\n",
      "\tat emulatorinterface.communication.filePacket.FilePacket.<init>(FilePacket.java:95)\n",
      "\tat main.Main.startCommunicationChannel(Main.java:202)\n",
      "\tat main.Main.main(Main.java:117)\n"
     ]
    },
    {
     "name": "stdout",
     "output_type": "stream",
     "text": [
      "openssl_8 Bingo\n",
      "java -jar /home/shashankp/Desktop/GitHub_S/Advanced-CompArch/cs810_resources/Tejas/jars/tejas.jar /home/shashankp/Desktop/GitHub_S/Advanced-CompArch/Assignment_5/config_tigerlake_modified.xml /home/shashankp/Desktop/GitHub_S/Advanced-CompArch/Assignment_5/outputs/openssl_8_Bingo.stat \n"
     ]
    },
    {
     "name": "stderr",
     "output_type": "stream",
     "text": [
      " (TAGE 463917)  (LOOP 1248)  (SC 58190)  (TOTAL 523355 bits 511 Kbits)  (TAGE 463917)  (LOOP 1248)  (SC 58190)  (TOTAL 523355 bits 511 Kbits)  (TAGE 463917)  (LOOP 1248)  (SC 58190)  (TOTAL 523355 bits 511 Kbits)  (TAGE 463917)  (LOOP 1248)  (SC 58190)  (TOTAL 523355 bits 511 Kbits)  (TAGE 463917)  (LOOP 1248)  (SC 58190)  (TOTAL 523355 bits 511 Kbits)  (TAGE 463917)  (LOOP 1248)  (SC 58190)  (TOTAL 523355 bits 511 Kbits)  (TAGE 463917)  (LOOP 1248)  (SC 58190)  (TOTAL 523355 bits 511 Kbits)  (TAGE 463917)  (LOOP 1248)  (SC 58190)  (TOTAL 523355 bits 511 Kbits) "
     ]
    },
    {
     "name": "stdout",
     "output_type": "stream",
     "text": [
      "blender_8 Bingo\n",
      "java -jar /home/shashankp/Desktop/GitHub_S/Advanced-CompArch/cs810_resources/Tejas/jars/tejas.jar /home/shashankp/Desktop/GitHub_S/Advanced-CompArch/Assignment_5/config_tigerlake_modified.xml /home/shashankp/Desktop/GitHub_S/Advanced-CompArch/Assignment_5/outputs/blender_8_Bingo.stat \n"
     ]
    },
    {
     "name": "stderr",
     "output_type": "stream",
     "text": [
      " (TAGE 463917)  (LOOP 1248)  (SC 58190)  (TOTAL 523355 bits 511 Kbits)  (TAGE 463917)  (LOOP 1248)  (SC 58190)  (TOTAL 523355 bits 511 Kbits)  (TAGE 463917)  (LOOP 1248)  (SC 58190)  (TOTAL 523355 bits 511 Kbits)  (TAGE 463917)  (LOOP 1248)  (SC 58190)  (TOTAL 523355 bits 511 Kbits)  (TAGE 463917)  (LOOP 1248)  (SC 58190)  (TOTAL 523355 bits 511 Kbits)  (TAGE 463917)  (LOOP 1248)  (SC 58190)  (TOTAL 523355 bits 511 Kbits)  (TAGE 463917)  (LOOP 1248)  (SC 58190)  (TOTAL 523355 bits 511 Kbits)  (TAGE 463917)  (LOOP 1248)  (SC 58190)  (TOTAL 523355 bits 511 Kbits) "
     ]
    },
    {
     "name": "stdout",
     "output_type": "stream",
     "text": [
      "gimp_8 Bingo\n",
      "java -jar /home/shashankp/Desktop/GitHub_S/Advanced-CompArch/cs810_resources/Tejas/jars/tejas.jar /home/shashankp/Desktop/GitHub_S/Advanced-CompArch/Assignment_5/config_tigerlake_modified.xml /home/shashankp/Desktop/GitHub_S/Advanced-CompArch/Assignment_5/outputs/gimp_8_Bingo.stat \n"
     ]
    },
    {
     "name": "stderr",
     "output_type": "stream",
     "text": [
      " (TAGE 463917)  (LOOP 1248)  (SC 58190)  (TOTAL 523355 bits 511 Kbits)  (TAGE 463917)  (LOOP 1248)  (SC 58190)  (TOTAL 523355 bits 511 Kbits)  (TAGE 463917)  (LOOP 1248)  (SC 58190)  (TOTAL 523355 bits 511 Kbits)  (TAGE 463917)  (LOOP 1248)  (SC 58190)  (TOTAL 523355 bits 511 Kbits)  (TAGE 463917)  (LOOP 1248)  (SC 58190)  (TOTAL 523355 bits 511 Kbits)  (TAGE 463917)  (LOOP 1248)  (SC 58190)  (TOTAL 523355 bits 511 Kbits)  (TAGE 463917)  (LOOP 1248)  (SC 58190)  (TOTAL 523355 bits 511 Kbits)  (TAGE 463917)  (LOOP 1248)  (SC 58190)  (TOTAL 523355 bits 511 Kbits) "
     ]
    },
    {
     "name": "stdout",
     "output_type": "stream",
     "text": [
      "numenta-nab_8 Bingo\n",
      "java -jar /home/shashankp/Desktop/GitHub_S/Advanced-CompArch/cs810_resources/Tejas/jars/tejas.jar /home/shashankp/Desktop/GitHub_S/Advanced-CompArch/Assignment_5/config_tigerlake_modified.xml /home/shashankp/Desktop/GitHub_S/Advanced-CompArch/Assignment_5/outputs/numenta-nab_8_Bingo.stat \n"
     ]
    },
    {
     "name": "stderr",
     "output_type": "stream",
     "text": [
      " (TAGE 463917)  (LOOP 1248)  (SC 58190)  (TOTAL 523355 bits 511 Kbits)  (TAGE 463917)  (LOOP 1248)  (SC 58190)  (TOTAL 523355 bits 511 Kbits)  (TAGE 463917)  (LOOP 1248)  (SC 58190)  (TOTAL 523355 bits 511 Kbits)  (TAGE 463917)  (LOOP 1248)  (SC 58190)  (TOTAL 523355 bits 511 Kbits)  (TAGE 463917)  (LOOP 1248)  (SC 58190)  (TOTAL 523355 bits 511 Kbits)  (TAGE 463917)  (LOOP 1248)  (SC 58190)  (TOTAL 523355 bits 511 Kbits)  (TAGE 463917)  (LOOP 1248)  (SC 58190)  (TOTAL 523355 bits 511 Kbits)  (TAGE 463917)  (LOOP 1248)  (SC 58190)  (TOTAL 523355 bits 511 Kbits) "
     ]
    },
    {
     "name": "stdout",
     "output_type": "stream",
     "text": [
      "compress-7zip_8 Bingo\n",
      "java -jar /home/shashankp/Desktop/GitHub_S/Advanced-CompArch/cs810_resources/Tejas/jars/tejas.jar /home/shashankp/Desktop/GitHub_S/Advanced-CompArch/Assignment_5/config_tigerlake_modified.xml /home/shashankp/Desktop/GitHub_S/Advanced-CompArch/Assignment_5/outputs/compress-7zip_8_Bingo.stat \n",
      "openssl_8 None\n",
      "java -jar /home/shashankp/Desktop/GitHub_S/Advanced-CompArch/cs810_resources/Tejas/jars/tejas.jar /home/shashankp/Desktop/GitHub_S/Advanced-CompArch/Assignment_5/config_tigerlake_modified.xml /home/shashankp/Desktop/GitHub_S/Advanced-CompArch/Assignment_5/outputs/openssl_8_None.stat \n"
     ]
    },
    {
     "name": "stderr",
     "output_type": "stream",
     "text": [
      " (TAGE 463917)  (LOOP 1248)  (SC 58190)  (TOTAL 523355 bits 511 Kbits)  (TAGE 463917)  (LOOP 1248)  (SC 58190)  (TOTAL 523355 bits 511 Kbits)  (TAGE 463917)  (LOOP 1248)  (SC 58190)  (TOTAL 523355 bits 511 Kbits)  (TAGE 463917)  (LOOP 1248)  (SC 58190)  (TOTAL 523355 bits 511 Kbits)  (TAGE 463917)  (LOOP 1248)  (SC 58190)  (TOTAL 523355 bits 511 Kbits)  (TAGE 463917)  (LOOP 1248)  (SC 58190)  (TOTAL 523355 bits 511 Kbits)  (TAGE 463917)  (LOOP 1248)  (SC 58190)  (TOTAL 523355 bits 511 Kbits)  (TAGE 463917)  (LOOP 1248)  (SC 58190)  (TOTAL 523355 bits 511 Kbits) Error in reading input packet file /home/shashankp/Desktop/GitHub_S/Advanced-CompArch/phoronix_short_traces/compress-7zip_8/compress-7zip_0.gz\n",
      "Time : 0\n",
      "emulator command is : null\n",
      "java.lang.Exception\n",
      "\tat misc.Error.showErrorAndExit(Error.java:39)\n",
      "\tat emulatorinterface.communication.filePacket.FilePacket.<init>(FilePacket.java:95)\n",
      "\tat main.Main.startCommunicationChannel(Main.java:202)\n",
      "\tat main.Main.main(Main.java:117)\n",
      " (TAGE 463917)  (LOOP 1248)  (SC 58190)  (TOTAL 523355 bits 511 Kbits)  (TAGE 463917)  (LOOP 1248)  (SC 58190)  (TOTAL 523355 bits 511 Kbits)  (TAGE 463917)  (LOOP 1248)  (SC 58190)  (TOTAL 523355 bits 511 Kbits)  (TAGE 463917)  (LOOP 1248)  (SC 58190)  (TOTAL 523355 bits 511 Kbits)  (TAGE 463917)  (LOOP 1248)  (SC 58190)  (TOTAL 523355 bits 511 Kbits)  (TAGE 463917)  (LOOP 1248)  (SC 58190)  (TOTAL 523355 bits 511 Kbits)  (TAGE 463917)  (LOOP 1248)  (SC 58190)  (TOTAL 523355 bits 511 Kbits)  (TAGE 463917)  (LOOP 1248)  (SC 58190)  (TOTAL 523355 bits 511 Kbits) "
     ]
    },
    {
     "name": "stdout",
     "output_type": "stream",
     "text": [
      "blender_8 None\n",
      "java -jar /home/shashankp/Desktop/GitHub_S/Advanced-CompArch/cs810_resources/Tejas/jars/tejas.jar /home/shashankp/Desktop/GitHub_S/Advanced-CompArch/Assignment_5/config_tigerlake_modified.xml /home/shashankp/Desktop/GitHub_S/Advanced-CompArch/Assignment_5/outputs/blender_8_None.stat \n"
     ]
    },
    {
     "name": "stderr",
     "output_type": "stream",
     "text": [
      " (TAGE 463917)  (LOOP 1248)  (SC 58190)  (TOTAL 523355 bits 511 Kbits)  (TAGE 463917)  (LOOP 1248)  (SC 58190)  (TOTAL 523355 bits 511 Kbits)  (TAGE 463917)  (LOOP 1248)  (SC 58190)  (TOTAL 523355 bits 511 Kbits)  (TAGE 463917)  (LOOP 1248)  (SC 58190)  (TOTAL 523355 bits 511 Kbits)  (TAGE 463917)  (LOOP 1248)  (SC 58190)  (TOTAL 523355 bits 511 Kbits)  (TAGE 463917)  (LOOP 1248)  (SC 58190)  (TOTAL 523355 bits 511 Kbits)  (TAGE 463917)  (LOOP 1248)  (SC 58190)  (TOTAL 523355 bits 511 Kbits)  (TAGE 463917)  (LOOP 1248)  (SC 58190)  (TOTAL 523355 bits 511 Kbits) "
     ]
    },
    {
     "name": "stdout",
     "output_type": "stream",
     "text": [
      "gimp_8 None\n",
      "java -jar /home/shashankp/Desktop/GitHub_S/Advanced-CompArch/cs810_resources/Tejas/jars/tejas.jar /home/shashankp/Desktop/GitHub_S/Advanced-CompArch/Assignment_5/config_tigerlake_modified.xml /home/shashankp/Desktop/GitHub_S/Advanced-CompArch/Assignment_5/outputs/gimp_8_None.stat \n"
     ]
    },
    {
     "name": "stderr",
     "output_type": "stream",
     "text": [
      " (TAGE 463917)  (LOOP 1248)  (SC 58190)  (TOTAL 523355 bits 511 Kbits)  (TAGE 463917)  (LOOP 1248)  (SC 58190)  (TOTAL 523355 bits 511 Kbits)  (TAGE 463917)  (LOOP 1248)  (SC 58190)  (TOTAL 523355 bits 511 Kbits)  (TAGE 463917)  (LOOP 1248)  (SC 58190)  (TOTAL 523355 bits 511 Kbits)  (TAGE 463917)  (LOOP 1248)  (SC 58190)  (TOTAL 523355 bits 511 Kbits)  (TAGE 463917)  (LOOP 1248)  (SC 58190)  (TOTAL 523355 bits 511 Kbits)  (TAGE 463917)  (LOOP 1248)  (SC 58190)  (TOTAL 523355 bits 511 Kbits)  (TAGE 463917)  (LOOP 1248)  (SC 58190)  (TOTAL 523355 bits 511 Kbits) "
     ]
    },
    {
     "name": "stdout",
     "output_type": "stream",
     "text": [
      "numenta-nab_8 None\n",
      "java -jar /home/shashankp/Desktop/GitHub_S/Advanced-CompArch/cs810_resources/Tejas/jars/tejas.jar /home/shashankp/Desktop/GitHub_S/Advanced-CompArch/Assignment_5/config_tigerlake_modified.xml /home/shashankp/Desktop/GitHub_S/Advanced-CompArch/Assignment_5/outputs/numenta-nab_8_None.stat \n"
     ]
    },
    {
     "name": "stderr",
     "output_type": "stream",
     "text": [
      " (TAGE 463917)  (LOOP 1248)  (SC 58190)  (TOTAL 523355 bits 511 Kbits)  (TAGE 463917)  (LOOP 1248)  (SC 58190)  (TOTAL 523355 bits 511 Kbits)  (TAGE 463917)  (LOOP 1248)  (SC 58190)  (TOTAL 523355 bits 511 Kbits)  (TAGE 463917)  (LOOP 1248)  (SC 58190)  (TOTAL 523355 bits 511 Kbits)  (TAGE 463917)  (LOOP 1248)  (SC 58190)  (TOTAL 523355 bits 511 Kbits)  (TAGE 463917)  (LOOP 1248)  (SC 58190)  (TOTAL 523355 bits 511 Kbits)  (TAGE 463917)  (LOOP 1248)  (SC 58190)  (TOTAL 523355 bits 511 Kbits)  (TAGE 463917)  (LOOP 1248)  (SC 58190)  (TOTAL 523355 bits 511 Kbits) "
     ]
    },
    {
     "name": "stdout",
     "output_type": "stream",
     "text": [
      "compress-7zip_8 None\n",
      "java -jar /home/shashankp/Desktop/GitHub_S/Advanced-CompArch/cs810_resources/Tejas/jars/tejas.jar /home/shashankp/Desktop/GitHub_S/Advanced-CompArch/Assignment_5/config_tigerlake_modified.xml /home/shashankp/Desktop/GitHub_S/Advanced-CompArch/Assignment_5/outputs/compress-7zip_8_None.stat \n"
     ]
    },
    {
     "name": "stderr",
     "output_type": "stream",
     "text": [
      " (TAGE 463917)  (LOOP 1248)  (SC 58190)  (TOTAL 523355 bits 511 Kbits)  (TAGE 463917)  (LOOP 1248)  (SC 58190)  (TOTAL 523355 bits 511 Kbits)  (TAGE 463917)  (LOOP 1248)  (SC 58190)  (TOTAL 523355 bits 511 Kbits)  (TAGE 463917)  (LOOP 1248)  (SC 58190)  (TOTAL 523355 bits 511 Kbits)  (TAGE 463917)  (LOOP 1248)  (SC 58190)  (TOTAL 523355 bits 511 Kbits)  (TAGE 463917)  (LOOP 1248)  (SC 58190)  (TOTAL 523355 bits 511 Kbits)  (TAGE 463917)  (LOOP 1248)  (SC 58190)  (TOTAL 523355 bits 511 Kbits)  (TAGE 463917)  (LOOP 1248)  (SC 58190)  (TOTAL 523355 bits 511 Kbits) Error in reading input packet file /home/shashankp/Desktop/GitHub_S/Advanced-CompArch/phoronix_short_traces/compress-7zip_8/compress-7zip_0.gz\n",
      "Time : 0\n",
      "emulator command is : null\n",
      "java.lang.Exception\n",
      "\tat misc.Error.showErrorAndExit(Error.java:39)\n",
      "\tat emulatorinterface.communication.filePacket.FilePacket.<init>(FilePacket.java:95)\n",
      "\tat main.Main.startCommunicationChannel(Main.java:202)\n",
      "\tat main.Main.main(Main.java:117)\n"
     ]
    }
   ],
   "source": [
    "benchmark_path = \"/home/shashankp/Desktop/GitHub_S/Advanced-CompArch/phoronix_short_traces/\"\n",
    "benchmarks = os.listdir(benchmark_path)\n",
    "bad_bench = [\"intel-mlc_8\", \"stream_8\"]\n",
    "benchmarks = [x for x in benchmarks if x not in bad_bench and \"_8\" in x]\n",
    "\n",
    "total = len(prefetchers) * len(benchmarks)\n",
    "pb = tqdm(total=total)\n",
    "for prefetcher in prefetchers:\n",
    "    for benchmark in benchmarks:\n",
    "        pb.update(1)\n",
    "        print(benchmark, prefetcher)\n",
    "        key_vals = {\n",
    "            \"isVISATrace\": \"false\",\n",
    "            \"L3Cache_12M_16\": prefetcher,\n",
    "            \"BenchmarkPath\": benchmark_path+benchmark+f\"/{benchmark.split('_')[0]}\",\n",
    "        }\n",
    "        replace_key_in_xml(config_file_path, key_vals, output_file)\n",
    "        file_name = f\"{benchmark}_{prefetcher}\"\n",
    "        run(file_name)"
   ]
  },
  {
   "cell_type": "markdown",
   "metadata": {},
   "source": [
    "# Old Benchmarks"
   ]
  },
  {
   "cell_type": "code",
   "execution_count": 26,
   "metadata": {},
   "outputs": [
    {
     "data": {
      "application/vnd.jupyter.widget-view+json": {
       "model_id": "6ddaa1de126d4112b13fa79b53640ab8",
       "version_major": 2,
       "version_minor": 0
      },
      "text/plain": [
       "  0%|          | 0/20 [00:00<?, ?it/s]"
      ]
     },
     "metadata": {},
     "output_type": "display_data"
    },
    {
     "name": "stdout",
     "output_type": "stream",
     "text": [
      "xalancbmk Simple\n",
      "java -jar /home/shashankp/Desktop/GitHub_S/Advanced-CompArch/cs810_resources/Tejas/jars/tejas.jar /home/shashankp/Desktop/GitHub_S/Advanced-CompArch/Assignment_5/config_tigerlake_modified.xml /home/shashankp/Desktop/GitHub_S/Advanced-CompArch/Assignment_5/outputs/xalancbmk_Simple.stat /home/shashankp/Desktop/GitHub_S/Advanced-CompArch/cs810_resources/CPU2017_benchmarks/tejas_traces/xalancbmk\n"
     ]
    },
    {
     "name": "stderr",
     "output_type": "stream",
     "text": [
      " (TAGE 463917)  (LOOP 1248)  (SC 58190)  (TOTAL 523355 bits 511 Kbits)  (TAGE 463917)  (LOOP 1248)  (SC 58190)  (TOTAL 523355 bits 511 Kbits)  (TAGE 463917)  (LOOP 1248)  (SC 58190)  (TOTAL 523355 bits 511 Kbits)  (TAGE 463917)  (LOOP 1248)  (SC 58190)  (TOTAL 523355 bits 511 Kbits)  (TAGE 463917)  (LOOP 1248)  (SC 58190)  (TOTAL 523355 bits 511 Kbits)  (TAGE 463917)  (LOOP 1248)  (SC 58190)  (TOTAL 523355 bits 511 Kbits)  (TAGE 463917)  (LOOP 1248)  (SC 58190)  (TOTAL 523355 bits 511 Kbits)  (TAGE 463917)  (LOOP 1248)  (SC 58190)  (TOTAL 523355 bits 511 Kbits) "
     ]
    },
    {
     "name": "stdout",
     "output_type": "stream",
     "text": [
      "lbm Simple\n",
      "java -jar /home/shashankp/Desktop/GitHub_S/Advanced-CompArch/cs810_resources/Tejas/jars/tejas.jar /home/shashankp/Desktop/GitHub_S/Advanced-CompArch/Assignment_5/config_tigerlake_modified.xml /home/shashankp/Desktop/GitHub_S/Advanced-CompArch/Assignment_5/outputs/lbm_Simple.stat /home/shashankp/Desktop/GitHub_S/Advanced-CompArch/cs810_resources/CPU2017_benchmarks/tejas_traces/lbm\n"
     ]
    },
    {
     "name": "stderr",
     "output_type": "stream",
     "text": [
      " (TAGE 463917)  (LOOP 1248)  (SC 58190)  (TOTAL 523355 bits 511 Kbits)  (TAGE 463917)  (LOOP 1248)  (SC 58190)  (TOTAL 523355 bits 511 Kbits)  (TAGE 463917)  (LOOP 1248)  (SC 58190)  (TOTAL 523355 bits 511 Kbits)  (TAGE 463917)  (LOOP 1248)  (SC 58190)  (TOTAL 523355 bits 511 Kbits)  (TAGE 463917)  (LOOP 1248)  (SC 58190)  (TOTAL 523355 bits 511 Kbits)  (TAGE 463917)  (LOOP 1248)  (SC 58190)  (TOTAL 523355 bits 511 Kbits)  (TAGE 463917)  (LOOP 1248)  (SC 58190)  (TOTAL 523355 bits 511 Kbits)  (TAGE 463917)  (LOOP 1248)  (SC 58190)  (TOTAL 523355 bits 511 Kbits) "
     ]
    },
    {
     "name": "stdout",
     "output_type": "stream",
     "text": [
      "namd Simple\n",
      "java -jar /home/shashankp/Desktop/GitHub_S/Advanced-CompArch/cs810_resources/Tejas/jars/tejas.jar /home/shashankp/Desktop/GitHub_S/Advanced-CompArch/Assignment_5/config_tigerlake_modified.xml /home/shashankp/Desktop/GitHub_S/Advanced-CompArch/Assignment_5/outputs/namd_Simple.stat /home/shashankp/Desktop/GitHub_S/Advanced-CompArch/cs810_resources/CPU2017_benchmarks/tejas_traces/namd\n"
     ]
    },
    {
     "name": "stderr",
     "output_type": "stream",
     "text": [
      " (TAGE 463917)  (LOOP 1248)  (SC 58190)  (TOTAL 523355 bits 511 Kbits)  (TAGE 463917)  (LOOP 1248)  (SC 58190)  (TOTAL 523355 bits 511 Kbits)  (TAGE 463917)  (LOOP 1248)  (SC 58190)  (TOTAL 523355 bits 511 Kbits)  (TAGE 463917)  (LOOP 1248)  (SC 58190)  (TOTAL 523355 bits 511 Kbits)  (TAGE 463917)  (LOOP 1248)  (SC 58190)  (TOTAL 523355 bits 511 Kbits)  (TAGE 463917)  (LOOP 1248)  (SC 58190)  (TOTAL 523355 bits 511 Kbits)  (TAGE 463917)  (LOOP 1248)  (SC 58190)  (TOTAL 523355 bits 511 Kbits)  (TAGE 463917)  (LOOP 1248)  (SC 58190)  (TOTAL 523355 bits 511 Kbits) "
     ]
    },
    {
     "name": "stdout",
     "output_type": "stream",
     "text": [
      "gcc Simple\n",
      "java -jar /home/shashankp/Desktop/GitHub_S/Advanced-CompArch/cs810_resources/Tejas/jars/tejas.jar /home/shashankp/Desktop/GitHub_S/Advanced-CompArch/Assignment_5/config_tigerlake_modified.xml /home/shashankp/Desktop/GitHub_S/Advanced-CompArch/Assignment_5/outputs/gcc_Simple.stat /home/shashankp/Desktop/GitHub_S/Advanced-CompArch/cs810_resources/CPU2017_benchmarks/tejas_traces/gcc\n"
     ]
    },
    {
     "name": "stderr",
     "output_type": "stream",
     "text": [
      " (TAGE 463917)  (LOOP 1248)  (SC 58190)  (TOTAL 523355 bits 511 Kbits)  (TAGE 463917)  (LOOP 1248)  (SC 58190)  (TOTAL 523355 bits 511 Kbits)  (TAGE 463917)  (LOOP 1248)  (SC 58190)  (TOTAL 523355 bits 511 Kbits)  (TAGE 463917)  (LOOP 1248)  (SC 58190)  (TOTAL 523355 bits 511 Kbits)  (TAGE 463917)  (LOOP 1248)  (SC 58190)  (TOTAL 523355 bits 511 Kbits)  (TAGE 463917)  (LOOP 1248)  (SC 58190)  (TOTAL 523355 bits 511 Kbits)  (TAGE 463917)  (LOOP 1248)  (SC 58190)  (TOTAL 523355 bits 511 Kbits)  (TAGE 463917)  (LOOP 1248)  (SC 58190)  (TOTAL 523355 bits 511 Kbits) "
     ]
    },
    {
     "name": "stdout",
     "output_type": "stream",
     "text": [
      "mcf Simple\n",
      "java -jar /home/shashankp/Desktop/GitHub_S/Advanced-CompArch/cs810_resources/Tejas/jars/tejas.jar /home/shashankp/Desktop/GitHub_S/Advanced-CompArch/Assignment_5/config_tigerlake_modified.xml /home/shashankp/Desktop/GitHub_S/Advanced-CompArch/Assignment_5/outputs/mcf_Simple.stat /home/shashankp/Desktop/GitHub_S/Advanced-CompArch/cs810_resources/CPU2017_benchmarks/tejas_traces/mcf\n"
     ]
    },
    {
     "name": "stderr",
     "output_type": "stream",
     "text": [
      " (TAGE 463917)  (LOOP 1248)  (SC 58190)  (TOTAL 523355 bits 511 Kbits)  (TAGE 463917)  (LOOP 1248)  (SC 58190)  (TOTAL 523355 bits 511 Kbits)  (TAGE 463917)  (LOOP 1248)  (SC 58190)  (TOTAL 523355 bits 511 Kbits)  (TAGE 463917)  (LOOP 1248)  (SC 58190)  (TOTAL 523355 bits 511 Kbits)  (TAGE 463917)  (LOOP 1248)  (SC 58190)  (TOTAL 523355 bits 511 Kbits)  (TAGE 463917)  (LOOP 1248)  (SC 58190)  (TOTAL 523355 bits 511 Kbits)  (TAGE 463917)  (LOOP 1248)  (SC 58190)  (TOTAL 523355 bits 511 Kbits)  (TAGE 463917)  (LOOP 1248)  (SC 58190)  (TOTAL 523355 bits 511 Kbits) "
     ]
    },
    {
     "name": "stdout",
     "output_type": "stream",
     "text": [
      "xalancbmk Power4\n",
      "java -jar /home/shashankp/Desktop/GitHub_S/Advanced-CompArch/cs810_resources/Tejas/jars/tejas.jar /home/shashankp/Desktop/GitHub_S/Advanced-CompArch/Assignment_5/config_tigerlake_modified.xml /home/shashankp/Desktop/GitHub_S/Advanced-CompArch/Assignment_5/outputs/xalancbmk_Power4.stat /home/shashankp/Desktop/GitHub_S/Advanced-CompArch/cs810_resources/CPU2017_benchmarks/tejas_traces/xalancbmk\n"
     ]
    },
    {
     "name": "stderr",
     "output_type": "stream",
     "text": [
      " (TAGE 463917)  (LOOP 1248)  (SC 58190)  (TOTAL 523355 bits 511 Kbits)  (TAGE 463917)  (LOOP 1248)  (SC 58190)  (TOTAL 523355 bits 511 Kbits)  (TAGE 463917)  (LOOP 1248)  (SC 58190)  (TOTAL 523355 bits 511 Kbits)  (TAGE 463917)  (LOOP 1248)  (SC 58190)  (TOTAL 523355 bits 511 Kbits)  (TAGE 463917)  (LOOP 1248)  (SC 58190)  (TOTAL 523355 bits 511 Kbits)  (TAGE 463917)  (LOOP 1248)  (SC 58190)  (TOTAL 523355 bits 511 Kbits)  (TAGE 463917)  (LOOP 1248)  (SC 58190)  (TOTAL 523355 bits 511 Kbits)  (TAGE 463917)  (LOOP 1248)  (SC 58190)  (TOTAL 523355 bits 511 Kbits) "
     ]
    },
    {
     "name": "stdout",
     "output_type": "stream",
     "text": [
      "lbm Power4\n",
      "java -jar /home/shashankp/Desktop/GitHub_S/Advanced-CompArch/cs810_resources/Tejas/jars/tejas.jar /home/shashankp/Desktop/GitHub_S/Advanced-CompArch/Assignment_5/config_tigerlake_modified.xml /home/shashankp/Desktop/GitHub_S/Advanced-CompArch/Assignment_5/outputs/lbm_Power4.stat /home/shashankp/Desktop/GitHub_S/Advanced-CompArch/cs810_resources/CPU2017_benchmarks/tejas_traces/lbm\n"
     ]
    },
    {
     "name": "stderr",
     "output_type": "stream",
     "text": [
      " (TAGE 463917)  (LOOP 1248)  (SC 58190)  (TOTAL 523355 bits 511 Kbits)  (TAGE 463917)  (LOOP 1248)  (SC 58190)  (TOTAL 523355 bits 511 Kbits)  (TAGE 463917)  (LOOP 1248)  (SC 58190)  (TOTAL 523355 bits 511 Kbits)  (TAGE 463917)  (LOOP 1248)  (SC 58190)  (TOTAL 523355 bits 511 Kbits)  (TAGE 463917)  (LOOP 1248)  (SC 58190)  (TOTAL 523355 bits 511 Kbits)  (TAGE 463917)  (LOOP 1248)  (SC 58190)  (TOTAL 523355 bits 511 Kbits)  (TAGE 463917)  (LOOP 1248)  (SC 58190)  (TOTAL 523355 bits 511 Kbits)  (TAGE 463917)  (LOOP 1248)  (SC 58190)  (TOTAL 523355 bits 511 Kbits) "
     ]
    },
    {
     "name": "stdout",
     "output_type": "stream",
     "text": [
      "namd Power4\n",
      "java -jar /home/shashankp/Desktop/GitHub_S/Advanced-CompArch/cs810_resources/Tejas/jars/tejas.jar /home/shashankp/Desktop/GitHub_S/Advanced-CompArch/Assignment_5/config_tigerlake_modified.xml /home/shashankp/Desktop/GitHub_S/Advanced-CompArch/Assignment_5/outputs/namd_Power4.stat /home/shashankp/Desktop/GitHub_S/Advanced-CompArch/cs810_resources/CPU2017_benchmarks/tejas_traces/namd\n"
     ]
    },
    {
     "name": "stderr",
     "output_type": "stream",
     "text": [
      " (TAGE 463917)  (LOOP 1248)  (SC 58190)  (TOTAL 523355 bits 511 Kbits)  (TAGE 463917)  (LOOP 1248)  (SC 58190)  (TOTAL 523355 bits 511 Kbits)  (TAGE 463917)  (LOOP 1248)  (SC 58190)  (TOTAL 523355 bits 511 Kbits)  (TAGE 463917)  (LOOP 1248)  (SC 58190)  (TOTAL 523355 bits 511 Kbits)  (TAGE 463917)  (LOOP 1248)  (SC 58190)  (TOTAL 523355 bits 511 Kbits)  (TAGE 463917)  (LOOP 1248)  (SC 58190)  (TOTAL 523355 bits 511 Kbits)  (TAGE 463917)  (LOOP 1248)  (SC 58190)  (TOTAL 523355 bits 511 Kbits)  (TAGE 463917)  (LOOP 1248)  (SC 58190)  (TOTAL 523355 bits 511 Kbits) "
     ]
    },
    {
     "name": "stdout",
     "output_type": "stream",
     "text": [
      "gcc Power4\n",
      "java -jar /home/shashankp/Desktop/GitHub_S/Advanced-CompArch/cs810_resources/Tejas/jars/tejas.jar /home/shashankp/Desktop/GitHub_S/Advanced-CompArch/Assignment_5/config_tigerlake_modified.xml /home/shashankp/Desktop/GitHub_S/Advanced-CompArch/Assignment_5/outputs/gcc_Power4.stat /home/shashankp/Desktop/GitHub_S/Advanced-CompArch/cs810_resources/CPU2017_benchmarks/tejas_traces/gcc\n"
     ]
    },
    {
     "name": "stderr",
     "output_type": "stream",
     "text": [
      " (TAGE 463917)  (LOOP 1248)  (SC 58190)  (TOTAL 523355 bits 511 Kbits)  (TAGE 463917)  (LOOP 1248)  (SC 58190)  (TOTAL 523355 bits 511 Kbits)  (TAGE 463917)  (LOOP 1248)  (SC 58190)  (TOTAL 523355 bits 511 Kbits)  (TAGE 463917)  (LOOP 1248)  (SC 58190)  (TOTAL 523355 bits 511 Kbits)  (TAGE 463917)  (LOOP 1248)  (SC 58190)  (TOTAL 523355 bits 511 Kbits)  (TAGE 463917)  (LOOP 1248)  (SC 58190)  (TOTAL 523355 bits 511 Kbits)  (TAGE 463917)  (LOOP 1248)  (SC 58190)  (TOTAL 523355 bits 511 Kbits)  (TAGE 463917)  (LOOP 1248)  (SC 58190)  (TOTAL 523355 bits 511 Kbits) "
     ]
    },
    {
     "name": "stdout",
     "output_type": "stream",
     "text": [
      "mcf Power4\n",
      "java -jar /home/shashankp/Desktop/GitHub_S/Advanced-CompArch/cs810_resources/Tejas/jars/tejas.jar /home/shashankp/Desktop/GitHub_S/Advanced-CompArch/Assignment_5/config_tigerlake_modified.xml /home/shashankp/Desktop/GitHub_S/Advanced-CompArch/Assignment_5/outputs/mcf_Power4.stat /home/shashankp/Desktop/GitHub_S/Advanced-CompArch/cs810_resources/CPU2017_benchmarks/tejas_traces/mcf\n"
     ]
    },
    {
     "name": "stderr",
     "output_type": "stream",
     "text": [
      " (TAGE 463917)  (LOOP 1248)  (SC 58190)  (TOTAL 523355 bits 511 Kbits)  (TAGE 463917)  (LOOP 1248)  (SC 58190)  (TOTAL 523355 bits 511 Kbits)  (TAGE 463917)  (LOOP 1248)  (SC 58190)  (TOTAL 523355 bits 511 Kbits)  (TAGE 463917)  (LOOP 1248)  (SC 58190)  (TOTAL 523355 bits 511 Kbits)  (TAGE 463917)  (LOOP 1248)  (SC 58190)  (TOTAL 523355 bits 511 Kbits)  (TAGE 463917)  (LOOP 1248)  (SC 58190)  (TOTAL 523355 bits 511 Kbits)  (TAGE 463917)  (LOOP 1248)  (SC 58190)  (TOTAL 523355 bits 511 Kbits)  (TAGE 463917)  (LOOP 1248)  (SC 58190)  (TOTAL 523355 bits 511 Kbits) "
     ]
    },
    {
     "name": "stdout",
     "output_type": "stream",
     "text": [
      "xalancbmk Bingo\n",
      "java -jar /home/shashankp/Desktop/GitHub_S/Advanced-CompArch/cs810_resources/Tejas/jars/tejas.jar /home/shashankp/Desktop/GitHub_S/Advanced-CompArch/Assignment_5/config_tigerlake_modified.xml /home/shashankp/Desktop/GitHub_S/Advanced-CompArch/Assignment_5/outputs/xalancbmk_Bingo.stat /home/shashankp/Desktop/GitHub_S/Advanced-CompArch/cs810_resources/CPU2017_benchmarks/tejas_traces/xalancbmk\n"
     ]
    },
    {
     "name": "stderr",
     "output_type": "stream",
     "text": [
      " (TAGE 463917)  (LOOP 1248)  (SC 58190)  (TOTAL 523355 bits 511 Kbits)  (TAGE 463917)  (LOOP 1248)  (SC 58190)  (TOTAL 523355 bits 511 Kbits)  (TAGE 463917)  (LOOP 1248)  (SC 58190)  (TOTAL 523355 bits 511 Kbits)  (TAGE 463917)  (LOOP 1248)  (SC 58190)  (TOTAL 523355 bits 511 Kbits)  (TAGE 463917)  (LOOP 1248)  (SC 58190)  (TOTAL 523355 bits 511 Kbits)  (TAGE 463917)  (LOOP 1248)  (SC 58190)  (TOTAL 523355 bits 511 Kbits)  (TAGE 463917)  (LOOP 1248)  (SC 58190)  (TOTAL 523355 bits 511 Kbits)  (TAGE 463917)  (LOOP 1248)  (SC 58190)  (TOTAL 523355 bits 511 Kbits) "
     ]
    },
    {
     "name": "stdout",
     "output_type": "stream",
     "text": [
      "lbm Bingo\n",
      "java -jar /home/shashankp/Desktop/GitHub_S/Advanced-CompArch/cs810_resources/Tejas/jars/tejas.jar /home/shashankp/Desktop/GitHub_S/Advanced-CompArch/Assignment_5/config_tigerlake_modified.xml /home/shashankp/Desktop/GitHub_S/Advanced-CompArch/Assignment_5/outputs/lbm_Bingo.stat /home/shashankp/Desktop/GitHub_S/Advanced-CompArch/cs810_resources/CPU2017_benchmarks/tejas_traces/lbm\n"
     ]
    },
    {
     "name": "stderr",
     "output_type": "stream",
     "text": [
      " (TAGE 463917)  (LOOP 1248)  (SC 58190)  (TOTAL 523355 bits 511 Kbits)  (TAGE 463917)  (LOOP 1248)  (SC 58190)  (TOTAL 523355 bits 511 Kbits)  (TAGE 463917)  (LOOP 1248)  (SC 58190)  (TOTAL 523355 bits 511 Kbits)  (TAGE 463917)  (LOOP 1248)  (SC 58190)  (TOTAL 523355 bits 511 Kbits)  (TAGE 463917)  (LOOP 1248)  (SC 58190)  (TOTAL 523355 bits 511 Kbits)  (TAGE 463917)  (LOOP 1248)  (SC 58190)  (TOTAL 523355 bits 511 Kbits)  (TAGE 463917)  (LOOP 1248)  (SC 58190)  (TOTAL 523355 bits 511 Kbits)  (TAGE 463917)  (LOOP 1248)  (SC 58190)  (TOTAL 523355 bits 511 Kbits) "
     ]
    },
    {
     "name": "stdout",
     "output_type": "stream",
     "text": [
      "namd Bingo\n",
      "java -jar /home/shashankp/Desktop/GitHub_S/Advanced-CompArch/cs810_resources/Tejas/jars/tejas.jar /home/shashankp/Desktop/GitHub_S/Advanced-CompArch/Assignment_5/config_tigerlake_modified.xml /home/shashankp/Desktop/GitHub_S/Advanced-CompArch/Assignment_5/outputs/namd_Bingo.stat /home/shashankp/Desktop/GitHub_S/Advanced-CompArch/cs810_resources/CPU2017_benchmarks/tejas_traces/namd\n"
     ]
    },
    {
     "name": "stderr",
     "output_type": "stream",
     "text": [
      " (TAGE 463917)  (LOOP 1248)  (SC 58190)  (TOTAL 523355 bits 511 Kbits)  (TAGE 463917)  (LOOP 1248)  (SC 58190)  (TOTAL 523355 bits 511 Kbits)  (TAGE 463917)  (LOOP 1248)  (SC 58190)  (TOTAL 523355 bits 511 Kbits)  (TAGE 463917)  (LOOP 1248)  (SC 58190)  (TOTAL 523355 bits 511 Kbits)  (TAGE 463917)  (LOOP 1248)  (SC 58190)  (TOTAL 523355 bits 511 Kbits)  (TAGE 463917)  (LOOP 1248)  (SC 58190)  (TOTAL 523355 bits 511 Kbits)  (TAGE 463917)  (LOOP 1248)  (SC 58190)  (TOTAL 523355 bits 511 Kbits)  (TAGE 463917)  (LOOP 1248)  (SC 58190)  (TOTAL 523355 bits 511 Kbits) "
     ]
    },
    {
     "name": "stdout",
     "output_type": "stream",
     "text": [
      "gcc Bingo\n",
      "java -jar /home/shashankp/Desktop/GitHub_S/Advanced-CompArch/cs810_resources/Tejas/jars/tejas.jar /home/shashankp/Desktop/GitHub_S/Advanced-CompArch/Assignment_5/config_tigerlake_modified.xml /home/shashankp/Desktop/GitHub_S/Advanced-CompArch/Assignment_5/outputs/gcc_Bingo.stat /home/shashankp/Desktop/GitHub_S/Advanced-CompArch/cs810_resources/CPU2017_benchmarks/tejas_traces/gcc\n"
     ]
    },
    {
     "name": "stderr",
     "output_type": "stream",
     "text": [
      " (TAGE 463917)  (LOOP 1248)  (SC 58190)  (TOTAL 523355 bits 511 Kbits)  (TAGE 463917)  (LOOP 1248)  (SC 58190)  (TOTAL 523355 bits 511 Kbits)  (TAGE 463917)  (LOOP 1248)  (SC 58190)  (TOTAL 523355 bits 511 Kbits)  (TAGE 463917)  (LOOP 1248)  (SC 58190)  (TOTAL 523355 bits 511 Kbits)  (TAGE 463917)  (LOOP 1248)  (SC 58190)  (TOTAL 523355 bits 511 Kbits)  (TAGE 463917)  (LOOP 1248)  (SC 58190)  (TOTAL 523355 bits 511 Kbits)  (TAGE 463917)  (LOOP 1248)  (SC 58190)  (TOTAL 523355 bits 511 Kbits)  (TAGE 463917)  (LOOP 1248)  (SC 58190)  (TOTAL 523355 bits 511 Kbits) "
     ]
    },
    {
     "name": "stdout",
     "output_type": "stream",
     "text": [
      "mcf Bingo\n",
      "java -jar /home/shashankp/Desktop/GitHub_S/Advanced-CompArch/cs810_resources/Tejas/jars/tejas.jar /home/shashankp/Desktop/GitHub_S/Advanced-CompArch/Assignment_5/config_tigerlake_modified.xml /home/shashankp/Desktop/GitHub_S/Advanced-CompArch/Assignment_5/outputs/mcf_Bingo.stat /home/shashankp/Desktop/GitHub_S/Advanced-CompArch/cs810_resources/CPU2017_benchmarks/tejas_traces/mcf\n"
     ]
    },
    {
     "name": "stderr",
     "output_type": "stream",
     "text": [
      " (TAGE 463917)  (LOOP 1248)  (SC 58190)  (TOTAL 523355 bits 511 Kbits)  (TAGE 463917)  (LOOP 1248)  (SC 58190)  (TOTAL 523355 bits 511 Kbits)  (TAGE 463917)  (LOOP 1248)  (SC 58190)  (TOTAL 523355 bits 511 Kbits)  (TAGE 463917)  (LOOP 1248)  (SC 58190)  (TOTAL 523355 bits 511 Kbits)  (TAGE 463917)  (LOOP 1248)  (SC 58190)  (TOTAL 523355 bits 511 Kbits)  (TAGE 463917)  (LOOP 1248)  (SC 58190)  (TOTAL 523355 bits 511 Kbits)  (TAGE 463917)  (LOOP 1248)  (SC 58190)  (TOTAL 523355 bits 511 Kbits)  (TAGE 463917)  (LOOP 1248)  (SC 58190)  (TOTAL 523355 bits 511 Kbits) "
     ]
    },
    {
     "name": "stdout",
     "output_type": "stream",
     "text": [
      "xalancbmk None\n",
      "java -jar /home/shashankp/Desktop/GitHub_S/Advanced-CompArch/cs810_resources/Tejas/jars/tejas.jar /home/shashankp/Desktop/GitHub_S/Advanced-CompArch/Assignment_5/config_tigerlake_modified.xml /home/shashankp/Desktop/GitHub_S/Advanced-CompArch/Assignment_5/outputs/xalancbmk_None.stat /home/shashankp/Desktop/GitHub_S/Advanced-CompArch/cs810_resources/CPU2017_benchmarks/tejas_traces/xalancbmk\n"
     ]
    },
    {
     "name": "stderr",
     "output_type": "stream",
     "text": [
      " (TAGE 463917)  (LOOP 1248)  (SC 58190)  (TOTAL 523355 bits 511 Kbits)  (TAGE 463917)  (LOOP 1248)  (SC 58190)  (TOTAL 523355 bits 511 Kbits)  (TAGE 463917)  (LOOP 1248)  (SC 58190)  (TOTAL 523355 bits 511 Kbits)  (TAGE 463917)  (LOOP 1248)  (SC 58190)  (TOTAL 523355 bits 511 Kbits)  (TAGE 463917)  (LOOP 1248)  (SC 58190)  (TOTAL 523355 bits 511 Kbits)  (TAGE 463917)  (LOOP 1248)  (SC 58190)  (TOTAL 523355 bits 511 Kbits)  (TAGE 463917)  (LOOP 1248)  (SC 58190)  (TOTAL 523355 bits 511 Kbits)  (TAGE 463917)  (LOOP 1248)  (SC 58190)  (TOTAL 523355 bits 511 Kbits) "
     ]
    },
    {
     "name": "stdout",
     "output_type": "stream",
     "text": [
      "lbm None\n",
      "java -jar /home/shashankp/Desktop/GitHub_S/Advanced-CompArch/cs810_resources/Tejas/jars/tejas.jar /home/shashankp/Desktop/GitHub_S/Advanced-CompArch/Assignment_5/config_tigerlake_modified.xml /home/shashankp/Desktop/GitHub_S/Advanced-CompArch/Assignment_5/outputs/lbm_None.stat /home/shashankp/Desktop/GitHub_S/Advanced-CompArch/cs810_resources/CPU2017_benchmarks/tejas_traces/lbm\n"
     ]
    },
    {
     "name": "stderr",
     "output_type": "stream",
     "text": [
      " (TAGE 463917)  (LOOP 1248)  (SC 58190)  (TOTAL 523355 bits 511 Kbits)  (TAGE 463917)  (LOOP 1248)  (SC 58190)  (TOTAL 523355 bits 511 Kbits)  (TAGE 463917)  (LOOP 1248)  (SC 58190)  (TOTAL 523355 bits 511 Kbits)  (TAGE 463917)  (LOOP 1248)  (SC 58190)  (TOTAL 523355 bits 511 Kbits)  (TAGE 463917)  (LOOP 1248)  (SC 58190)  (TOTAL 523355 bits 511 Kbits)  (TAGE 463917)  (LOOP 1248)  (SC 58190)  (TOTAL 523355 bits 511 Kbits)  (TAGE 463917)  (LOOP 1248)  (SC 58190)  (TOTAL 523355 bits 511 Kbits)  (TAGE 463917)  (LOOP 1248)  (SC 58190)  (TOTAL 523355 bits 511 Kbits) "
     ]
    },
    {
     "name": "stdout",
     "output_type": "stream",
     "text": [
      "namd None\n",
      "java -jar /home/shashankp/Desktop/GitHub_S/Advanced-CompArch/cs810_resources/Tejas/jars/tejas.jar /home/shashankp/Desktop/GitHub_S/Advanced-CompArch/Assignment_5/config_tigerlake_modified.xml /home/shashankp/Desktop/GitHub_S/Advanced-CompArch/Assignment_5/outputs/namd_None.stat /home/shashankp/Desktop/GitHub_S/Advanced-CompArch/cs810_resources/CPU2017_benchmarks/tejas_traces/namd\n"
     ]
    },
    {
     "name": "stderr",
     "output_type": "stream",
     "text": [
      " (TAGE 463917)  (LOOP 1248)  (SC 58190)  (TOTAL 523355 bits 511 Kbits)  (TAGE 463917)  (LOOP 1248)  (SC 58190)  (TOTAL 523355 bits 511 Kbits)  (TAGE 463917)  (LOOP 1248)  (SC 58190)  (TOTAL 523355 bits 511 Kbits)  (TAGE 463917)  (LOOP 1248)  (SC 58190)  (TOTAL 523355 bits 511 Kbits)  (TAGE 463917)  (LOOP 1248)  (SC 58190)  (TOTAL 523355 bits 511 Kbits)  (TAGE 463917)  (LOOP 1248)  (SC 58190)  (TOTAL 523355 bits 511 Kbits)  (TAGE 463917)  (LOOP 1248)  (SC 58190)  (TOTAL 523355 bits 511 Kbits)  (TAGE 463917)  (LOOP 1248)  (SC 58190)  (TOTAL 523355 bits 511 Kbits) "
     ]
    },
    {
     "name": "stdout",
     "output_type": "stream",
     "text": [
      "gcc None\n",
      "java -jar /home/shashankp/Desktop/GitHub_S/Advanced-CompArch/cs810_resources/Tejas/jars/tejas.jar /home/shashankp/Desktop/GitHub_S/Advanced-CompArch/Assignment_5/config_tigerlake_modified.xml /home/shashankp/Desktop/GitHub_S/Advanced-CompArch/Assignment_5/outputs/gcc_None.stat /home/shashankp/Desktop/GitHub_S/Advanced-CompArch/cs810_resources/CPU2017_benchmarks/tejas_traces/gcc\n"
     ]
    },
    {
     "name": "stderr",
     "output_type": "stream",
     "text": [
      " (TAGE 463917)  (LOOP 1248)  (SC 58190)  (TOTAL 523355 bits 511 Kbits)  (TAGE 463917)  (LOOP 1248)  (SC 58190)  (TOTAL 523355 bits 511 Kbits)  (TAGE 463917)  (LOOP 1248)  (SC 58190)  (TOTAL 523355 bits 511 Kbits)  (TAGE 463917)  (LOOP 1248)  (SC 58190)  (TOTAL 523355 bits 511 Kbits)  (TAGE 463917)  (LOOP 1248)  (SC 58190)  (TOTAL 523355 bits 511 Kbits)  (TAGE 463917)  (LOOP 1248)  (SC 58190)  (TOTAL 523355 bits 511 Kbits)  (TAGE 463917)  (LOOP 1248)  (SC 58190)  (TOTAL 523355 bits 511 Kbits)  (TAGE 463917)  (LOOP 1248)  (SC 58190)  (TOTAL 523355 bits 511 Kbits) "
     ]
    },
    {
     "name": "stdout",
     "output_type": "stream",
     "text": [
      "mcf None\n",
      "java -jar /home/shashankp/Desktop/GitHub_S/Advanced-CompArch/cs810_resources/Tejas/jars/tejas.jar /home/shashankp/Desktop/GitHub_S/Advanced-CompArch/Assignment_5/config_tigerlake_modified.xml /home/shashankp/Desktop/GitHub_S/Advanced-CompArch/Assignment_5/outputs/mcf_None.stat /home/shashankp/Desktop/GitHub_S/Advanced-CompArch/cs810_resources/CPU2017_benchmarks/tejas_traces/mcf\n"
     ]
    },
    {
     "name": "stderr",
     "output_type": "stream",
     "text": [
      " (TAGE 463917)  (LOOP 1248)  (SC 58190)  (TOTAL 523355 bits 511 Kbits)  (TAGE 463917)  (LOOP 1248)  (SC 58190)  (TOTAL 523355 bits 511 Kbits)  (TAGE 463917)  (LOOP 1248)  (SC 58190)  (TOTAL 523355 bits 511 Kbits)  (TAGE 463917)  (LOOP 1248)  (SC 58190)  (TOTAL 523355 bits 511 Kbits)  (TAGE 463917)  (LOOP 1248)  (SC 58190)  (TOTAL 523355 bits 511 Kbits)  (TAGE 463917)  (LOOP 1248)  (SC 58190)  (TOTAL 523355 bits 511 Kbits)  (TAGE 463917)  (LOOP 1248)  (SC 58190)  (TOTAL 523355 bits 511 Kbits)  (TAGE 463917)  (LOOP 1248)  (SC 58190)  (TOTAL 523355 bits 511 Kbits) "
     ]
    }
   ],
   "source": [
    "benchmark_path = \"/home/shashankp/Desktop/GitHub_S/Advanced-CompArch/cs810_resources/CPU2017_benchmarks/tejas_traces/\"\n",
    "old_benchmarks = os.listdir(benchmark_path)\n",
    "old_benchmarks = list(set([x.split(\"_\")[0] for x in old_benchmarks]))\n",
    "\n",
    "total = len(prefetchers) * len(old_benchmarks)\n",
    "pb = tqdm(total=total)\n",
    "for prefetcher in prefetchers:\n",
    "    for benchmark in old_benchmarks:\n",
    "        pb.update(1)\n",
    "        print(benchmark, prefetcher)\n",
    "        full_benchmark_path = benchmark_path+benchmark\n",
    "        key_vals = {\n",
    "            \"isVISATrace\": \"true\",\n",
    "            \"L3Cache_12M_16\": prefetcher,\n",
    "            \"BenchmarkPath\": full_benchmark_path\n",
    "        }\n",
    "        replace_key_in_xml(config_file_path, key_vals, output_file)\n",
    "        file_name = f\"{benchmark}_{prefetcher}\"\n",
    "        run(file_name, benchmark_path=full_benchmark_path)"
   ]
  },
  {
   "cell_type": "markdown",
   "metadata": {},
   "source": [
    "# Statistics Parser"
   ]
  },
  {
   "cell_type": "code",
   "execution_count": 29,
   "metadata": {},
   "outputs": [],
   "source": [
    "def stat_parser(stat_file_path):\n",
    "    avg_mipc, mc = 0, 0\n",
    "    avg_cipc, cc = 0, 0\n",
    "    count = 0\n",
    "    i1_hit, l1_hit, l2_hit, l3_hit = [0]*4\n",
    "    with open(stat_file_path, \"r\") as f:\n",
    "        for line in f.readlines():\n",
    "            if line.startswith(\"IPC\"):\n",
    "                ipc = float(line.split(\"=\")[1].strip().split(\"\\t\")[0])\n",
    "                if \"micro-ops\"in line:\n",
    "                    avg_mipc += ipc\n",
    "                    mc += 1\n",
    "                if \"CISC\" in line:\n",
    "                    avg_cipc += ipc\n",
    "                    cc += 1\n",
    "            if line.startswith(\"L3 Hit-Rate\"):\n",
    "                l3_hit = float(line.split(\"=\")[1].strip().split(\"\\t\")[0])\n",
    "            if line.startswith(\"L2 Hit-Rate\"):\n",
    "                l2_hit = float(line.split(\"=\")[1].strip().split(\"\\t\")[0])\n",
    "            if line.startswith(\"L1 Hit-Rate\"):\n",
    "                l1_hit = float(line.split(\"=\")[1].strip().split(\"\\t\")[0])\n",
    "            if line.startswith(\"I1 Hit-Rate\"):\n",
    "                i1_hit = float(line.split(\"=\")[1].strip().split(\"\\t\")[0])\n",
    "    return {\n",
    "        \"Micro Ops IPC\": avg_mipc/mc,\n",
    "        \"CISC IPC\": avg_cipc/cc,\n",
    "        \"I1 Hit Rate\": i1_hit,\n",
    "        \"L1 Hit Rate\": l1_hit,\n",
    "        \"L2 Hit Rate\": l2_hit,\n",
    "        \"L3 Hit Rate\": l3_hit\n",
    "    }"
   ]
  },
  {
   "cell_type": "markdown",
   "metadata": {},
   "source": [
    "# Analyze"
   ]
  },
  {
   "cell_type": "code",
   "execution_count": 30,
   "metadata": {},
   "outputs": [
    {
     "name": "stdout",
     "output_type": "stream",
     "text": [
      "openssl_8 Simple\n",
      "openssl_8 Power4\n",
      "openssl_8 Bingo\n",
      "openssl_8 None\n",
      "blender_8 Simple\n",
      "blender_8 Power4\n",
      "blender_8 Bingo\n",
      "blender_8 None\n",
      "gimp_8 Simple\n",
      "gimp_8 Power4\n",
      "gimp_8 Bingo\n",
      "gimp_8 None\n",
      "numenta-nab_8 Simple\n",
      "numenta-nab_8 Power4\n",
      "numenta-nab_8 Bingo\n",
      "numenta-nab_8 None\n",
      "compress-7zip_8 Simple\n",
      "File Not Found: ./outputs/compress-7zip_8_Simple.stat\n",
      "compress-7zip_8 Power4\n",
      "File Not Found: ./outputs/compress-7zip_8_Power4.stat\n",
      "compress-7zip_8 Bingo\n",
      "File Not Found: ./outputs/compress-7zip_8_Bingo.stat\n",
      "compress-7zip_8 None\n",
      "File Not Found: ./outputs/compress-7zip_8_None.stat\n",
      "xalancbmk Simple\n",
      "xalancbmk Power4\n",
      "xalancbmk Bingo\n",
      "xalancbmk None\n",
      "lbm Simple\n",
      "lbm Power4\n",
      "lbm Bingo\n",
      "lbm None\n",
      "namd Simple\n",
      "namd Power4\n",
      "namd Bingo\n",
      "namd None\n",
      "gcc Simple\n",
      "gcc Power4\n",
      "gcc Bingo\n",
      "gcc None\n",
      "mcf Simple\n",
      "mcf Power4\n",
      "mcf Bingo\n",
      "mcf None\n"
     ]
    }
   ],
   "source": [
    "results = {}\n",
    "for benchmark in benchmarks+old_benchmarks:\n",
    "    results[benchmark] = {}\n",
    "    for prefetcher in prefetchers:\n",
    "        stat_file = f\"./outputs/{benchmark}_{prefetcher}.stat\"\n",
    "        try:\n",
    "            print(benchmark, prefetcher)\n",
    "            parsed_res = stat_parser(stat_file)\n",
    "            results[benchmark][prefetcher] = parsed_res\n",
    "        except:\n",
    "            print(\"File Not Found:\", stat_file)\n",
    "\n",
    "with open(\"results.json\", \"w+\") as f:\n",
    "    json.dump(results, f, indent=4)"
   ]
  },
  {
   "cell_type": "code",
   "execution_count": null,
   "metadata": {},
   "outputs": [],
   "source": []
  }
 ],
 "metadata": {
  "kernelspec": {
   "display_name": "env",
   "language": "python",
   "name": "python3"
  },
  "language_info": {
   "codemirror_mode": {
    "name": "ipython",
    "version": 3
   },
   "file_extension": ".py",
   "mimetype": "text/x-python",
   "name": "python",
   "nbconvert_exporter": "python",
   "pygments_lexer": "ipython3",
   "version": "3.10.12"
  }
 },
 "nbformat": 4,
 "nbformat_minor": 2
}

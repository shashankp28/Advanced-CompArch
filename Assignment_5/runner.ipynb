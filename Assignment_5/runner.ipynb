{
 "cells": [
  {
   "cell_type": "markdown",
   "metadata": {},
   "source": [
    "# Imports"
   ]
  },
  {
   "cell_type": "code",
   "execution_count": 60,
   "metadata": {},
   "outputs": [],
   "source": [
    "import os\n",
    "from tqdm.notebook import tqdm\n",
    "import xml.etree.ElementTree as ET\n",
    "import subprocess"
   ]
  },
  {
   "cell_type": "markdown",
   "metadata": {},
   "source": [
    "# XML Parser"
   ]
  },
  {
   "cell_type": "code",
   "execution_count": 61,
   "metadata": {},
   "outputs": [],
   "source": [
    "def replace_key_in_xml(xml_file, key_val, output_file):\n",
    "    tree = ET.parse(xml_file)\n",
    "    root = tree.getroot()\n",
    "    for elem in root.iter():\n",
    "        if elem.tag in key_val:\n",
    "            key = elem.tag\n",
    "            val = key_val[key]\n",
    "            if key == \"L3Cache_12M_16\":\n",
    "                for element in elem:\n",
    "                    if element.tag == \"Prefetcher\":\n",
    "                        element.text = val\n",
    "            else:\n",
    "                elem.text = val\n",
    "    tree.write(output_file)"
   ]
  },
  {
   "cell_type": "markdown",
   "metadata": {},
   "source": [
    "# Build and Run"
   ]
  },
  {
   "cell_type": "code",
   "execution_count": 62,
   "metadata": {},
   "outputs": [],
   "source": [
    "def run(file_name, benchmark_path=\"\"):\n",
    "    err_file = f\"./err/{file_name}.err\"\n",
    "    assignment_dir=\"/home/shashankp/Desktop/GitHub_S/Advanced-CompArch/Assignment_5\"\n",
    "    resource_dir = \"/home/shashankp/Desktop/GitHub_S/Advanced-CompArch/cs810_resources\"\n",
    "    cmd = f\"java -jar {resource_dir}/Tejas/jars/tejas.jar {assignment_dir}/config_tigerlake_modified.xml {assignment_dir}/outputs/{file_name}.stat\"\n",
    "    cmd += f\" {benchmark_path}\"\n",
    "    with open(err_file, \"w\") as output_file:\n",
    "        print(cmd)\n",
    "        subprocess.run(cmd, shell=True, stdout=output_file)"
   ]
  },
  {
   "cell_type": "markdown",
   "metadata": {},
   "source": [
    "# Constants"
   ]
  },
  {
   "cell_type": "code",
   "execution_count": 63,
   "metadata": {},
   "outputs": [],
   "source": [
    "prefetchers = [\"Simple\", \"Power4\", \"Bingo\", \"None\"]\n",
    "config_file_path = \"./config_tigerlake.xml\"\n",
    "output_file = \"./config_tigerlake_modified.xml\""
   ]
  },
  {
   "cell_type": "markdown",
   "metadata": {},
   "source": [
    "# New Benchmarks"
   ]
  },
  {
   "cell_type": "code",
   "execution_count": 64,
   "metadata": {},
   "outputs": [
    {
     "data": {
      "application/vnd.jupyter.widget-view+json": {
       "model_id": "c18298d873d146b9af09befd83b96b1c",
       "version_major": 2,
       "version_minor": 0
      },
      "text/plain": [
       "  0%|          | 0/20 [00:00<?, ?it/s]"
      ]
     },
     "metadata": {},
     "output_type": "display_data"
    },
    {
     "name": "stdout",
     "output_type": "stream",
     "text": [
      "openssl_8 Simple\n",
      "java -jar /home/shashankp/Desktop/GitHub_S/Advanced-CompArch/cs810_resources/Tejas/jars/tejas.jar /home/shashankp/Desktop/GitHub_S/Advanced-CompArch/Assignment_5/config_tigerlake_modified.xml /home/shashankp/Desktop/GitHub_S/Advanced-CompArch/Assignment_5/outputs/openssl_8_Simple.stat \n"
     ]
    },
    {
     "name": "stderr",
     "output_type": "stream",
     "text": [
      " (TAGE 463917)  (LOOP 1248)  (SC 58190)  (TOTAL 523355 bits 511 Kbits)  (TAGE 463917)  (LOOP 1248)  (SC 58190)  (TOTAL 523355 bits 511 Kbits)  (TAGE 463917)  (LOOP 1248)  (SC 58190)  (TOTAL 523355 bits 511 Kbits)  (TAGE 463917)  (LOOP 1248)  (SC 58190)  (TOTAL 523355 bits 511 Kbits)  (TAGE 463917)  (LOOP 1248)  (SC 58190)  (TOTAL 523355 bits 511 Kbits)  (TAGE 463917)  (LOOP 1248)  (SC 58190)  (TOTAL 523355 bits 511 Kbits)  (TAGE 463917)  (LOOP 1248)  (SC 58190)  (TOTAL 523355 bits 511 Kbits)  (TAGE 463917)  (LOOP 1248)  (SC 58190)  (TOTAL 523355 bits 511 Kbits) "
     ]
    },
    {
     "name": "stdout",
     "output_type": "stream",
     "text": [
      "blender_8 Simple\n",
      "java -jar /home/shashankp/Desktop/GitHub_S/Advanced-CompArch/cs810_resources/Tejas/jars/tejas.jar /home/shashankp/Desktop/GitHub_S/Advanced-CompArch/Assignment_5/config_tigerlake_modified.xml /home/shashankp/Desktop/GitHub_S/Advanced-CompArch/Assignment_5/outputs/blender_8_Simple.stat \n"
     ]
    },
    {
     "name": "stderr",
     "output_type": "stream",
     "text": [
      " (TAGE 463917)  (LOOP 1248)  (SC 58190)  (TOTAL 523355 bits 511 Kbits)  (TAGE 463917)  (LOOP 1248)  (SC 58190)  (TOTAL 523355 bits 511 Kbits)  (TAGE 463917)  (LOOP 1248)  (SC 58190)  (TOTAL 523355 bits 511 Kbits)  (TAGE 463917)  (LOOP 1248)  (SC 58190)  (TOTAL 523355 bits 511 Kbits)  (TAGE 463917)  (LOOP 1248)  (SC 58190)  (TOTAL 523355 bits 511 Kbits)  (TAGE 463917)  (LOOP 1248)  (SC 58190)  (TOTAL 523355 bits 511 Kbits)  (TAGE 463917)  (LOOP 1248)  (SC 58190)  (TOTAL 523355 bits 511 Kbits)  (TAGE 463917)  (LOOP 1248)  (SC 58190)  (TOTAL 523355 bits 511 Kbits) "
     ]
    },
    {
     "name": "stdout",
     "output_type": "stream",
     "text": [
      "gimp_8 Simple\n",
      "java -jar /home/shashankp/Desktop/GitHub_S/Advanced-CompArch/cs810_resources/Tejas/jars/tejas.jar /home/shashankp/Desktop/GitHub_S/Advanced-CompArch/Assignment_5/config_tigerlake_modified.xml /home/shashankp/Desktop/GitHub_S/Advanced-CompArch/Assignment_5/outputs/gimp_8_Simple.stat \n"
     ]
    },
    {
     "name": "stderr",
     "output_type": "stream",
     "text": [
      " (TAGE 463917)  (LOOP 1248)  (SC 58190)  (TOTAL 523355 bits 511 Kbits)  (TAGE 463917)  (LOOP 1248)  (SC 58190)  (TOTAL 523355 bits 511 Kbits)  (TAGE 463917)  (LOOP 1248)  (SC 58190)  (TOTAL 523355 bits 511 Kbits)  (TAGE 463917)  (LOOP 1248)  (SC 58190)  (TOTAL 523355 bits 511 Kbits)  (TAGE 463917)  (LOOP 1248)  (SC 58190)  (TOTAL 523355 bits 511 Kbits)  (TAGE 463917)  (LOOP 1248)  (SC 58190)  (TOTAL 523355 bits 511 Kbits)  (TAGE 463917)  (LOOP 1248)  (SC 58190)  (TOTAL 523355 bits 511 Kbits)  (TAGE 463917)  (LOOP 1248)  (SC 58190)  (TOTAL 523355 bits 511 Kbits) "
     ]
    },
    {
     "name": "stdout",
     "output_type": "stream",
     "text": [
      "numenta-nab_8 Simple\n",
      "java -jar /home/shashankp/Desktop/GitHub_S/Advanced-CompArch/cs810_resources/Tejas/jars/tejas.jar /home/shashankp/Desktop/GitHub_S/Advanced-CompArch/Assignment_5/config_tigerlake_modified.xml /home/shashankp/Desktop/GitHub_S/Advanced-CompArch/Assignment_5/outputs/numenta-nab_8_Simple.stat \n"
     ]
    },
    {
     "name": "stderr",
     "output_type": "stream",
     "text": [
      " (TAGE 463917)  (LOOP 1248)  (SC 58190)  (TOTAL 523355 bits 511 Kbits)  (TAGE 463917)  (LOOP 1248)  (SC 58190)  (TOTAL 523355 bits 511 Kbits)  (TAGE 463917)  (LOOP 1248)  (SC 58190)  (TOTAL 523355 bits 511 Kbits)  (TAGE 463917)  (LOOP 1248)  (SC 58190)  (TOTAL 523355 bits 511 Kbits)  (TAGE 463917)  (LOOP 1248)  (SC 58190)  (TOTAL 523355 bits 511 Kbits)  (TAGE 463917)  (LOOP 1248)  (SC 58190)  (TOTAL 523355 bits 511 Kbits)  (TAGE 463917)  (LOOP 1248)  (SC 58190)  (TOTAL 523355 bits 511 Kbits)  (TAGE 463917)  (LOOP 1248)  (SC 58190)  (TOTAL 523355 bits 511 Kbits) "
     ]
    },
    {
     "name": "stdout",
     "output_type": "stream",
     "text": [
      "compress-7zip_8 Simple\n",
      "java -jar /home/shashankp/Desktop/GitHub_S/Advanced-CompArch/cs810_resources/Tejas/jars/tejas.jar /home/shashankp/Desktop/GitHub_S/Advanced-CompArch/Assignment_5/config_tigerlake_modified.xml /home/shashankp/Desktop/GitHub_S/Advanced-CompArch/Assignment_5/outputs/compress-7zip_8_Simple.stat \n",
      "openssl_8 Power4\n",
      "java -jar /home/shashankp/Desktop/GitHub_S/Advanced-CompArch/cs810_resources/Tejas/jars/tejas.jar /home/shashankp/Desktop/GitHub_S/Advanced-CompArch/Assignment_5/config_tigerlake_modified.xml /home/shashankp/Desktop/GitHub_S/Advanced-CompArch/Assignment_5/outputs/openssl_8_Power4.stat \n"
     ]
    },
    {
     "name": "stderr",
     "output_type": "stream",
     "text": [
      " (TAGE 463917)  (LOOP 1248)  (SC 58190)  (TOTAL 523355 bits 511 Kbits)  (TAGE 463917)  (LOOP 1248)  (SC 58190)  (TOTAL 523355 bits 511 Kbits)  (TAGE 463917)  (LOOP 1248)  (SC 58190)  (TOTAL 523355 bits 511 Kbits)  (TAGE 463917)  (LOOP 1248)  (SC 58190)  (TOTAL 523355 bits 511 Kbits)  (TAGE 463917)  (LOOP 1248)  (SC 58190)  (TOTAL 523355 bits 511 Kbits)  (TAGE 463917)  (LOOP 1248)  (SC 58190)  (TOTAL 523355 bits 511 Kbits)  (TAGE 463917)  (LOOP 1248)  (SC 58190)  (TOTAL 523355 bits 511 Kbits)  (TAGE 463917)  (LOOP 1248)  (SC 58190)  (TOTAL 523355 bits 511 Kbits) Error in reading input packet file /home/shashankp/Desktop/GitHub_S/Advanced-CompArch/phoronix_short_traces/compress-7zip_8/compress-7zip_0.gz\n",
      "Time : 0\n",
      "emulator command is : null\n",
      "java.lang.Exception\n",
      "\tat misc.Error.showErrorAndExit(Error.java:39)\n",
      "\tat emulatorinterface.communication.filePacket.FilePacket.<init>(FilePacket.java:95)\n",
      "\tat main.Main.startCommunicationChannel(Main.java:202)\n",
      "\tat main.Main.main(Main.java:117)\n",
      " (TAGE 463917)  (LOOP 1248)  (SC 58190)  (TOTAL 523355 bits 511 Kbits)  (TAGE 463917)  (LOOP 1248)  (SC 58190)  (TOTAL 523355 bits 511 Kbits)  (TAGE 463917)  (LOOP 1248)  (SC 58190)  (TOTAL 523355 bits 511 Kbits)  (TAGE 463917)  (LOOP 1248)  (SC 58190)  (TOTAL 523355 bits 511 Kbits)  (TAGE 463917)  (LOOP 1248)  (SC 58190)  (TOTAL 523355 bits 511 Kbits)  (TAGE 463917)  (LOOP 1248)  (SC 58190)  (TOTAL 523355 bits 511 Kbits)  (TAGE 463917)  (LOOP 1248)  (SC 58190)  (TOTAL 523355 bits 511 Kbits)  (TAGE 463917)  (LOOP 1248)  (SC 58190)  (TOTAL 523355 bits 511 Kbits) "
     ]
    },
    {
     "name": "stdout",
     "output_type": "stream",
     "text": [
      "blender_8 Power4\n",
      "java -jar /home/shashankp/Desktop/GitHub_S/Advanced-CompArch/cs810_resources/Tejas/jars/tejas.jar /home/shashankp/Desktop/GitHub_S/Advanced-CompArch/Assignment_5/config_tigerlake_modified.xml /home/shashankp/Desktop/GitHub_S/Advanced-CompArch/Assignment_5/outputs/blender_8_Power4.stat \n"
     ]
    },
    {
     "name": "stderr",
     "output_type": "stream",
     "text": [
      " (TAGE 463917)  (LOOP 1248)  (SC 58190)  (TOTAL 523355 bits 511 Kbits)  (TAGE 463917)  (LOOP 1248)  (SC 58190)  (TOTAL 523355 bits 511 Kbits)  (TAGE 463917)  (LOOP 1248)  (SC 58190)  (TOTAL 523355 bits 511 Kbits)  (TAGE 463917)  (LOOP 1248)  (SC 58190)  (TOTAL 523355 bits 511 Kbits)  (TAGE 463917)  (LOOP 1248)  (SC 58190)  (TOTAL 523355 bits 511 Kbits)  (TAGE 463917)  (LOOP 1248)  (SC 58190)  (TOTAL 523355 bits 511 Kbits)  (TAGE 463917)  (LOOP 1248)  (SC 58190)  (TOTAL 523355 bits 511 Kbits)  (TAGE 463917)  (LOOP 1248)  (SC 58190)  (TOTAL 523355 bits 511 Kbits) "
     ]
    },
    {
     "name": "stdout",
     "output_type": "stream",
     "text": [
      "gimp_8 Power4\n",
      "java -jar /home/shashankp/Desktop/GitHub_S/Advanced-CompArch/cs810_resources/Tejas/jars/tejas.jar /home/shashankp/Desktop/GitHub_S/Advanced-CompArch/Assignment_5/config_tigerlake_modified.xml /home/shashankp/Desktop/GitHub_S/Advanced-CompArch/Assignment_5/outputs/gimp_8_Power4.stat \n"
     ]
    },
    {
     "name": "stderr",
     "output_type": "stream",
     "text": [
      " (TAGE 463917)  (LOOP 1248)  (SC 58190)  (TOTAL 523355 bits 511 Kbits)  (TAGE 463917)  (LOOP 1248)  (SC 58190)  (TOTAL 523355 bits 511 Kbits)  (TAGE 463917)  (LOOP 1248)  (SC 58190)  (TOTAL 523355 bits 511 Kbits)  (TAGE 463917)  (LOOP 1248)  (SC 58190)  (TOTAL 523355 bits 511 Kbits)  (TAGE 463917)  (LOOP 1248)  (SC 58190)  (TOTAL 523355 bits 511 Kbits)  (TAGE 463917)  (LOOP 1248)  (SC 58190)  (TOTAL 523355 bits 511 Kbits)  (TAGE 463917)  (LOOP 1248)  (SC 58190)  (TOTAL 523355 bits 511 Kbits)  (TAGE 463917)  (LOOP 1248)  (SC 58190)  (TOTAL 523355 bits 511 Kbits) "
     ]
    },
    {
     "name": "stdout",
     "output_type": "stream",
     "text": [
      "numenta-nab_8 Power4\n",
      "java -jar /home/shashankp/Desktop/GitHub_S/Advanced-CompArch/cs810_resources/Tejas/jars/tejas.jar /home/shashankp/Desktop/GitHub_S/Advanced-CompArch/Assignment_5/config_tigerlake_modified.xml /home/shashankp/Desktop/GitHub_S/Advanced-CompArch/Assignment_5/outputs/numenta-nab_8_Power4.stat \n"
     ]
    },
    {
     "name": "stderr",
     "output_type": "stream",
     "text": [
      " (TAGE 463917)  (LOOP 1248)  (SC 58190)  (TOTAL 523355 bits 511 Kbits)  (TAGE 463917)  (LOOP 1248)  (SC 58190)  (TOTAL 523355 bits 511 Kbits)  (TAGE 463917)  (LOOP 1248)  (SC 58190)  (TOTAL 523355 bits 511 Kbits)  (TAGE 463917)  (LOOP 1248)  (SC 58190)  (TOTAL 523355 bits 511 Kbits)  (TAGE 463917)  (LOOP 1248)  (SC 58190)  (TOTAL 523355 bits 511 Kbits)  (TAGE 463917)  (LOOP 1248)  (SC 58190)  (TOTAL 523355 bits 511 Kbits)  (TAGE 463917)  (LOOP 1248)  (SC 58190)  (TOTAL 523355 bits 511 Kbits)  (TAGE 463917)  (LOOP 1248)  (SC 58190)  (TOTAL 523355 bits 511 Kbits) "
     ]
    },
    {
     "name": "stdout",
     "output_type": "stream",
     "text": [
      "compress-7zip_8 Power4\n",
      "java -jar /home/shashankp/Desktop/GitHub_S/Advanced-CompArch/cs810_resources/Tejas/jars/tejas.jar /home/shashankp/Desktop/GitHub_S/Advanced-CompArch/Assignment_5/config_tigerlake_modified.xml /home/shashankp/Desktop/GitHub_S/Advanced-CompArch/Assignment_5/outputs/compress-7zip_8_Power4.stat \n",
      "openssl_8 Bingo\n",
      "java -jar /home/shashankp/Desktop/GitHub_S/Advanced-CompArch/cs810_resources/Tejas/jars/tejas.jar /home/shashankp/Desktop/GitHub_S/Advanced-CompArch/Assignment_5/config_tigerlake_modified.xml /home/shashankp/Desktop/GitHub_S/Advanced-CompArch/Assignment_5/outputs/openssl_8_Bingo.stat \n"
     ]
    },
    {
     "name": "stderr",
     "output_type": "stream",
     "text": [
      " (TAGE 463917)  (LOOP 1248)  (SC 58190)  (TOTAL 523355 bits 511 Kbits)  (TAGE 463917)  (LOOP 1248)  (SC 58190)  (TOTAL 523355 bits 511 Kbits)  (TAGE 463917)  (LOOP 1248)  (SC 58190)  (TOTAL 523355 bits 511 Kbits)  (TAGE 463917)  (LOOP 1248)  (SC 58190)  (TOTAL 523355 bits 511 Kbits)  (TAGE 463917)  (LOOP 1248)  (SC 58190)  (TOTAL 523355 bits 511 Kbits)  (TAGE 463917)  (LOOP 1248)  (SC 58190)  (TOTAL 523355 bits 511 Kbits)  (TAGE 463917)  (LOOP 1248)  (SC 58190)  (TOTAL 523355 bits 511 Kbits)  (TAGE 463917)  (LOOP 1248)  (SC 58190)  (TOTAL 523355 bits 511 Kbits) Error in reading input packet file /home/shashankp/Desktop/GitHub_S/Advanced-CompArch/phoronix_short_traces/compress-7zip_8/compress-7zip_0.gz\n",
      "Time : 0\n",
      "emulator command is : null\n",
      "java.lang.Exception\n",
      "\tat misc.Error.showErrorAndExit(Error.java:39)\n",
      "\tat emulatorinterface.communication.filePacket.FilePacket.<init>(FilePacket.java:95)\n",
      "\tat main.Main.startCommunicationChannel(Main.java:202)\n",
      "\tat main.Main.main(Main.java:117)\n",
      " (TAGE 463917)  (LOOP 1248)  (SC 58190)  (TOTAL 523355 bits 511 Kbits)  (TAGE 463917)  (LOOP 1248)  (SC 58190)  (TOTAL 523355 bits 511 Kbits)  (TAGE 463917)  (LOOP 1248)  (SC 58190)  (TOTAL 523355 bits 511 Kbits)  (TAGE 463917)  (LOOP 1248)  (SC 58190)  (TOTAL 523355 bits 511 Kbits)  (TAGE 463917)  (LOOP 1248)  (SC 58190)  (TOTAL 523355 bits 511 Kbits)  (TAGE 463917)  (LOOP 1248)  (SC 58190)  (TOTAL 523355 bits 511 Kbits)  (TAGE 463917)  (LOOP 1248)  (SC 58190)  (TOTAL 523355 bits 511 Kbits)  (TAGE 463917)  (LOOP 1248)  (SC 58190)  (TOTAL 523355 bits 511 Kbits) "
     ]
    },
    {
     "name": "stdout",
     "output_type": "stream",
     "text": [
      "blender_8 Bingo\n",
      "java -jar /home/shashankp/Desktop/GitHub_S/Advanced-CompArch/cs810_resources/Tejas/jars/tejas.jar /home/shashankp/Desktop/GitHub_S/Advanced-CompArch/Assignment_5/config_tigerlake_modified.xml /home/shashankp/Desktop/GitHub_S/Advanced-CompArch/Assignment_5/outputs/blender_8_Bingo.stat \n"
     ]
    },
    {
     "name": "stderr",
     "output_type": "stream",
     "text": [
      " (TAGE 463917)  (LOOP 1248)  (SC 58190)  (TOTAL 523355 bits 511 Kbits)  (TAGE 463917)  (LOOP 1248)  (SC 58190)  (TOTAL 523355 bits 511 Kbits)  (TAGE 463917)  (LOOP 1248)  (SC 58190)  (TOTAL 523355 bits 511 Kbits)  (TAGE 463917)  (LOOP 1248)  (SC 58190)  (TOTAL 523355 bits 511 Kbits)  (TAGE 463917)  (LOOP 1248)  (SC 58190)  (TOTAL 523355 bits 511 Kbits)  (TAGE 463917)  (LOOP 1248)  (SC 58190)  (TOTAL 523355 bits 511 Kbits)  (TAGE 463917)  (LOOP 1248)  (SC 58190)  (TOTAL 523355 bits 511 Kbits)  (TAGE 463917)  (LOOP 1248)  (SC 58190)  (TOTAL 523355 bits 511 Kbits) "
     ]
    },
    {
     "name": "stdout",
     "output_type": "stream",
     "text": [
      "gimp_8 Bingo\n",
      "java -jar /home/shashankp/Desktop/GitHub_S/Advanced-CompArch/cs810_resources/Tejas/jars/tejas.jar /home/shashankp/Desktop/GitHub_S/Advanced-CompArch/Assignment_5/config_tigerlake_modified.xml /home/shashankp/Desktop/GitHub_S/Advanced-CompArch/Assignment_5/outputs/gimp_8_Bingo.stat \n"
     ]
    },
    {
     "name": "stderr",
     "output_type": "stream",
     "text": [
      " (TAGE 463917)  (LOOP 1248)  (SC 58190)  (TOTAL 523355 bits 511 Kbits)  (TAGE 463917)  (LOOP 1248)  (SC 58190)  (TOTAL 523355 bits 511 Kbits)  (TAGE 463917)  (LOOP 1248)  (SC 58190)  (TOTAL 523355 bits 511 Kbits)  (TAGE 463917)  (LOOP 1248)  (SC 58190)  (TOTAL 523355 bits 511 Kbits)  (TAGE 463917)  (LOOP 1248)  (SC 58190)  (TOTAL 523355 bits 511 Kbits)  (TAGE 463917)  (LOOP 1248)  (SC 58190)  (TOTAL 523355 bits 511 Kbits)  (TAGE 463917)  (LOOP 1248)  (SC 58190)  (TOTAL 523355 bits 511 Kbits)  (TAGE 463917)  (LOOP 1248)  (SC 58190)  (TOTAL 523355 bits 511 Kbits) "
     ]
    },
    {
     "name": "stdout",
     "output_type": "stream",
     "text": [
      "numenta-nab_8 Bingo\n",
      "java -jar /home/shashankp/Desktop/GitHub_S/Advanced-CompArch/cs810_resources/Tejas/jars/tejas.jar /home/shashankp/Desktop/GitHub_S/Advanced-CompArch/Assignment_5/config_tigerlake_modified.xml /home/shashankp/Desktop/GitHub_S/Advanced-CompArch/Assignment_5/outputs/numenta-nab_8_Bingo.stat \n"
     ]
    },
    {
     "name": "stderr",
     "output_type": "stream",
     "text": [
      " (TAGE 463917)  (LOOP 1248)  (SC 58190)  (TOTAL 523355 bits 511 Kbits)  (TAGE 463917)  (LOOP 1248)  (SC 58190)  (TOTAL 523355 bits 511 Kbits)  (TAGE 463917)  (LOOP 1248)  (SC 58190)  (TOTAL 523355 bits 511 Kbits)  (TAGE 463917)  (LOOP 1248)  (SC 58190)  (TOTAL 523355 bits 511 Kbits)  (TAGE 463917)  (LOOP 1248)  (SC 58190)  (TOTAL 523355 bits 511 Kbits)  (TAGE 463917)  (LOOP 1248)  (SC 58190)  (TOTAL 523355 bits 511 Kbits)  (TAGE 463917)  (LOOP 1248)  (SC 58190)  (TOTAL 523355 bits 511 Kbits)  (TAGE 463917)  (LOOP 1248)  (SC 58190)  (TOTAL 523355 bits 511 Kbits) "
     ]
    },
    {
     "name": "stdout",
     "output_type": "stream",
     "text": [
      "compress-7zip_8 Bingo\n",
      "java -jar /home/shashankp/Desktop/GitHub_S/Advanced-CompArch/cs810_resources/Tejas/jars/tejas.jar /home/shashankp/Desktop/GitHub_S/Advanced-CompArch/Assignment_5/config_tigerlake_modified.xml /home/shashankp/Desktop/GitHub_S/Advanced-CompArch/Assignment_5/outputs/compress-7zip_8_Bingo.stat \n",
      "openssl_8 None\n",
      "java -jar /home/shashankp/Desktop/GitHub_S/Advanced-CompArch/cs810_resources/Tejas/jars/tejas.jar /home/shashankp/Desktop/GitHub_S/Advanced-CompArch/Assignment_5/config_tigerlake_modified.xml /home/shashankp/Desktop/GitHub_S/Advanced-CompArch/Assignment_5/outputs/openssl_8_None.stat \n"
     ]
    },
    {
     "name": "stderr",
     "output_type": "stream",
     "text": [
      " (TAGE 463917)  (LOOP 1248)  (SC 58190)  (TOTAL 523355 bits 511 Kbits)  (TAGE 463917)  (LOOP 1248)  (SC 58190)  (TOTAL 523355 bits 511 Kbits)  (TAGE 463917)  (LOOP 1248)  (SC 58190)  (TOTAL 523355 bits 511 Kbits)  (TAGE 463917)  (LOOP 1248)  (SC 58190)  (TOTAL 523355 bits 511 Kbits)  (TAGE 463917)  (LOOP 1248)  (SC 58190)  (TOTAL 523355 bits 511 Kbits)  (TAGE 463917)  (LOOP 1248)  (SC 58190)  (TOTAL 523355 bits 511 Kbits)  (TAGE 463917)  (LOOP 1248)  (SC 58190)  (TOTAL 523355 bits 511 Kbits)  (TAGE 463917)  (LOOP 1248)  (SC 58190)  (TOTAL 523355 bits 511 Kbits) Error in reading input packet file /home/shashankp/Desktop/GitHub_S/Advanced-CompArch/phoronix_short_traces/compress-7zip_8/compress-7zip_0.gz\n",
      "Time : 0\n",
      "emulator command is : null\n",
      "java.lang.Exception\n",
      "\tat misc.Error.showErrorAndExit(Error.java:39)\n",
      "\tat emulatorinterface.communication.filePacket.FilePacket.<init>(FilePacket.java:95)\n",
      "\tat main.Main.startCommunicationChannel(Main.java:202)\n",
      "\tat main.Main.main(Main.java:117)\n",
      " (TAGE 463917)  (LOOP 1248)  (SC 58190)  (TOTAL 523355 bits 511 Kbits)  (TAGE 463917)  (LOOP 1248)  (SC 58190)  (TOTAL 523355 bits 511 Kbits)  (TAGE 463917)  (LOOP 1248)  (SC 58190)  (TOTAL 523355 bits 511 Kbits)  (TAGE 463917)  (LOOP 1248)  (SC 58190)  (TOTAL 523355 bits 511 Kbits)  (TAGE 463917)  (LOOP 1248)  (SC 58190)  (TOTAL 523355 bits 511 Kbits)  (TAGE 463917)  (LOOP 1248)  (SC 58190)  (TOTAL 523355 bits 511 Kbits)  (TAGE 463917)  (LOOP 1248)  (SC 58190)  (TOTAL 523355 bits 511 Kbits)  (TAGE 463917)  (LOOP 1248)  (SC 58190)  (TOTAL 523355 bits 511 Kbits) "
     ]
    },
    {
     "name": "stdout",
     "output_type": "stream",
     "text": [
      "blender_8 None\n",
      "java -jar /home/shashankp/Desktop/GitHub_S/Advanced-CompArch/cs810_resources/Tejas/jars/tejas.jar /home/shashankp/Desktop/GitHub_S/Advanced-CompArch/Assignment_5/config_tigerlake_modified.xml /home/shashankp/Desktop/GitHub_S/Advanced-CompArch/Assignment_5/outputs/blender_8_None.stat \n"
     ]
    },
    {
     "name": "stderr",
     "output_type": "stream",
     "text": [
      " (TAGE 463917)  (LOOP 1248)  (SC 58190)  (TOTAL 523355 bits 511 Kbits)  (TAGE 463917)  (LOOP 1248)  (SC 58190)  (TOTAL 523355 bits 511 Kbits)  (TAGE 463917)  (LOOP 1248)  (SC 58190)  (TOTAL 523355 bits 511 Kbits)  (TAGE 463917)  (LOOP 1248)  (SC 58190)  (TOTAL 523355 bits 511 Kbits)  (TAGE 463917)  (LOOP 1248)  (SC 58190)  (TOTAL 523355 bits 511 Kbits)  (TAGE 463917)  (LOOP 1248)  (SC 58190)  (TOTAL 523355 bits 511 Kbits)  (TAGE 463917)  (LOOP 1248)  (SC 58190)  (TOTAL 523355 bits 511 Kbits)  (TAGE 463917)  (LOOP 1248)  (SC 58190)  (TOTAL 523355 bits 511 Kbits) "
     ]
    },
    {
     "name": "stdout",
     "output_type": "stream",
     "text": [
      "gimp_8 None\n",
      "java -jar /home/shashankp/Desktop/GitHub_S/Advanced-CompArch/cs810_resources/Tejas/jars/tejas.jar /home/shashankp/Desktop/GitHub_S/Advanced-CompArch/Assignment_5/config_tigerlake_modified.xml /home/shashankp/Desktop/GitHub_S/Advanced-CompArch/Assignment_5/outputs/gimp_8_None.stat \n"
     ]
    },
    {
     "name": "stderr",
     "output_type": "stream",
     "text": [
      " (TAGE 463917)  (LOOP 1248)  (SC 58190)  (TOTAL 523355 bits 511 Kbits)  (TAGE 463917)  (LOOP 1248)  (SC 58190)  (TOTAL 523355 bits 511 Kbits)  (TAGE 463917)  (LOOP 1248)  (SC 58190)  (TOTAL 523355 bits 511 Kbits)  (TAGE 463917)  (LOOP 1248)  (SC 58190)  (TOTAL 523355 bits 511 Kbits)  (TAGE 463917)  (LOOP 1248)  (SC 58190)  (TOTAL 523355 bits 511 Kbits)  (TAGE 463917)  (LOOP 1248)  (SC 58190)  (TOTAL 523355 bits 511 Kbits)  (TAGE 463917)  (LOOP 1248)  (SC 58190)  (TOTAL 523355 bits 511 Kbits)  (TAGE 463917)  (LOOP 1248)  (SC 58190)  (TOTAL 523355 bits 511 Kbits) "
     ]
    },
    {
     "name": "stdout",
     "output_type": "stream",
     "text": [
      "numenta-nab_8 None\n",
      "java -jar /home/shashankp/Desktop/GitHub_S/Advanced-CompArch/cs810_resources/Tejas/jars/tejas.jar /home/shashankp/Desktop/GitHub_S/Advanced-CompArch/Assignment_5/config_tigerlake_modified.xml /home/shashankp/Desktop/GitHub_S/Advanced-CompArch/Assignment_5/outputs/numenta-nab_8_None.stat \n"
     ]
    },
    {
     "name": "stderr",
     "output_type": "stream",
     "text": [
      " (TAGE 463917)  (LOOP 1248)  (SC 58190)  (TOTAL 523355 bits 511 Kbits)  (TAGE 463917)  (LOOP 1248)  (SC 58190)  (TOTAL 523355 bits 511 Kbits)  (TAGE 463917)  (LOOP 1248)  (SC 58190)  (TOTAL 523355 bits 511 Kbits)  (TAGE 463917)  (LOOP 1248)  (SC 58190)  (TOTAL 523355 bits 511 Kbits)  (TAGE 463917)  (LOOP 1248)  (SC 58190)  (TOTAL 523355 bits 511 Kbits)  (TAGE 463917)  (LOOP 1248)  (SC 58190)  (TOTAL 523355 bits 511 Kbits)  (TAGE 463917)  (LOOP 1248)  (SC 58190)  (TOTAL 523355 bits 511 Kbits)  (TAGE 463917)  (LOOP 1248)  (SC 58190)  (TOTAL 523355 bits 511 Kbits) "
     ]
    },
    {
     "name": "stdout",
     "output_type": "stream",
     "text": [
      "compress-7zip_8 None\n",
      "java -jar /home/shashankp/Desktop/GitHub_S/Advanced-CompArch/cs810_resources/Tejas/jars/tejas.jar /home/shashankp/Desktop/GitHub_S/Advanced-CompArch/Assignment_5/config_tigerlake_modified.xml /home/shashankp/Desktop/GitHub_S/Advanced-CompArch/Assignment_5/outputs/compress-7zip_8_None.stat \n"
     ]
    },
    {
     "name": "stderr",
     "output_type": "stream",
     "text": [
      " (TAGE 463917)  (LOOP 1248)  (SC 58190)  (TOTAL 523355 bits 511 Kbits)  (TAGE 463917)  (LOOP 1248)  (SC 58190)  (TOTAL 523355 bits 511 Kbits)  (TAGE 463917)  (LOOP 1248)  (SC 58190)  (TOTAL 523355 bits 511 Kbits)  (TAGE 463917)  (LOOP 1248)  (SC 58190)  (TOTAL 523355 bits 511 Kbits)  (TAGE 463917)  (LOOP 1248)  (SC 58190)  (TOTAL 523355 bits 511 Kbits)  (TAGE 463917)  (LOOP 1248)  (SC 58190)  (TOTAL 523355 bits 511 Kbits)  (TAGE 463917)  (LOOP 1248)  (SC 58190)  (TOTAL 523355 bits 511 Kbits)  (TAGE 463917)  (LOOP 1248)  (SC 58190)  (TOTAL 523355 bits 511 Kbits) Error in reading input packet file /home/shashankp/Desktop/GitHub_S/Advanced-CompArch/phoronix_short_traces/compress-7zip_8/compress-7zip_0.gz\n",
      "Time : 0\n",
      "emulator command is : null\n",
      "java.lang.Exception\n",
      "\tat misc.Error.showErrorAndExit(Error.java:39)\n",
      "\tat emulatorinterface.communication.filePacket.FilePacket.<init>(FilePacket.java:95)\n",
      "\tat main.Main.startCommunicationChannel(Main.java:202)\n",
      "\tat main.Main.main(Main.java:117)\n"
     ]
    }
   ],
   "source": [
    "benchmark_path = \"/home/shashankp/Desktop/GitHub_S/Advanced-CompArch/phoronix_short_traces/\"\n",
    "benchmarks = os.listdir(benchmark_path)\n",
    "bad_bench = [\"intel-mlc_8\", \"stream_8\"]\n",
    "benchmarks = [x for x in benchmarks if x not in bad_bench and \"_8\" in x]\n",
    "\n",
    "total = len(prefetchers) * len(benchmarks)\n",
    "pb = tqdm(total=total)\n",
    "for prefetcher in prefetchers:\n",
    "    for benchmark in benchmarks:\n",
    "        pb.update(1)\n",
    "        print(benchmark, prefetcher)\n",
    "        key_vals = {\n",
    "            \"isVISATrace\": \"false\",\n",
    "            \"L3Cache_12M_16\": prefetcher,\n",
    "            \"BenchmarkPath\": benchmark_path+benchmark+f\"/{benchmark.split('_')[0]}\",\n",
    "        }\n",
    "        replace_key_in_xml(config_file_path, key_vals, output_file)\n",
    "        file_name = f\"{benchmark}_{prefetcher}\"\n",
    "        run(file_name)"
   ]
  },
  {
   "cell_type": "markdown",
   "metadata": {},
   "source": [
    "# Old Benchmarks"
   ]
  },
  {
   "cell_type": "code",
   "execution_count": 65,
   "metadata": {},
   "outputs": [
    {
     "data": {
      "application/vnd.jupyter.widget-view+json": {
       "model_id": "c23d0bf006994f24ab61b8643f79a0ab",
       "version_major": 2,
       "version_minor": 0
      },
      "text/plain": [
       "  0%|          | 0/20 [00:00<?, ?it/s]"
      ]
     },
     "metadata": {},
     "output_type": "display_data"
    },
    {
     "name": "stdout",
     "output_type": "stream",
     "text": [
      "mcf Simple\n",
      "java -jar /home/shashankp/Desktop/GitHub_S/Advanced-CompArch/cs810_resources/Tejas/jars/tejas.jar /home/shashankp/Desktop/GitHub_S/Advanced-CompArch/Assignment_5/config_tigerlake_modified.xml /home/shashankp/Desktop/GitHub_S/Advanced-CompArch/Assignment_5/outputs/mcf_Simple.stat /home/shashankp/Desktop/GitHub_S/Advanced-CompArch/cs810_resources/CPU2017_benchmarks/tejas_traces/mcf\n"
     ]
    },
    {
     "name": "stderr",
     "output_type": "stream",
     "text": [
      " (TAGE 463917)  (LOOP 1248)  (SC 58190)  (TOTAL 523355 bits 511 Kbits)  (TAGE 463917)  (LOOP 1248)  (SC 58190)  (TOTAL 523355 bits 511 Kbits)  (TAGE 463917)  (LOOP 1248)  (SC 58190)  (TOTAL 523355 bits 511 Kbits)  (TAGE 463917)  (LOOP 1248)  (SC 58190)  (TOTAL 523355 bits 511 Kbits)  (TAGE 463917)  (LOOP 1248)  (SC 58190)  (TOTAL 523355 bits 511 Kbits)  (TAGE 463917)  (LOOP 1248)  (SC 58190)  (TOTAL 523355 bits 511 Kbits)  (TAGE 463917)  (LOOP 1248)  (SC 58190)  (TOTAL 523355 bits 511 Kbits)  (TAGE 463917)  (LOOP 1248)  (SC 58190)  (TOTAL 523355 bits 511 Kbits) "
     ]
    },
    {
     "name": "stdout",
     "output_type": "stream",
     "text": [
      "namd Simple\n",
      "java -jar /home/shashankp/Desktop/GitHub_S/Advanced-CompArch/cs810_resources/Tejas/jars/tejas.jar /home/shashankp/Desktop/GitHub_S/Advanced-CompArch/Assignment_5/config_tigerlake_modified.xml /home/shashankp/Desktop/GitHub_S/Advanced-CompArch/Assignment_5/outputs/namd_Simple.stat /home/shashankp/Desktop/GitHub_S/Advanced-CompArch/cs810_resources/CPU2017_benchmarks/tejas_traces/namd\n"
     ]
    },
    {
     "name": "stderr",
     "output_type": "stream",
     "text": [
      " (TAGE 463917)  (LOOP 1248)  (SC 58190)  (TOTAL 523355 bits 511 Kbits)  (TAGE 463917)  (LOOP 1248)  (SC 58190)  (TOTAL 523355 bits 511 Kbits)  (TAGE 463917)  (LOOP 1248)  (SC 58190)  (TOTAL 523355 bits 511 Kbits)  (TAGE 463917)  (LOOP 1248)  (SC 58190)  (TOTAL 523355 bits 511 Kbits)  (TAGE 463917)  (LOOP 1248)  (SC 58190)  (TOTAL 523355 bits 511 Kbits)  (TAGE 463917)  (LOOP 1248)  (SC 58190)  (TOTAL 523355 bits 511 Kbits)  (TAGE 463917)  (LOOP 1248)  (SC 58190)  (TOTAL 523355 bits 511 Kbits)  (TAGE 463917)  (LOOP 1248)  (SC 58190)  (TOTAL 523355 bits 511 Kbits) "
     ]
    },
    {
     "name": "stdout",
     "output_type": "stream",
     "text": [
      "xalancbmk Simple\n",
      "java -jar /home/shashankp/Desktop/GitHub_S/Advanced-CompArch/cs810_resources/Tejas/jars/tejas.jar /home/shashankp/Desktop/GitHub_S/Advanced-CompArch/Assignment_5/config_tigerlake_modified.xml /home/shashankp/Desktop/GitHub_S/Advanced-CompArch/Assignment_5/outputs/xalancbmk_Simple.stat /home/shashankp/Desktop/GitHub_S/Advanced-CompArch/cs810_resources/CPU2017_benchmarks/tejas_traces/xalancbmk\n"
     ]
    },
    {
     "name": "stderr",
     "output_type": "stream",
     "text": [
      " (TAGE 463917)  (LOOP 1248)  (SC 58190)  (TOTAL 523355 bits 511 Kbits)  (TAGE 463917)  (LOOP 1248)  (SC 58190)  (TOTAL 523355 bits 511 Kbits)  (TAGE 463917)  (LOOP 1248)  (SC 58190)  (TOTAL 523355 bits 511 Kbits)  (TAGE 463917)  (LOOP 1248)  (SC 58190)  (TOTAL 523355 bits 511 Kbits)  (TAGE 463917)  (LOOP 1248)  (SC 58190)  (TOTAL 523355 bits 511 Kbits)  (TAGE 463917)  (LOOP 1248)  (SC 58190)  (TOTAL 523355 bits 511 Kbits)  (TAGE 463917)  (LOOP 1248)  (SC 58190)  (TOTAL 523355 bits 511 Kbits)  (TAGE 463917)  (LOOP 1248)  (SC 58190)  (TOTAL 523355 bits 511 Kbits) "
     ]
    },
    {
     "name": "stdout",
     "output_type": "stream",
     "text": [
      "lbm Simple\n",
      "java -jar /home/shashankp/Desktop/GitHub_S/Advanced-CompArch/cs810_resources/Tejas/jars/tejas.jar /home/shashankp/Desktop/GitHub_S/Advanced-CompArch/Assignment_5/config_tigerlake_modified.xml /home/shashankp/Desktop/GitHub_S/Advanced-CompArch/Assignment_5/outputs/lbm_Simple.stat /home/shashankp/Desktop/GitHub_S/Advanced-CompArch/cs810_resources/CPU2017_benchmarks/tejas_traces/lbm\n"
     ]
    },
    {
     "name": "stderr",
     "output_type": "stream",
     "text": [
      " (TAGE 463917)  (LOOP 1248)  (SC 58190)  (TOTAL 523355 bits 511 Kbits)  (TAGE 463917)  (LOOP 1248)  (SC 58190)  (TOTAL 523355 bits 511 Kbits)  (TAGE 463917)  (LOOP 1248)  (SC 58190)  (TOTAL 523355 bits 511 Kbits)  (TAGE 463917)  (LOOP 1248)  (SC 58190)  (TOTAL 523355 bits 511 Kbits)  (TAGE 463917)  (LOOP 1248)  (SC 58190)  (TOTAL 523355 bits 511 Kbits)  (TAGE 463917)  (LOOP 1248)  (SC 58190)  (TOTAL 523355 bits 511 Kbits)  (TAGE 463917)  (LOOP 1248)  (SC 58190)  (TOTAL 523355 bits 511 Kbits)  (TAGE 463917)  (LOOP 1248)  (SC 58190)  (TOTAL 523355 bits 511 Kbits) "
     ]
    },
    {
     "name": "stdout",
     "output_type": "stream",
     "text": [
      "gcc Simple\n",
      "java -jar /home/shashankp/Desktop/GitHub_S/Advanced-CompArch/cs810_resources/Tejas/jars/tejas.jar /home/shashankp/Desktop/GitHub_S/Advanced-CompArch/Assignment_5/config_tigerlake_modified.xml /home/shashankp/Desktop/GitHub_S/Advanced-CompArch/Assignment_5/outputs/gcc_Simple.stat /home/shashankp/Desktop/GitHub_S/Advanced-CompArch/cs810_resources/CPU2017_benchmarks/tejas_traces/gcc\n"
     ]
    },
    {
     "name": "stderr",
     "output_type": "stream",
     "text": [
      " (TAGE 463917)  (LOOP 1248)  (SC 58190)  (TOTAL 523355 bits 511 Kbits)  (TAGE 463917)  (LOOP 1248)  (SC 58190)  (TOTAL 523355 bits 511 Kbits)  (TAGE 463917)  (LOOP 1248)  (SC 58190)  (TOTAL 523355 bits 511 Kbits)  (TAGE 463917)  (LOOP 1248)  (SC 58190)  (TOTAL 523355 bits 511 Kbits)  (TAGE 463917)  (LOOP 1248)  (SC 58190)  (TOTAL 523355 bits 511 Kbits)  (TAGE 463917)  (LOOP 1248)  (SC 58190)  (TOTAL 523355 bits 511 Kbits)  (TAGE 463917)  (LOOP 1248)  (SC 58190)  (TOTAL 523355 bits 511 Kbits)  (TAGE 463917)  (LOOP 1248)  (SC 58190)  (TOTAL 523355 bits 511 Kbits) "
     ]
    },
    {
     "name": "stdout",
     "output_type": "stream",
     "text": [
      "mcf Power4\n",
      "java -jar /home/shashankp/Desktop/GitHub_S/Advanced-CompArch/cs810_resources/Tejas/jars/tejas.jar /home/shashankp/Desktop/GitHub_S/Advanced-CompArch/Assignment_5/config_tigerlake_modified.xml /home/shashankp/Desktop/GitHub_S/Advanced-CompArch/Assignment_5/outputs/mcf_Power4.stat /home/shashankp/Desktop/GitHub_S/Advanced-CompArch/cs810_resources/CPU2017_benchmarks/tejas_traces/mcf\n"
     ]
    },
    {
     "name": "stderr",
     "output_type": "stream",
     "text": [
      " (TAGE 463917)  (LOOP 1248)  (SC 58190)  (TOTAL 523355 bits 511 Kbits)  (TAGE 463917)  (LOOP 1248)  (SC 58190)  (TOTAL 523355 bits 511 Kbits)  (TAGE 463917)  (LOOP 1248)  (SC 58190)  (TOTAL 523355 bits 511 Kbits)  (TAGE 463917)  (LOOP 1248)  (SC 58190)  (TOTAL 523355 bits 511 Kbits)  (TAGE 463917)  (LOOP 1248)  (SC 58190)  (TOTAL 523355 bits 511 Kbits)  (TAGE 463917)  (LOOP 1248)  (SC 58190)  (TOTAL 523355 bits 511 Kbits)  (TAGE 463917)  (LOOP 1248)  (SC 58190)  (TOTAL 523355 bits 511 Kbits)  (TAGE 463917)  (LOOP 1248)  (SC 58190)  (TOTAL 523355 bits 511 Kbits) "
     ]
    },
    {
     "name": "stdout",
     "output_type": "stream",
     "text": [
      "namd Power4\n",
      "java -jar /home/shashankp/Desktop/GitHub_S/Advanced-CompArch/cs810_resources/Tejas/jars/tejas.jar /home/shashankp/Desktop/GitHub_S/Advanced-CompArch/Assignment_5/config_tigerlake_modified.xml /home/shashankp/Desktop/GitHub_S/Advanced-CompArch/Assignment_5/outputs/namd_Power4.stat /home/shashankp/Desktop/GitHub_S/Advanced-CompArch/cs810_resources/CPU2017_benchmarks/tejas_traces/namd\n"
     ]
    },
    {
     "name": "stderr",
     "output_type": "stream",
     "text": [
      " (TAGE 463917)  (LOOP 1248)  (SC 58190)  (TOTAL 523355 bits 511 Kbits)  (TAGE 463917)  (LOOP 1248)  (SC 58190)  (TOTAL 523355 bits 511 Kbits)  (TAGE 463917)  (LOOP 1248)  (SC 58190)  (TOTAL 523355 bits 511 Kbits)  (TAGE 463917)  (LOOP 1248)  (SC 58190)  (TOTAL 523355 bits 511 Kbits)  (TAGE 463917)  (LOOP 1248)  (SC 58190)  (TOTAL 523355 bits 511 Kbits)  (TAGE 463917)  (LOOP 1248)  (SC 58190)  (TOTAL 523355 bits 511 Kbits)  (TAGE 463917)  (LOOP 1248)  (SC 58190)  (TOTAL 523355 bits 511 Kbits)  (TAGE 463917)  (LOOP 1248)  (SC 58190)  (TOTAL 523355 bits 511 Kbits) "
     ]
    },
    {
     "name": "stdout",
     "output_type": "stream",
     "text": [
      "xalancbmk Power4\n",
      "java -jar /home/shashankp/Desktop/GitHub_S/Advanced-CompArch/cs810_resources/Tejas/jars/tejas.jar /home/shashankp/Desktop/GitHub_S/Advanced-CompArch/Assignment_5/config_tigerlake_modified.xml /home/shashankp/Desktop/GitHub_S/Advanced-CompArch/Assignment_5/outputs/xalancbmk_Power4.stat /home/shashankp/Desktop/GitHub_S/Advanced-CompArch/cs810_resources/CPU2017_benchmarks/tejas_traces/xalancbmk\n"
     ]
    },
    {
     "name": "stderr",
     "output_type": "stream",
     "text": [
      " (TAGE 463917)  (LOOP 1248)  (SC 58190)  (TOTAL 523355 bits 511 Kbits)  (TAGE 463917)  (LOOP 1248)  (SC 58190)  (TOTAL 523355 bits 511 Kbits)  (TAGE 463917)  (LOOP 1248)  (SC 58190)  (TOTAL 523355 bits 511 Kbits)  (TAGE 463917)  (LOOP 1248)  (SC 58190)  (TOTAL 523355 bits 511 Kbits)  (TAGE 463917)  (LOOP 1248)  (SC 58190)  (TOTAL 523355 bits 511 Kbits)  (TAGE 463917)  (LOOP 1248)  (SC 58190)  (TOTAL 523355 bits 511 Kbits)  (TAGE 463917)  (LOOP 1248)  (SC 58190)  (TOTAL 523355 bits 511 Kbits)  (TAGE 463917)  (LOOP 1248)  (SC 58190)  (TOTAL 523355 bits 511 Kbits) "
     ]
    },
    {
     "name": "stdout",
     "output_type": "stream",
     "text": [
      "lbm Power4\n",
      "java -jar /home/shashankp/Desktop/GitHub_S/Advanced-CompArch/cs810_resources/Tejas/jars/tejas.jar /home/shashankp/Desktop/GitHub_S/Advanced-CompArch/Assignment_5/config_tigerlake_modified.xml /home/shashankp/Desktop/GitHub_S/Advanced-CompArch/Assignment_5/outputs/lbm_Power4.stat /home/shashankp/Desktop/GitHub_S/Advanced-CompArch/cs810_resources/CPU2017_benchmarks/tejas_traces/lbm\n"
     ]
    },
    {
     "name": "stderr",
     "output_type": "stream",
     "text": [
      " (TAGE 463917)  (LOOP 1248)  (SC 58190)  (TOTAL 523355 bits 511 Kbits)  (TAGE 463917)  (LOOP 1248)  (SC 58190)  (TOTAL 523355 bits 511 Kbits)  (TAGE 463917)  (LOOP 1248)  (SC 58190)  (TOTAL 523355 bits 511 Kbits)  (TAGE 463917)  (LOOP 1248)  (SC 58190)  (TOTAL 523355 bits 511 Kbits)  (TAGE 463917)  (LOOP 1248)  (SC 58190)  (TOTAL 523355 bits 511 Kbits)  (TAGE 463917)  (LOOP 1248)  (SC 58190)  (TOTAL 523355 bits 511 Kbits)  (TAGE 463917)  (LOOP 1248)  (SC 58190)  (TOTAL 523355 bits 511 Kbits)  (TAGE 463917)  (LOOP 1248)  (SC 58190)  (TOTAL 523355 bits 511 Kbits) "
     ]
    },
    {
     "name": "stdout",
     "output_type": "stream",
     "text": [
      "gcc Power4\n",
      "java -jar /home/shashankp/Desktop/GitHub_S/Advanced-CompArch/cs810_resources/Tejas/jars/tejas.jar /home/shashankp/Desktop/GitHub_S/Advanced-CompArch/Assignment_5/config_tigerlake_modified.xml /home/shashankp/Desktop/GitHub_S/Advanced-CompArch/Assignment_5/outputs/gcc_Power4.stat /home/shashankp/Desktop/GitHub_S/Advanced-CompArch/cs810_resources/CPU2017_benchmarks/tejas_traces/gcc\n"
     ]
    },
    {
     "name": "stderr",
     "output_type": "stream",
     "text": [
      " (TAGE 463917)  (LOOP 1248)  (SC 58190)  (TOTAL 523355 bits 511 Kbits)  (TAGE 463917)  (LOOP 1248)  (SC 58190)  (TOTAL 523355 bits 511 Kbits)  (TAGE 463917)  (LOOP 1248)  (SC 58190)  (TOTAL 523355 bits 511 Kbits)  (TAGE 463917)  (LOOP 1248)  (SC 58190)  (TOTAL 523355 bits 511 Kbits)  (TAGE 463917)  (LOOP 1248)  (SC 58190)  (TOTAL 523355 bits 511 Kbits)  (TAGE 463917)  (LOOP 1248)  (SC 58190)  (TOTAL 523355 bits 511 Kbits)  (TAGE 463917)  (LOOP 1248)  (SC 58190)  (TOTAL 523355 bits 511 Kbits)  (TAGE 463917)  (LOOP 1248)  (SC 58190)  (TOTAL 523355 bits 511 Kbits) "
     ]
    },
    {
     "name": "stdout",
     "output_type": "stream",
     "text": [
      "mcf Bingo\n",
      "java -jar /home/shashankp/Desktop/GitHub_S/Advanced-CompArch/cs810_resources/Tejas/jars/tejas.jar /home/shashankp/Desktop/GitHub_S/Advanced-CompArch/Assignment_5/config_tigerlake_modified.xml /home/shashankp/Desktop/GitHub_S/Advanced-CompArch/Assignment_5/outputs/mcf_Bingo.stat /home/shashankp/Desktop/GitHub_S/Advanced-CompArch/cs810_resources/CPU2017_benchmarks/tejas_traces/mcf\n"
     ]
    },
    {
     "name": "stderr",
     "output_type": "stream",
     "text": [
      " (TAGE 463917)  (LOOP 1248)  (SC 58190)  (TOTAL 523355 bits 511 Kbits)  (TAGE 463917)  (LOOP 1248)  (SC 58190)  (TOTAL 523355 bits 511 Kbits)  (TAGE 463917)  (LOOP 1248)  (SC 58190)  (TOTAL 523355 bits 511 Kbits)  (TAGE 463917)  (LOOP 1248)  (SC 58190)  (TOTAL 523355 bits 511 Kbits)  (TAGE 463917)  (LOOP 1248)  (SC 58190)  (TOTAL 523355 bits 511 Kbits)  (TAGE 463917)  (LOOP 1248)  (SC 58190)  (TOTAL 523355 bits 511 Kbits)  (TAGE 463917)  (LOOP 1248)  (SC 58190)  (TOTAL 523355 bits 511 Kbits)  (TAGE 463917)  (LOOP 1248)  (SC 58190)  (TOTAL 523355 bits 511 Kbits) "
     ]
    },
    {
     "name": "stdout",
     "output_type": "stream",
     "text": [
      "namd Bingo\n",
      "java -jar /home/shashankp/Desktop/GitHub_S/Advanced-CompArch/cs810_resources/Tejas/jars/tejas.jar /home/shashankp/Desktop/GitHub_S/Advanced-CompArch/Assignment_5/config_tigerlake_modified.xml /home/shashankp/Desktop/GitHub_S/Advanced-CompArch/Assignment_5/outputs/namd_Bingo.stat /home/shashankp/Desktop/GitHub_S/Advanced-CompArch/cs810_resources/CPU2017_benchmarks/tejas_traces/namd\n"
     ]
    },
    {
     "name": "stderr",
     "output_type": "stream",
     "text": [
      " (TAGE 463917)  (LOOP 1248)  (SC 58190)  (TOTAL 523355 bits 511 Kbits)  (TAGE 463917)  (LOOP 1248)  (SC 58190)  (TOTAL 523355 bits 511 Kbits)  (TAGE 463917)  (LOOP 1248)  (SC 58190)  (TOTAL 523355 bits 511 Kbits)  (TAGE 463917)  (LOOP 1248)  (SC 58190)  (TOTAL 523355 bits 511 Kbits)  (TAGE 463917)  (LOOP 1248)  (SC 58190)  (TOTAL 523355 bits 511 Kbits)  (TAGE 463917)  (LOOP 1248)  (SC 58190)  (TOTAL 523355 bits 511 Kbits)  (TAGE 463917)  (LOOP 1248)  (SC 58190)  (TOTAL 523355 bits 511 Kbits)  (TAGE 463917)  (LOOP 1248)  (SC 58190)  (TOTAL 523355 bits 511 Kbits) "
     ]
    },
    {
     "name": "stdout",
     "output_type": "stream",
     "text": [
      "xalancbmk Bingo\n",
      "java -jar /home/shashankp/Desktop/GitHub_S/Advanced-CompArch/cs810_resources/Tejas/jars/tejas.jar /home/shashankp/Desktop/GitHub_S/Advanced-CompArch/Assignment_5/config_tigerlake_modified.xml /home/shashankp/Desktop/GitHub_S/Advanced-CompArch/Assignment_5/outputs/xalancbmk_Bingo.stat /home/shashankp/Desktop/GitHub_S/Advanced-CompArch/cs810_resources/CPU2017_benchmarks/tejas_traces/xalancbmk\n"
     ]
    },
    {
     "name": "stderr",
     "output_type": "stream",
     "text": [
      " (TAGE 463917)  (LOOP 1248)  (SC 58190)  (TOTAL 523355 bits 511 Kbits)  (TAGE 463917)  (LOOP 1248)  (SC 58190)  (TOTAL 523355 bits 511 Kbits)  (TAGE 463917)  (LOOP 1248)  (SC 58190)  (TOTAL 523355 bits 511 Kbits)  (TAGE 463917)  (LOOP 1248)  (SC 58190)  (TOTAL 523355 bits 511 Kbits)  (TAGE 463917)  (LOOP 1248)  (SC 58190)  (TOTAL 523355 bits 511 Kbits)  (TAGE 463917)  (LOOP 1248)  (SC 58190)  (TOTAL 523355 bits 511 Kbits)  (TAGE 463917)  (LOOP 1248)  (SC 58190)  (TOTAL 523355 bits 511 Kbits)  (TAGE 463917)  (LOOP 1248)  (SC 58190)  (TOTAL 523355 bits 511 Kbits) "
     ]
    },
    {
     "name": "stdout",
     "output_type": "stream",
     "text": [
      "lbm Bingo\n",
      "java -jar /home/shashankp/Desktop/GitHub_S/Advanced-CompArch/cs810_resources/Tejas/jars/tejas.jar /home/shashankp/Desktop/GitHub_S/Advanced-CompArch/Assignment_5/config_tigerlake_modified.xml /home/shashankp/Desktop/GitHub_S/Advanced-CompArch/Assignment_5/outputs/lbm_Bingo.stat /home/shashankp/Desktop/GitHub_S/Advanced-CompArch/cs810_resources/CPU2017_benchmarks/tejas_traces/lbm\n"
     ]
    },
    {
     "name": "stderr",
     "output_type": "stream",
     "text": [
      " (TAGE 463917)  (LOOP 1248)  (SC 58190)  (TOTAL 523355 bits 511 Kbits)  (TAGE 463917)  (LOOP 1248)  (SC 58190)  (TOTAL 523355 bits 511 Kbits)  (TAGE 463917)  (LOOP 1248)  (SC 58190)  (TOTAL 523355 bits 511 Kbits)  (TAGE 463917)  (LOOP 1248)  (SC 58190)  (TOTAL 523355 bits 511 Kbits)  (TAGE 463917)  (LOOP 1248)  (SC 58190)  (TOTAL 523355 bits 511 Kbits)  (TAGE 463917)  (LOOP 1248)  (SC 58190)  (TOTAL 523355 bits 511 Kbits)  (TAGE 463917)  (LOOP 1248)  (SC 58190)  (TOTAL 523355 bits 511 Kbits)  (TAGE 463917)  (LOOP 1248)  (SC 58190)  (TOTAL 523355 bits 511 Kbits) "
     ]
    },
    {
     "name": "stdout",
     "output_type": "stream",
     "text": [
      "gcc Bingo\n",
      "java -jar /home/shashankp/Desktop/GitHub_S/Advanced-CompArch/cs810_resources/Tejas/jars/tejas.jar /home/shashankp/Desktop/GitHub_S/Advanced-CompArch/Assignment_5/config_tigerlake_modified.xml /home/shashankp/Desktop/GitHub_S/Advanced-CompArch/Assignment_5/outputs/gcc_Bingo.stat /home/shashankp/Desktop/GitHub_S/Advanced-CompArch/cs810_resources/CPU2017_benchmarks/tejas_traces/gcc\n"
     ]
    },
    {
     "name": "stderr",
     "output_type": "stream",
     "text": [
      " (TAGE 463917)  (LOOP 1248)  (SC 58190)  (TOTAL 523355 bits 511 Kbits)  (TAGE 463917)  (LOOP 1248)  (SC 58190)  (TOTAL 523355 bits 511 Kbits)  (TAGE 463917)  (LOOP 1248)  (SC 58190)  (TOTAL 523355 bits 511 Kbits)  (TAGE 463917)  (LOOP 1248)  (SC 58190)  (TOTAL 523355 bits 511 Kbits)  (TAGE 463917)  (LOOP 1248)  (SC 58190)  (TOTAL 523355 bits 511 Kbits)  (TAGE 463917)  (LOOP 1248)  (SC 58190)  (TOTAL 523355 bits 511 Kbits)  (TAGE 463917)  (LOOP 1248)  (SC 58190)  (TOTAL 523355 bits 511 Kbits)  (TAGE 463917)  (LOOP 1248)  (SC 58190)  (TOTAL 523355 bits 511 Kbits) "
     ]
    },
    {
     "name": "stdout",
     "output_type": "stream",
     "text": [
      "mcf None\n",
      "java -jar /home/shashankp/Desktop/GitHub_S/Advanced-CompArch/cs810_resources/Tejas/jars/tejas.jar /home/shashankp/Desktop/GitHub_S/Advanced-CompArch/Assignment_5/config_tigerlake_modified.xml /home/shashankp/Desktop/GitHub_S/Advanced-CompArch/Assignment_5/outputs/mcf_None.stat /home/shashankp/Desktop/GitHub_S/Advanced-CompArch/cs810_resources/CPU2017_benchmarks/tejas_traces/mcf\n"
     ]
    },
    {
     "name": "stderr",
     "output_type": "stream",
     "text": [
      " (TAGE 463917)  (LOOP 1248)  (SC 58190)  (TOTAL 523355 bits 511 Kbits)  (TAGE 463917)  (LOOP 1248)  (SC 58190)  (TOTAL 523355 bits 511 Kbits)  (TAGE 463917)  (LOOP 1248)  (SC 58190)  (TOTAL 523355 bits 511 Kbits)  (TAGE 463917)  (LOOP 1248)  (SC 58190)  (TOTAL 523355 bits 511 Kbits)  (TAGE 463917)  (LOOP 1248)  (SC 58190)  (TOTAL 523355 bits 511 Kbits)  (TAGE 463917)  (LOOP 1248)  (SC 58190)  (TOTAL 523355 bits 511 Kbits)  (TAGE 463917)  (LOOP 1248)  (SC 58190)  (TOTAL 523355 bits 511 Kbits)  (TAGE 463917)  (LOOP 1248)  (SC 58190)  (TOTAL 523355 bits 511 Kbits) "
     ]
    },
    {
     "name": "stdout",
     "output_type": "stream",
     "text": [
      "namd None\n",
      "java -jar /home/shashankp/Desktop/GitHub_S/Advanced-CompArch/cs810_resources/Tejas/jars/tejas.jar /home/shashankp/Desktop/GitHub_S/Advanced-CompArch/Assignment_5/config_tigerlake_modified.xml /home/shashankp/Desktop/GitHub_S/Advanced-CompArch/Assignment_5/outputs/namd_None.stat /home/shashankp/Desktop/GitHub_S/Advanced-CompArch/cs810_resources/CPU2017_benchmarks/tejas_traces/namd\n"
     ]
    },
    {
     "name": "stderr",
     "output_type": "stream",
     "text": [
      " (TAGE 463917)  (LOOP 1248)  (SC 58190)  (TOTAL 523355 bits 511 Kbits)  (TAGE 463917)  (LOOP 1248)  (SC 58190)  (TOTAL 523355 bits 511 Kbits)  (TAGE 463917)  (LOOP 1248)  (SC 58190)  (TOTAL 523355 bits 511 Kbits)  (TAGE 463917)  (LOOP 1248)  (SC 58190)  (TOTAL 523355 bits 511 Kbits)  (TAGE 463917)  (LOOP 1248)  (SC 58190)  (TOTAL 523355 bits 511 Kbits)  (TAGE 463917)  (LOOP 1248)  (SC 58190)  (TOTAL 523355 bits 511 Kbits)  (TAGE 463917)  (LOOP 1248)  (SC 58190)  (TOTAL 523355 bits 511 Kbits)  (TAGE 463917)  (LOOP 1248)  (SC 58190)  (TOTAL 523355 bits 511 Kbits) "
     ]
    },
    {
     "name": "stdout",
     "output_type": "stream",
     "text": [
      "xalancbmk None\n",
      "java -jar /home/shashankp/Desktop/GitHub_S/Advanced-CompArch/cs810_resources/Tejas/jars/tejas.jar /home/shashankp/Desktop/GitHub_S/Advanced-CompArch/Assignment_5/config_tigerlake_modified.xml /home/shashankp/Desktop/GitHub_S/Advanced-CompArch/Assignment_5/outputs/xalancbmk_None.stat /home/shashankp/Desktop/GitHub_S/Advanced-CompArch/cs810_resources/CPU2017_benchmarks/tejas_traces/xalancbmk\n"
     ]
    },
    {
     "name": "stderr",
     "output_type": "stream",
     "text": [
      " (TAGE 463917)  (LOOP 1248)  (SC 58190)  (TOTAL 523355 bits 511 Kbits)  (TAGE 463917)  (LOOP 1248)  (SC 58190)  (TOTAL 523355 bits 511 Kbits)  (TAGE 463917)  (LOOP 1248)  (SC 58190)  (TOTAL 523355 bits 511 Kbits)  (TAGE 463917)  (LOOP 1248)  (SC 58190)  (TOTAL 523355 bits 511 Kbits)  (TAGE 463917)  (LOOP 1248)  (SC 58190)  (TOTAL 523355 bits 511 Kbits)  (TAGE 463917)  (LOOP 1248)  (SC 58190)  (TOTAL 523355 bits 511 Kbits)  (TAGE 463917)  (LOOP 1248)  (SC 58190)  (TOTAL 523355 bits 511 Kbits)  (TAGE 463917)  (LOOP 1248)  (SC 58190)  (TOTAL 523355 bits 511 Kbits) "
     ]
    },
    {
     "name": "stdout",
     "output_type": "stream",
     "text": [
      "lbm None\n",
      "java -jar /home/shashankp/Desktop/GitHub_S/Advanced-CompArch/cs810_resources/Tejas/jars/tejas.jar /home/shashankp/Desktop/GitHub_S/Advanced-CompArch/Assignment_5/config_tigerlake_modified.xml /home/shashankp/Desktop/GitHub_S/Advanced-CompArch/Assignment_5/outputs/lbm_None.stat /home/shashankp/Desktop/GitHub_S/Advanced-CompArch/cs810_resources/CPU2017_benchmarks/tejas_traces/lbm\n"
     ]
    },
    {
     "name": "stderr",
     "output_type": "stream",
     "text": [
      " (TAGE 463917)  (LOOP 1248)  (SC 58190)  (TOTAL 523355 bits 511 Kbits)  (TAGE 463917)  (LOOP 1248)  (SC 58190)  (TOTAL 523355 bits 511 Kbits)  (TAGE 463917)  (LOOP 1248)  (SC 58190)  (TOTAL 523355 bits 511 Kbits)  (TAGE 463917)  (LOOP 1248)  (SC 58190)  (TOTAL 523355 bits 511 Kbits)  (TAGE 463917)  (LOOP 1248)  (SC 58190)  (TOTAL 523355 bits 511 Kbits)  (TAGE 463917)  (LOOP 1248)  (SC 58190)  (TOTAL 523355 bits 511 Kbits)  (TAGE 463917)  (LOOP 1248)  (SC 58190)  (TOTAL 523355 bits 511 Kbits)  (TAGE 463917)  (LOOP 1248)  (SC 58190)  (TOTAL 523355 bits 511 Kbits) "
     ]
    },
    {
     "name": "stdout",
     "output_type": "stream",
     "text": [
      "gcc None\n",
      "java -jar /home/shashankp/Desktop/GitHub_S/Advanced-CompArch/cs810_resources/Tejas/jars/tejas.jar /home/shashankp/Desktop/GitHub_S/Advanced-CompArch/Assignment_5/config_tigerlake_modified.xml /home/shashankp/Desktop/GitHub_S/Advanced-CompArch/Assignment_5/outputs/gcc_None.stat /home/shashankp/Desktop/GitHub_S/Advanced-CompArch/cs810_resources/CPU2017_benchmarks/tejas_traces/gcc\n"
     ]
    },
    {
     "name": "stderr",
     "output_type": "stream",
     "text": [
      " (TAGE 463917)  (LOOP 1248)  (SC 58190)  (TOTAL 523355 bits 511 Kbits)  (TAGE 463917)  (LOOP 1248)  (SC 58190)  (TOTAL 523355 bits 511 Kbits)  (TAGE 463917)  (LOOP 1248)  (SC 58190)  (TOTAL 523355 bits 511 Kbits)  (TAGE 463917)  (LOOP 1248)  (SC 58190)  (TOTAL 523355 bits 511 Kbits)  (TAGE 463917)  (LOOP 1248)  (SC 58190)  (TOTAL 523355 bits 511 Kbits)  (TAGE 463917)  (LOOP 1248)  (SC 58190)  (TOTAL 523355 bits 511 Kbits)  (TAGE 463917)  (LOOP 1248)  (SC 58190)  (TOTAL 523355 bits 511 Kbits)  (TAGE 463917)  (LOOP 1248)  (SC 58190)  (TOTAL 523355 bits 511 Kbits) "
     ]
    }
   ],
   "source": [
    "benchmark_path = \"/home/shashankp/Desktop/GitHub_S/Advanced-CompArch/cs810_resources/CPU2017_benchmarks/tejas_traces/\"\n",
    "old_benchmarks = os.listdir(benchmark_path)\n",
    "old_benchmarks = list(set([x.split(\"_\")[0] for x in old_benchmarks]))\n",
    "\n",
    "total = len(prefetchers) * len(old_benchmarks)\n",
    "pb = tqdm(total=total)\n",
    "for prefetcher in prefetchers:\n",
    "    for benchmark in old_benchmarks:\n",
    "        pb.update(1)\n",
    "        print(benchmark, prefetcher)\n",
    "        full_benchmark_path = benchmark_path+benchmark\n",
    "        key_vals = {\n",
    "            \"isVISATrace\": \"true\",\n",
    "            \"L3Cache_12M_16\": prefetcher,\n",
    "            \"BenchmarkPath\": full_benchmark_path\n",
    "        }\n",
    "        replace_key_in_xml(config_file_path, key_vals, output_file)\n",
    "        file_name = f\"{benchmark}_{prefetcher}\"\n",
    "        run(file_name, benchmark_path=full_benchmark_path)"
   ]
  },
  {
   "cell_type": "markdown",
   "metadata": {},
   "source": [
    "# Statistics Parser"
   ]
  },
  {
   "cell_type": "code",
   "execution_count": 68,
   "metadata": {},
   "outputs": [],
   "source": [
    "def stat_parser(stat_file_path):\n",
    "    avg_mipc, mc = 0, 0\n",
    "    avg_cipc, cc = 0, 0\n",
    "    count = 0\n",
    "    i1_hit, l1_hit, l2_hit, l3_hit = [0]*4\n",
    "    with open(stat_file_path, \"r\") as f:\n",
    "        for line in f.readlines():\n",
    "            if line.startswith(\"IPC\"):\n",
    "                ipc = float(line.split(\"=\")[1].strip().split(\"\\t\")[0])\n",
    "                if \"micro-ops\"in line:\n",
    "                    avg_mipc += ipc\n",
    "                    mc += 1\n",
    "                if \"CISC\" in line:\n",
    "                    avg_cipc += ipc\n",
    "                    cc += 1\n",
    "            if line.startswith(\"L3 Hit-Rate\"):\n",
    "                l3_hit = float(line.split(\"=\")[1].strip().split(\"\\t\")[0])\n",
    "            if line.startswith(\"L2 Hit-Rate\"):\n",
    "                l2_hit = float(line.split(\"=\")[1].strip().split(\"\\t\")[0])\n",
    "            if line.startswith(\"L1 Hit-Rate\"):\n",
    "                l1_hit = float(line.split(\"=\")[1].strip().split(\"\\t\")[0])\n",
    "            if line.startswith(\"I1 Hit-Rate\"):\n",
    "                i1_hit = float(line.split(\"=\")[1].strip().split(\"\\t\")[0])\n",
    "    return {\n",
    "        \"Micro Ops IPC\": avg_mipc/mc,\n",
    "        \"CISC IPC\": avg_cipc/cc,\n",
    "        \"I1 Hit Rate\": i1_hit,\n",
    "        \"L1 Hit Rate\": l1_hit,\n",
    "        \"L2 Hit Rate\": l2_hit,\n",
    "        \"L3 Hit Rate\": l3_hit\n",
    "    }"
   ]
  },
  {
   "cell_type": "markdown",
   "metadata": {},
   "source": [
    "# Analyze"
   ]
  },
  {
   "cell_type": "code",
   "execution_count": 69,
   "metadata": {},
   "outputs": [
    {
     "name": "stdout",
     "output_type": "stream",
     "text": [
      "openssl_8 Simple\n",
      "openssl_8 Power4\n",
      "openssl_8 Bingo\n",
      "openssl_8 None\n",
      "blender_8 Simple\n",
      "blender_8 Power4\n",
      "blender_8 Bingo\n",
      "blender_8 None\n",
      "gimp_8 Simple\n",
      "gimp_8 Power4\n",
      "gimp_8 Bingo\n",
      "gimp_8 None\n",
      "numenta-nab_8 Simple\n",
      "numenta-nab_8 Power4\n",
      "numenta-nab_8 Bingo\n",
      "numenta-nab_8 None\n",
      "compress-7zip_8 Simple\n",
      "File Not Found: ./outputs/compress-7zip_8_Simple.stat\n",
      "compress-7zip_8 Power4\n",
      "File Not Found: ./outputs/compress-7zip_8_Power4.stat\n",
      "compress-7zip_8 Bingo\n",
      "File Not Found: ./outputs/compress-7zip_8_Bingo.stat\n",
      "compress-7zip_8 None\n",
      "File Not Found: ./outputs/compress-7zip_8_None.stat\n",
      "mcf Simple\n",
      "mcf Power4\n",
      "mcf Bingo\n",
      "mcf None\n",
      "namd Simple\n",
      "namd Power4\n",
      "namd Bingo\n",
      "namd None\n",
      "xalancbmk Simple\n",
      "xalancbmk Power4\n",
      "xalancbmk Bingo\n",
      "xalancbmk None\n",
      "lbm Simple\n",
      "lbm Power4\n",
      "lbm Bingo\n",
      "lbm None\n",
      "gcc Simple\n",
      "gcc Power4\n",
      "gcc Bingo\n",
      "gcc None\n"
     ]
    },
    {
     "data": {
      "text/plain": [
       "{'openssl_8': {'Simple': {'Micro Ops IPC': 2.2498125,\n",
       "   'CISC IPC': 1.1497125,\n",
       "   'I1 Hit Rate': 0.6196407,\n",
       "   'L1 Hit Rate': 0.97958034,\n",
       "   'L2 Hit Rate': 0.94197726,\n",
       "   'L3 Hit Rate': 0.4529387},\n",
       "  'Power4': {'Micro Ops IPC': 2.1918499999999996,\n",
       "   'CISC IPC': 1.1204749999999999,\n",
       "   'I1 Hit Rate': 0.6228707,\n",
       "   'L1 Hit Rate': 0.9799118,\n",
       "   'L2 Hit Rate': 0.94231135,\n",
       "   'L3 Hit Rate': 0.40105236},\n",
       "  'Bingo': {'Micro Ops IPC': 2.199125,\n",
       "   'CISC IPC': 1.1249875,\n",
       "   'I1 Hit Rate': 0.618916,\n",
       "   'L1 Hit Rate': 0.9797261,\n",
       "   'L2 Hit Rate': 0.94210315,\n",
       "   'L3 Hit Rate': 0.39230037},\n",
       "  'None': {'Micro Ops IPC': 2.2162875,\n",
       "   'CISC IPC': 1.1323124999999998,\n",
       "   'I1 Hit Rate': 0.6210674,\n",
       "   'L1 Hit Rate': 0.97989166,\n",
       "   'L2 Hit Rate': 0.942359,\n",
       "   'L3 Hit Rate': 0.35469055}},\n",
       " 'blender_8': {'Simple': {'Micro Ops IPC': 1.0857875,\n",
       "   'CISC IPC': 0.6359999999999999,\n",
       "   'I1 Hit Rate': 0.58094096,\n",
       "   'L1 Hit Rate': 0.9428488,\n",
       "   'L2 Hit Rate': 0.961477,\n",
       "   'L3 Hit Rate': 0.39184028},\n",
       "  'Power4': {'Micro Ops IPC': 1.078325,\n",
       "   'CISC IPC': 0.6326875,\n",
       "   'I1 Hit Rate': 0.5802708,\n",
       "   'L1 Hit Rate': 0.9432355,\n",
       "   'L2 Hit Rate': 0.9619809,\n",
       "   'L3 Hit Rate': 0.39848977},\n",
       "  'Bingo': {'Micro Ops IPC': 1.0701625000000001,\n",
       "   'CISC IPC': 0.6282375,\n",
       "   'I1 Hit Rate': 0.5799626,\n",
       "   'L1 Hit Rate': 0.94413346,\n",
       "   'L2 Hit Rate': 0.96230805,\n",
       "   'L3 Hit Rate': 0.39658552},\n",
       "  'None': {'Micro Ops IPC': 1.13645,\n",
       "   'CISC IPC': 0.6664375000000001,\n",
       "   'I1 Hit Rate': 0.5803024,\n",
       "   'L1 Hit Rate': 0.94395524,\n",
       "   'L2 Hit Rate': 0.9626994,\n",
       "   'L3 Hit Rate': 0.30421767}},\n",
       " 'gimp_8': {'Simple': {'Micro Ops IPC': 0.7349875000000001,\n",
       "   'CISC IPC': 0.4006625,\n",
       "   'I1 Hit Rate': 0.8244643,\n",
       "   'L1 Hit Rate': 0.80492514,\n",
       "   'L2 Hit Rate': 0.88793135,\n",
       "   'L3 Hit Rate': 0.32862502},\n",
       "  'Power4': {'Micro Ops IPC': 0.7409749999999999,\n",
       "   'CISC IPC': 0.40415,\n",
       "   'I1 Hit Rate': 0.82438207,\n",
       "   'L1 Hit Rate': 0.7972997,\n",
       "   'L2 Hit Rate': 0.8875417,\n",
       "   'L3 Hit Rate': 0.38226998},\n",
       "  'Bingo': {'Micro Ops IPC': 0.6243,\n",
       "   'CISC IPC': 0.3414375,\n",
       "   'I1 Hit Rate': 0.8600715,\n",
       "   'L1 Hit Rate': 0.8277631,\n",
       "   'L2 Hit Rate': 0.89464223,\n",
       "   'L3 Hit Rate': 0.27696544},\n",
       "  'None': {'Micro Ops IPC': 0.8854124999999999,\n",
       "   'CISC IPC': 0.4831875,\n",
       "   'I1 Hit Rate': 0.81427747,\n",
       "   'L1 Hit Rate': 0.7965378,\n",
       "   'L2 Hit Rate': 0.88512415,\n",
       "   'L3 Hit Rate': 0.22165307}},\n",
       " 'numenta-nab_8': {'Simple': {'Micro Ops IPC': 0.9514750000000001,\n",
       "   'CISC IPC': 0.5268875000000001,\n",
       "   'I1 Hit Rate': 0.6251376,\n",
       "   'L1 Hit Rate': 0.91590416,\n",
       "   'L2 Hit Rate': 0.93655306,\n",
       "   'L3 Hit Rate': 0.5132312},\n",
       "  'Power4': {'Micro Ops IPC': 0.9677249999999998,\n",
       "   'CISC IPC': 0.5360625,\n",
       "   'I1 Hit Rate': 0.6246607,\n",
       "   'L1 Hit Rate': 0.91530275,\n",
       "   'L2 Hit Rate': 0.9371742,\n",
       "   'L3 Hit Rate': 0.52632755},\n",
       "  'Bingo': {'Micro Ops IPC': 1.01475,\n",
       "   'CISC IPC': 0.5620750000000001,\n",
       "   'I1 Hit Rate': 0.62400746,\n",
       "   'L1 Hit Rate': 0.9153543,\n",
       "   'L2 Hit Rate': 0.9374066,\n",
       "   'L3 Hit Rate': 0.5120445},\n",
       "  'None': {'Micro Ops IPC': 1.1081375,\n",
       "   'CISC IPC': 0.613425,\n",
       "   'I1 Hit Rate': 0.6259381,\n",
       "   'L1 Hit Rate': 0.9158453,\n",
       "   'L2 Hit Rate': 0.9370359,\n",
       "   'L3 Hit Rate': 0.44616637}},\n",
       " 'compress-7zip_8': {},\n",
       " 'mcf': {'Simple': {'Micro Ops IPC': 1.5921,\n",
       "   'CISC IPC': 0.0,\n",
       "   'I1 Hit Rate': 0.60306245,\n",
       "   'L1 Hit Rate': 0.8420141,\n",
       "   'L2 Hit Rate': 0.9323915,\n",
       "   'L3 Hit Rate': 0.13375783},\n",
       "  'Power4': {'Micro Ops IPC': 1.593,\n",
       "   'CISC IPC': 0.0,\n",
       "   'I1 Hit Rate': 0.5934195,\n",
       "   'L1 Hit Rate': 0.84211504,\n",
       "   'L2 Hit Rate': 0.9322841,\n",
       "   'L3 Hit Rate': 0.3353733},\n",
       "  'Bingo': {'Micro Ops IPC': 1.5664,\n",
       "   'CISC IPC': 0.0,\n",
       "   'I1 Hit Rate': 0.6063455,\n",
       "   'L1 Hit Rate': 0.84216803,\n",
       "   'L2 Hit Rate': 0.93291104,\n",
       "   'L3 Hit Rate': 0.4170212},\n",
       "  'None': {'Micro Ops IPC': 1.5677,\n",
       "   'CISC IPC': 0.0,\n",
       "   'I1 Hit Rate': 0.6016451,\n",
       "   'L1 Hit Rate': 0.84168684,\n",
       "   'L2 Hit Rate': 0.9333788,\n",
       "   'L3 Hit Rate': 0.072136454}},\n",
       " 'namd': {'Simple': {'Micro Ops IPC': 4.4704,\n",
       "   'CISC IPC': 0.0,\n",
       "   'I1 Hit Rate': 0.32456142,\n",
       "   'L1 Hit Rate': 0.95048475,\n",
       "   'L2 Hit Rate': 0.99578243,\n",
       "   'L3 Hit Rate': 0.26083893},\n",
       "  'Power4': {'Micro Ops IPC': 4.4307,\n",
       "   'CISC IPC': 0.0,\n",
       "   'I1 Hit Rate': 0.38070175,\n",
       "   'L1 Hit Rate': 0.9505618,\n",
       "   'L2 Hit Rate': 0.9958609,\n",
       "   'L3 Hit Rate': 0.2836521},\n",
       "  'Bingo': {'Micro Ops IPC': 4.4045,\n",
       "   'CISC IPC': 0.0,\n",
       "   'I1 Hit Rate': 0.36491227,\n",
       "   'L1 Hit Rate': 0.9501733,\n",
       "   'L2 Hit Rate': 0.9959301,\n",
       "   'L3 Hit Rate': 0.1887324},\n",
       "  'None': {'Micro Ops IPC': 4.3207,\n",
       "   'CISC IPC': 0.0,\n",
       "   'I1 Hit Rate': 0.36491227,\n",
       "   'L1 Hit Rate': 0.95049524,\n",
       "   'L2 Hit Rate': 0.9959454,\n",
       "   'L3 Hit Rate': 0.003581662}},\n",
       " 'xalancbmk': {'Simple': {'Micro Ops IPC': 0.4867,\n",
       "   'CISC IPC': 0.0,\n",
       "   'I1 Hit Rate': 0.14925373,\n",
       "   'L1 Hit Rate': 0.7267471,\n",
       "   'L2 Hit Rate': 0.39715025,\n",
       "   'L3 Hit Rate': 0.16897577},\n",
       "  'Power4': {'Micro Ops IPC': 0.4079,\n",
       "   'CISC IPC': 0.0,\n",
       "   'I1 Hit Rate': 0.18656716,\n",
       "   'L1 Hit Rate': 0.72648364,\n",
       "   'L2 Hit Rate': 0.4127256,\n",
       "   'L3 Hit Rate': 0.21039356},\n",
       "  'Bingo': {'Micro Ops IPC': 0.5511,\n",
       "   'CISC IPC': 0.0,\n",
       "   'I1 Hit Rate': 0.18656716,\n",
       "   'L1 Hit Rate': 0.7266781,\n",
       "   'L2 Hit Rate': 0.4062562,\n",
       "   'L3 Hit Rate': 0.47342572},\n",
       "  'None': {'Micro Ops IPC': 0.382,\n",
       "   'CISC IPC': 0.0,\n",
       "   'I1 Hit Rate': 0.18656716,\n",
       "   'L1 Hit Rate': 0.7271119,\n",
       "   'L2 Hit Rate': 0.41483057,\n",
       "   'L3 Hit Rate': 0.0028985909}},\n",
       " 'lbm': {'Simple': {'Micro Ops IPC': 1.7749,\n",
       "   'CISC IPC': 0.0,\n",
       "   'I1 Hit Rate': 0.4511628,\n",
       "   'L1 Hit Rate': 0.7562673,\n",
       "   'L2 Hit Rate': 0.8962694,\n",
       "   'L3 Hit Rate': 0.31600195},\n",
       "  'Power4': {'Micro Ops IPC': 2.0542,\n",
       "   'CISC IPC': 0.0,\n",
       "   'I1 Hit Rate': 0.49302325,\n",
       "   'L1 Hit Rate': 0.76809245,\n",
       "   'L2 Hit Rate': 0.897835,\n",
       "   'L3 Hit Rate': 0.38792562},\n",
       "  'Bingo': {'Micro Ops IPC': 1.9894,\n",
       "   'CISC IPC': 0.0,\n",
       "   'I1 Hit Rate': 0.53953487,\n",
       "   'L1 Hit Rate': 0.76040334,\n",
       "   'L2 Hit Rate': 0.89686275,\n",
       "   'L3 Hit Rate': 0.65028846},\n",
       "  'None': {'Micro Ops IPC': 1.6062,\n",
       "   'CISC IPC': 0.0,\n",
       "   'I1 Hit Rate': 0.53953487,\n",
       "   'L1 Hit Rate': 0.7601339,\n",
       "   'L2 Hit Rate': 0.89724576,\n",
       "   'L3 Hit Rate': 0.0021943573}},\n",
       " 'gcc': {'Simple': {'Micro Ops IPC': 1.6103,\n",
       "   'CISC IPC': 0.0,\n",
       "   'I1 Hit Rate': 0.80589855,\n",
       "   'L1 Hit Rate': 0.9471608,\n",
       "   'L2 Hit Rate': 0.97913694,\n",
       "   'L3 Hit Rate': 0.18965389},\n",
       "  'Power4': {'Micro Ops IPC': 1.5619,\n",
       "   'CISC IPC': 0.0,\n",
       "   'I1 Hit Rate': 0.80658895,\n",
       "   'L1 Hit Rate': 0.9475346,\n",
       "   'L2 Hit Rate': 0.97933966,\n",
       "   'L3 Hit Rate': 0.18847074},\n",
       "  'Bingo': {'Micro Ops IPC': 1.6015,\n",
       "   'CISC IPC': 0.0,\n",
       "   'I1 Hit Rate': 0.80616105,\n",
       "   'L1 Hit Rate': 0.9472708,\n",
       "   'L2 Hit Rate': 0.9792874,\n",
       "   'L3 Hit Rate': 0.23822777},\n",
       "  'None': {'Micro Ops IPC': 1.5374,\n",
       "   'CISC IPC': 0.0,\n",
       "   'I1 Hit Rate': 0.8055707,\n",
       "   'L1 Hit Rate': 0.947085,\n",
       "   'L2 Hit Rate': 0.9793524,\n",
       "   'L3 Hit Rate': 0.006997216}}}"
      ]
     },
     "execution_count": 69,
     "metadata": {},
     "output_type": "execute_result"
    }
   ],
   "source": [
    "results = {}\n",
    "for benchmark in benchmarks+old_benchmarks:\n",
    "    results[benchmark] = {}\n",
    "    for prefetcher in prefetchers:\n",
    "        stat_file = f\"./outputs/{benchmark}_{prefetcher}.stat\"\n",
    "        try:\n",
    "            print(benchmark, prefetcher)\n",
    "            parsed_res = stat_parser(stat_file)\n",
    "            results[benchmark][prefetcher] = parsed_res\n",
    "        except:\n",
    "            print(\"File Not Found:\", stat_file)\n",
    "results"
   ]
  },
  {
   "cell_type": "code",
   "execution_count": null,
   "metadata": {},
   "outputs": [],
   "source": []
  }
 ],
 "metadata": {
  "kernelspec": {
   "display_name": "env",
   "language": "python",
   "name": "python3"
  },
  "language_info": {
   "codemirror_mode": {
    "name": "ipython",
    "version": 3
   },
   "file_extension": ".py",
   "mimetype": "text/x-python",
   "name": "python",
   "nbconvert_exporter": "python",
   "pygments_lexer": "ipython3",
   "version": "3.10.12"
  }
 },
 "nbformat": 4,
 "nbformat_minor": 2
}

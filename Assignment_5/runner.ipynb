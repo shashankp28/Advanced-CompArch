{
 "cells": [
  {
   "cell_type": "markdown",
   "metadata": {},
   "source": [
    "# Imports"
   ]
  },
  {
   "cell_type": "code",
   "execution_count": 14,
   "metadata": {},
   "outputs": [],
   "source": [
    "import os\n",
    "from tqdm.notebook import tqdm\n",
    "import xml.etree.ElementTree as ET\n",
    "import subprocess\n",
    "import json"
   ]
  },
  {
   "cell_type": "markdown",
   "metadata": {},
   "source": [
    "# XML Parser"
   ]
  },
  {
   "cell_type": "code",
   "execution_count": 7,
   "metadata": {},
   "outputs": [],
   "source": [
    "def replace_key_in_xml(xml_file, key_val, output_file):\n",
    "    tree = ET.parse(xml_file)\n",
    "    root = tree.getroot()\n",
    "    for elem in root.iter():\n",
    "        if elem.tag in key_val:\n",
    "            key = elem.tag\n",
    "            val = key_val[key]\n",
    "            if key == \"L3Cache_12M_16\":\n",
    "                for element in elem:\n",
    "                    if element.tag == \"Prefetcher\":\n",
    "                        element.text = val\n",
    "            else:\n",
    "                elem.text = val\n",
    "    tree.write(output_file)"
   ]
  },
  {
   "cell_type": "markdown",
   "metadata": {},
   "source": [
    "# Build and Run"
   ]
  },
  {
   "cell_type": "code",
   "execution_count": 8,
   "metadata": {},
   "outputs": [],
   "source": [
    "def run(file_name, benchmark_path=\"\"):\n",
    "    err_file = f\"./err/{file_name}.err\"\n",
    "    assignment_dir=\"/home/shashankp/Desktop/GitHub_S/Advanced-CompArch/Assignment_5\"\n",
    "    resource_dir = \"/home/shashankp/Desktop/GitHub_S/Advanced-CompArch/cs810_resources\"\n",
    "    cmd = f\"java -jar {resource_dir}/Tejas/jars/tejas.jar {assignment_dir}/config_tigerlake_modified.xml {assignment_dir}/outputs/{file_name}.stat\"\n",
    "    cmd += f\" {benchmark_path}\"\n",
    "    with open(err_file, \"w\") as output_file:\n",
    "        print(cmd)\n",
    "        subprocess.run(cmd, shell=True, stdout=output_file)"
   ]
  },
  {
   "cell_type": "markdown",
   "metadata": {},
   "source": [
    "# Constants"
   ]
  },
  {
   "cell_type": "code",
   "execution_count": 9,
   "metadata": {},
   "outputs": [],
   "source": [
    "prefetchers = [\"Simple\", \"Power4\", \"Bingo\", \"None\"]\n",
    "config_file_path = \"./config_tigerlake.xml\"\n",
    "output_file = \"./config_tigerlake_modified.xml\""
   ]
  },
  {
   "cell_type": "markdown",
   "metadata": {},
   "source": [
    "# New Benchmarks"
   ]
  },
  {
   "cell_type": "code",
   "execution_count": 10,
   "metadata": {},
   "outputs": [
    {
     "data": {
      "application/vnd.jupyter.widget-view+json": {
       "model_id": "76dc2760b1cb41caa5c11d24aa85ad63",
       "version_major": 2,
       "version_minor": 0
      },
      "text/plain": [
       "  0%|          | 0/20 [00:00<?, ?it/s]"
      ]
     },
     "metadata": {},
     "output_type": "display_data"
    }
   ],
   "source": [
    "benchmark_path = \"/home/shashankp/Desktop/GitHub_S/Advanced-CompArch/phoronix_short_traces/\"\n",
    "benchmarks = os.listdir(benchmark_path)\n",
    "bad_bench = [\"intel-mlc_8\", \"stream_8\"]\n",
    "benchmarks = [x for x in benchmarks if x not in bad_bench and \"_8\" in x]\n",
    "\n",
    "total = len(prefetchers) * len(benchmarks)\n",
    "pb = tqdm(total=total)\n",
    "# for prefetcher in prefetchers:\n",
    "    # for benchmark in benchmarks:\n",
    "    #     pb.update(1)\n",
    "    #     print(benchmark, prefetcher)\n",
    "    #     key_vals = {\n",
    "    #         \"isVISATrace\": \"false\",\n",
    "    #         \"L3Cache_12M_16\": prefetcher,\n",
    "    #         \"BenchmarkPath\": benchmark_path+benchmark+f\"/{benchmark.split('_')[0]}\",\n",
    "    #     }\n",
    "    #     replace_key_in_xml(config_file_path, key_vals, output_file)\n",
    "    #     file_name = f\"{benchmark}_{prefetcher}\"\n",
    "    #     run(file_name)"
   ]
  },
  {
   "cell_type": "markdown",
   "metadata": {},
   "source": [
    "# Old Benchmarks"
   ]
  },
  {
   "cell_type": "code",
   "execution_count": 11,
   "metadata": {},
   "outputs": [
    {
     "data": {
      "application/vnd.jupyter.widget-view+json": {
       "model_id": "a313871fe4434027bf6402c3239bed22",
       "version_major": 2,
       "version_minor": 0
      },
      "text/plain": [
       "  0%|          | 0/20 [00:00<?, ?it/s]"
      ]
     },
     "metadata": {},
     "output_type": "display_data"
    }
   ],
   "source": [
    "benchmark_path = \"/home/shashankp/Desktop/GitHub_S/Advanced-CompArch/cs810_resources/CPU2017_benchmarks/tejas_traces/\"\n",
    "old_benchmarks = os.listdir(benchmark_path)\n",
    "old_benchmarks = list(set([x.split(\"_\")[0] for x in old_benchmarks]))\n",
    "\n",
    "total = len(prefetchers) * len(old_benchmarks)\n",
    "pb = tqdm(total=total)\n",
    "# for prefetcher in prefetchers:\n",
    "#     for benchmark in old_benchmarks:\n",
    "#         pb.update(1)\n",
    "#         print(benchmark, prefetcher)\n",
    "#         full_benchmark_path = benchmark_path+benchmark\n",
    "#         key_vals = {\n",
    "#             \"isVISATrace\": \"true\",\n",
    "#             \"L3Cache_12M_16\": prefetcher,\n",
    "#             \"BenchmarkPath\": full_benchmark_path\n",
    "#         }\n",
    "#         replace_key_in_xml(config_file_path, key_vals, output_file)\n",
    "#         file_name = f\"{benchmark}_{prefetcher}\"\n",
    "#         run(file_name, benchmark_path=full_benchmark_path)"
   ]
  },
  {
   "cell_type": "markdown",
   "metadata": {},
   "source": [
    "# Statistics Parser"
   ]
  },
  {
   "cell_type": "code",
   "execution_count": 12,
   "metadata": {},
   "outputs": [],
   "source": [
    "def stat_parser(stat_file_path):\n",
    "    avg_mipc, mc = 0, 0\n",
    "    avg_cipc, cc = 0, 0\n",
    "    count = 0\n",
    "    i1_hit, l1_hit, l2_hit, l3_hit = [0]*4\n",
    "    with open(stat_file_path, \"r\") as f:\n",
    "        for line in f.readlines():\n",
    "            if line.startswith(\"IPC\"):\n",
    "                ipc = float(line.split(\"=\")[1].strip().split(\"\\t\")[0])\n",
    "                if \"micro-ops\"in line:\n",
    "                    avg_mipc += ipc\n",
    "                    mc += 1\n",
    "                if \"CISC\" in line:\n",
    "                    avg_cipc += ipc\n",
    "                    cc += 1\n",
    "            if line.startswith(\"L3 Hit-Rate\"):\n",
    "                l3_hit = float(line.split(\"=\")[1].strip().split(\"\\t\")[0])\n",
    "            if line.startswith(\"L2 Hit-Rate\"):\n",
    "                l2_hit = float(line.split(\"=\")[1].strip().split(\"\\t\")[0])\n",
    "            if line.startswith(\"L1 Hit-Rate\"):\n",
    "                l1_hit = float(line.split(\"=\")[1].strip().split(\"\\t\")[0])\n",
    "            if line.startswith(\"I1 Hit-Rate\"):\n",
    "                i1_hit = float(line.split(\"=\")[1].strip().split(\"\\t\")[0])\n",
    "    return {\n",
    "        \"Micro Ops IPC\": avg_mipc/mc,\n",
    "        \"CISC IPC\": avg_cipc/cc,\n",
    "        \"I1 Hit Rate\": i1_hit,\n",
    "        \"L1 Hit Rate\": l1_hit,\n",
    "        \"L2 Hit Rate\": l2_hit,\n",
    "        \"L3 Hit Rate\": l3_hit\n",
    "    }"
   ]
  },
  {
   "cell_type": "markdown",
   "metadata": {},
   "source": [
    "# Analyze"
   ]
  },
  {
   "cell_type": "code",
   "execution_count": 19,
   "metadata": {},
   "outputs": [
    {
     "name": "stdout",
     "output_type": "stream",
     "text": [
      "openssl_8 Simple\n",
      "openssl_8 Power4\n",
      "openssl_8 Bingo\n",
      "openssl_8 None\n",
      "blender_8 Simple\n",
      "blender_8 Power4\n",
      "blender_8 Bingo\n",
      "blender_8 None\n",
      "gimp_8 Simple\n",
      "gimp_8 Power4\n",
      "gimp_8 Bingo\n",
      "gimp_8 None\n",
      "numenta-nab_8 Simple\n",
      "numenta-nab_8 Power4\n",
      "numenta-nab_8 Bingo\n",
      "numenta-nab_8 None\n",
      "compress-7zip_8 Simple\n",
      "File Not Found: ./outputs/compress-7zip_8_Simple.stat\n",
      "compress-7zip_8 Power4\n",
      "File Not Found: ./outputs/compress-7zip_8_Power4.stat\n",
      "compress-7zip_8 Bingo\n",
      "File Not Found: ./outputs/compress-7zip_8_Bingo.stat\n",
      "compress-7zip_8 None\n",
      "File Not Found: ./outputs/compress-7zip_8_None.stat\n",
      "mcf Simple\n",
      "mcf Power4\n",
      "mcf Bingo\n",
      "mcf None\n",
      "namd Simple\n",
      "namd Power4\n",
      "namd Bingo\n",
      "namd None\n",
      "gcc Simple\n",
      "gcc Power4\n",
      "gcc Bingo\n",
      "gcc None\n",
      "xalancbmk Simple\n",
      "xalancbmk Power4\n",
      "xalancbmk Bingo\n",
      "xalancbmk None\n",
      "lbm Simple\n",
      "lbm Power4\n",
      "lbm Bingo\n",
      "lbm None\n"
     ]
    }
   ],
   "source": [
    "results = {}\n",
    "for benchmark in benchmarks+old_benchmarks:\n",
    "    results[benchmark] = {}\n",
    "    for prefetcher in prefetchers:\n",
    "        stat_file = f\"./outputs/{benchmark}_{prefetcher}.stat\"\n",
    "        try:\n",
    "            print(benchmark, prefetcher)\n",
    "            parsed_res = stat_parser(stat_file)\n",
    "            results[benchmark][prefetcher] = parsed_res\n",
    "        except:\n",
    "            print(\"File Not Found:\", stat_file)\n",
    "\n",
    "with open(\"results.json\", \"w+\") as f:\n",
    "    json.dump(results, f, indent=4)"
   ]
  },
  {
   "cell_type": "code",
   "execution_count": null,
   "metadata": {},
   "outputs": [],
   "source": []
  }
 ],
 "metadata": {
  "kernelspec": {
   "display_name": "env",
   "language": "python",
   "name": "python3"
  },
  "language_info": {
   "codemirror_mode": {
    "name": "ipython",
    "version": 3
   },
   "file_extension": ".py",
   "mimetype": "text/x-python",
   "name": "python",
   "nbconvert_exporter": "python",
   "pygments_lexer": "ipython3",
   "version": "3.10.12"
  }
 },
 "nbformat": 4,
 "nbformat_minor": 2
}

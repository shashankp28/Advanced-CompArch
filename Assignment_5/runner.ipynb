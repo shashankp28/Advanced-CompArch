{
 "cells": [
  {
   "cell_type": "markdown",
   "metadata": {},
   "source": [
    "# Imports"
   ]
  },
  {
   "cell_type": "code",
   "execution_count": 20,
   "metadata": {},
   "outputs": [],
   "source": [
    "import os\n",
    "from tqdm.notebook import tqdm\n",
    "import xml.etree.ElementTree as ET\n",
    "import subprocess"
   ]
  },
  {
   "cell_type": "markdown",
   "metadata": {},
   "source": [
    "# XML Parser"
   ]
  },
  {
   "cell_type": "code",
   "execution_count": 21,
   "metadata": {},
   "outputs": [],
   "source": [
    "def replace_key_in_xml(xml_file, key_val, output_file):\n",
    "    tree = ET.parse(xml_file)\n",
    "    root = tree.getroot()\n",
    "    for elem in root.iter():\n",
    "        if elem.tag in key_val:\n",
    "            key = elem.tag\n",
    "            val = key_val[key]\n",
    "            if key==\"Prefetcher\":\n",
    "                if elem.text==\"Power4\":\n",
    "                    elem.text = val\n",
    "            else:\n",
    "                elem.text = val\n",
    "    tree.write(output_file)"
   ]
  },
  {
   "cell_type": "markdown",
   "metadata": {},
   "source": [
    "# Build and Run"
   ]
  },
  {
   "cell_type": "code",
   "execution_count": 22,
   "metadata": {},
   "outputs": [],
   "source": [
    "def run(file_name):\n",
    "    err_file = f\"./err/{file_name}.err\"\n",
    "    assignment_dir=\"/home/shashankp/Desktop/GitHub_S/Advanced-CompArch/Assignment_5\"\n",
    "    resource_dir = \"/home/shashankp/Desktop/GitHub_S/Advanced-CompArch/cs810_resources\"\n",
    "    cmd = f\"java -jar {resource_dir}/Tejas/jars/tejas.jar {assignment_dir}/config_tigerlake_modified.xml {assignment_dir}/outputs/{file_name}.stat\"\n",
    "    with open(err_file, \"w\") as output_file: \n",
    "        subprocess.run(cmd, shell=True, stdout=output_file)"
   ]
  },
  {
   "cell_type": "markdown",
   "metadata": {},
   "source": [
    "# Constants"
   ]
  },
  {
   "cell_type": "code",
   "execution_count": 23,
   "metadata": {},
   "outputs": [],
   "source": [
    "prefetchers = [\"Simple\", \"Power4\", \"Bingo\", \"None\"]\n",
    "config_file_path = \"./config_tigerlake.xml\"\n",
    "output_file = \"./config_tigerlake_modified.xml\""
   ]
  },
  {
   "cell_type": "markdown",
   "metadata": {},
   "source": [
    "# New Benchmarks"
   ]
  },
  {
   "cell_type": "code",
   "execution_count": 24,
   "metadata": {},
   "outputs": [
    {
     "data": {
      "application/vnd.jupyter.widget-view+json": {
       "model_id": "e83ffb449d764722ab8a6bb68e957201",
       "version_major": 2,
       "version_minor": 0
      },
      "text/plain": [
       "  0%|          | 0/32 [00:00<?, ?it/s]"
      ]
     },
     "metadata": {},
     "output_type": "display_data"
    },
    {
     "name": "stdout",
     "output_type": "stream",
     "text": [
      "stream_8\n"
     ]
    },
    {
     "name": "stderr",
     "output_type": "stream",
     "text": [
      " (TAGE 463917)  (LOOP 1248)  (SC 58190)  (TOTAL 523355 bits 511 Kbits)  (TAGE 463917)  (LOOP 1248)  (SC 58190)  (TOTAL 523355 bits 511 Kbits)  (TAGE 463917)  (LOOP 1248)  (SC 58190)  (TOTAL 523355 bits 511 Kbits)  (TAGE 463917)  (LOOP 1248)  (SC 58190)  (TOTAL 523355 bits 511 Kbits)  (TAGE 463917)  (LOOP 1248)  (SC 58190)  (TOTAL 523355 bits 511 Kbits)  (TAGE 463917)  (LOOP 1248)  (SC 58190)  (TOTAL 523355 bits 511 Kbits)  (TAGE 463917)  (LOOP 1248)  (SC 58190)  (TOTAL 523355 bits 511 Kbits)  (TAGE 463917)  (LOOP 1248)  (SC 58190)  (TOTAL 523355 bits 511 Kbits) "
     ]
    }
   ],
   "source": [
    "benchmark_path = \"/home/shashankp/Desktop/GitHub_S/Advanced-CompArch/phoronix_short_traces/\"\n",
    "benchmarks = os.listdir(benchmark_path)\n",
    "\n",
    "total = len(prefetchers) * len(benchmarks)\n",
    "pb = tqdm(total=total)\n",
    "for prefetcher in prefetchers:\n",
    "    for benchmark in benchmarks:\n",
    "        pb.update(1)\n",
    "        if \"_8\" not in benchmark:\n",
    "            continue\n",
    "        print(benchmark)\n",
    "        key_vals = {\n",
    "            \"isVISATrace\": \"false\",\n",
    "            \"Prefetcher\": prefetcher,\n",
    "            \"BenchmarkPath\": benchmark_path+benchmark+f\"/{benchmark.split('_')[0]}\",\n",
    "        }\n",
    "        replace_key_in_xml(config_file_path, key_vals, output_file)\n",
    "        file_name = f\"{benchmark}_{prefetcher}\"\n",
    "        run(file_name)\n",
    "    "
   ]
  }
 ],
 "metadata": {
  "kernelspec": {
   "display_name": "env",
   "language": "python",
   "name": "python3"
  },
  "language_info": {
   "codemirror_mode": {
    "name": "ipython",
    "version": 3
   },
   "file_extension": ".py",
   "mimetype": "text/x-python",
   "name": "python",
   "nbconvert_exporter": "python",
   "pygments_lexer": "ipython3",
   "version": "3.10.12"
  }
 },
 "nbformat": 4,
 "nbformat_minor": 2
}

{
 "cells": [
  {
   "cell_type": "markdown",
   "metadata": {},
   "source": [
    "# Imports"
   ]
  },
  {
   "cell_type": "code",
   "execution_count": 9,
   "metadata": {},
   "outputs": [],
   "source": [
    "import os\n",
    "from tqdm.notebook import tqdm\n",
    "import xml.etree.ElementTree as ET\n",
    "import subprocess"
   ]
  },
  {
   "cell_type": "markdown",
   "metadata": {},
   "source": [
    "# XML Parser"
   ]
  },
  {
   "cell_type": "code",
   "execution_count": 10,
   "metadata": {},
   "outputs": [],
   "source": [
    "def replace_key_in_xml(xml_file, key_val, output_file):\n",
    "    tree = ET.parse(xml_file)\n",
    "    root = tree.getroot()\n",
    "    for elem in root.iter():\n",
    "        if elem.tag in key_val:\n",
    "            key = elem.tag\n",
    "            val = key_val[key]\n",
    "            if key==\"Prefetcher\":\n",
    "                if elem.text==\"Power4\":\n",
    "                    elem.text = val\n",
    "            else:\n",
    "                elem.text = val\n",
    "    tree.write(output_file)"
   ]
  },
  {
   "cell_type": "markdown",
   "metadata": {},
   "source": [
    "# Build and Run"
   ]
  },
  {
   "cell_type": "code",
   "execution_count": 11,
   "metadata": {},
   "outputs": [],
   "source": [
    "def run(file_name, benchmark_path=\"\"):\n",
    "    err_file = f\"./err/{file_name}.err\"\n",
    "    assignment_dir=\"/home/shashankp/Desktop/GitHub_S/Advanced-CompArch/Assignment_5\"\n",
    "    resource_dir = \"/home/shashankp/Desktop/GitHub_S/Advanced-CompArch/cs810_resources\"\n",
    "    cmd = f\"java -jar {resource_dir}/Tejas/jars/tejas.jar {assignment_dir}/config_tigerlake_modified.xml {assignment_dir}/outputs/{file_name}.stat\"\n",
    "    cmd += f\" {benchmark_path}\"\n",
    "    with open(err_file, \"w\") as output_file:\n",
    "        print(cmd)\n",
    "        subprocess.run(cmd, shell=True, stdout=output_file)"
   ]
  },
  {
   "cell_type": "markdown",
   "metadata": {},
   "source": [
    "# Constants"
   ]
  },
  {
   "cell_type": "code",
   "execution_count": 12,
   "metadata": {},
   "outputs": [],
   "source": [
    "prefetchers = [\"Simple\", \"Power4\", \"Bingo\", \"None\"]\n",
    "config_file_path = \"./config_tigerlake.xml\"\n",
    "output_file = \"./config_tigerlake_modified.xml\""
   ]
  },
  {
   "cell_type": "markdown",
   "metadata": {},
   "source": [
    "# New Benchmarks"
   ]
  },
  {
   "cell_type": "code",
   "execution_count": 13,
   "metadata": {},
   "outputs": [
    {
     "data": {
      "application/vnd.jupyter.widget-view+json": {
       "model_id": "122068a560b3492b8aea5c15a1bf21e3",
       "version_major": 2,
       "version_minor": 0
      },
      "text/plain": [
       "  0%|          | 0/20 [00:00<?, ?it/s]"
      ]
     },
     "metadata": {},
     "output_type": "display_data"
    },
    {
     "name": "stdout",
     "output_type": "stream",
     "text": [
      "openssl_8 Simple\n",
      "java -jar /home/shashankp/Desktop/GitHub_S/Advanced-CompArch/cs810_resources/Tejas/jars/tejas.jar /home/shashankp/Desktop/GitHub_S/Advanced-CompArch/Assignment_5/config_tigerlake_modified.xml /home/shashankp/Desktop/GitHub_S/Advanced-CompArch/Assignment_5/outputs/openssl_8_Simple.stat \n"
     ]
    },
    {
     "name": "stderr",
     "output_type": "stream",
     "text": [
      " (TAGE 463917)  (LOOP 1248)  (SC 58190)  (TOTAL 523355 bits 511 Kbits)  (TAGE 463917)  (LOOP 1248)  (SC 58190)  (TOTAL 523355 bits 511 Kbits)  (TAGE 463917)  (LOOP 1248)  (SC 58190)  (TOTAL 523355 bits 511 Kbits)  (TAGE 463917)  (LOOP 1248)  (SC 58190)  (TOTAL 523355 bits 511 Kbits)  (TAGE 463917)  (LOOP 1248)  (SC 58190)  (TOTAL 523355 bits 511 Kbits)  (TAGE 463917)  (LOOP 1248)  (SC 58190)  (TOTAL 523355 bits 511 Kbits)  (TAGE 463917)  (LOOP 1248)  (SC 58190)  (TOTAL 523355 bits 511 Kbits)  (TAGE 463917)  (LOOP 1248)  (SC 58190)  (TOTAL 523355 bits 511 Kbits) "
     ]
    },
    {
     "ename": "KeyboardInterrupt",
     "evalue": "",
     "output_type": "error",
     "traceback": [
      "\u001b[0;31m---------------------------------------------------------------------------\u001b[0m",
      "\u001b[0;31mKeyboardInterrupt\u001b[0m                         Traceback (most recent call last)",
      "\u001b[1;32m/home/shashankp/Desktop/GitHub_S/Advanced-CompArch/Assignment_5/runner.ipynb Cell 10\u001b[0m line \u001b[0;36m1\n\u001b[1;32m     <a href='vscode-notebook-cell:/home/shashankp/Desktop/GitHub_S/Advanced-CompArch/Assignment_5/runner.ipynb#X12sZmlsZQ%3D%3D?line=16'>17</a>\u001b[0m replace_key_in_xml(config_file_path, key_vals, output_file)\n\u001b[1;32m     <a href='vscode-notebook-cell:/home/shashankp/Desktop/GitHub_S/Advanced-CompArch/Assignment_5/runner.ipynb#X12sZmlsZQ%3D%3D?line=17'>18</a>\u001b[0m file_name \u001b[39m=\u001b[39m \u001b[39mf\u001b[39m\u001b[39m\"\u001b[39m\u001b[39m{\u001b[39;00mbenchmark\u001b[39m}\u001b[39;00m\u001b[39m_\u001b[39m\u001b[39m{\u001b[39;00mprefetcher\u001b[39m}\u001b[39;00m\u001b[39m\"\u001b[39m\n\u001b[0;32m---> <a href='vscode-notebook-cell:/home/shashankp/Desktop/GitHub_S/Advanced-CompArch/Assignment_5/runner.ipynb#X12sZmlsZQ%3D%3D?line=18'>19</a>\u001b[0m run(file_name)\n",
      "\u001b[1;32m/home/shashankp/Desktop/GitHub_S/Advanced-CompArch/Assignment_5/runner.ipynb Cell 10\u001b[0m line \u001b[0;36m9\n\u001b[1;32m      <a href='vscode-notebook-cell:/home/shashankp/Desktop/GitHub_S/Advanced-CompArch/Assignment_5/runner.ipynb#X12sZmlsZQ%3D%3D?line=6'>7</a>\u001b[0m \u001b[39mwith\u001b[39;00m \u001b[39mopen\u001b[39m(err_file, \u001b[39m\"\u001b[39m\u001b[39mw\u001b[39m\u001b[39m\"\u001b[39m) \u001b[39mas\u001b[39;00m output_file:\n\u001b[1;32m      <a href='vscode-notebook-cell:/home/shashankp/Desktop/GitHub_S/Advanced-CompArch/Assignment_5/runner.ipynb#X12sZmlsZQ%3D%3D?line=7'>8</a>\u001b[0m     \u001b[39mprint\u001b[39m(cmd)\n\u001b[0;32m----> <a href='vscode-notebook-cell:/home/shashankp/Desktop/GitHub_S/Advanced-CompArch/Assignment_5/runner.ipynb#X12sZmlsZQ%3D%3D?line=8'>9</a>\u001b[0m     subprocess\u001b[39m.\u001b[39;49mrun(cmd, shell\u001b[39m=\u001b[39;49m\u001b[39mTrue\u001b[39;49;00m, stdout\u001b[39m=\u001b[39;49moutput_file)\n",
      "File \u001b[0;32m/usr/lib/python3.10/subprocess.py:505\u001b[0m, in \u001b[0;36mrun\u001b[0;34m(input, capture_output, timeout, check, *popenargs, **kwargs)\u001b[0m\n\u001b[1;32m    503\u001b[0m \u001b[39mwith\u001b[39;00m Popen(\u001b[39m*\u001b[39mpopenargs, \u001b[39m*\u001b[39m\u001b[39m*\u001b[39mkwargs) \u001b[39mas\u001b[39;00m process:\n\u001b[1;32m    504\u001b[0m     \u001b[39mtry\u001b[39;00m:\n\u001b[0;32m--> 505\u001b[0m         stdout, stderr \u001b[39m=\u001b[39m process\u001b[39m.\u001b[39;49mcommunicate(\u001b[39minput\u001b[39;49m, timeout\u001b[39m=\u001b[39;49mtimeout)\n\u001b[1;32m    506\u001b[0m     \u001b[39mexcept\u001b[39;00m TimeoutExpired \u001b[39mas\u001b[39;00m exc:\n\u001b[1;32m    507\u001b[0m         process\u001b[39m.\u001b[39mkill()\n",
      "File \u001b[0;32m/usr/lib/python3.10/subprocess.py:1146\u001b[0m, in \u001b[0;36mPopen.communicate\u001b[0;34m(self, input, timeout)\u001b[0m\n\u001b[1;32m   1144\u001b[0m         stderr \u001b[39m=\u001b[39m \u001b[39mself\u001b[39m\u001b[39m.\u001b[39mstderr\u001b[39m.\u001b[39mread()\n\u001b[1;32m   1145\u001b[0m         \u001b[39mself\u001b[39m\u001b[39m.\u001b[39mstderr\u001b[39m.\u001b[39mclose()\n\u001b[0;32m-> 1146\u001b[0m     \u001b[39mself\u001b[39;49m\u001b[39m.\u001b[39;49mwait()\n\u001b[1;32m   1147\u001b[0m \u001b[39melse\u001b[39;00m:\n\u001b[1;32m   1148\u001b[0m     \u001b[39mif\u001b[39;00m timeout \u001b[39mis\u001b[39;00m \u001b[39mnot\u001b[39;00m \u001b[39mNone\u001b[39;00m:\n",
      "File \u001b[0;32m/usr/lib/python3.10/subprocess.py:1209\u001b[0m, in \u001b[0;36mPopen.wait\u001b[0;34m(self, timeout)\u001b[0m\n\u001b[1;32m   1207\u001b[0m     endtime \u001b[39m=\u001b[39m _time() \u001b[39m+\u001b[39m timeout\n\u001b[1;32m   1208\u001b[0m \u001b[39mtry\u001b[39;00m:\n\u001b[0;32m-> 1209\u001b[0m     \u001b[39mreturn\u001b[39;00m \u001b[39mself\u001b[39;49m\u001b[39m.\u001b[39;49m_wait(timeout\u001b[39m=\u001b[39;49mtimeout)\n\u001b[1;32m   1210\u001b[0m \u001b[39mexcept\u001b[39;00m \u001b[39mKeyboardInterrupt\u001b[39;00m:\n\u001b[1;32m   1211\u001b[0m     \u001b[39m# https://bugs.python.org/issue25942\u001b[39;00m\n\u001b[1;32m   1212\u001b[0m     \u001b[39m# The first keyboard interrupt waits briefly for the child to\u001b[39;00m\n\u001b[1;32m   1213\u001b[0m     \u001b[39m# exit under the common assumption that it also received the ^C\u001b[39;00m\n\u001b[1;32m   1214\u001b[0m     \u001b[39m# generated SIGINT and will exit rapidly.\u001b[39;00m\n\u001b[1;32m   1215\u001b[0m     \u001b[39mif\u001b[39;00m timeout \u001b[39mis\u001b[39;00m \u001b[39mnot\u001b[39;00m \u001b[39mNone\u001b[39;00m:\n",
      "File \u001b[0;32m/usr/lib/python3.10/subprocess.py:1959\u001b[0m, in \u001b[0;36mPopen._wait\u001b[0;34m(self, timeout)\u001b[0m\n\u001b[1;32m   1957\u001b[0m \u001b[39mif\u001b[39;00m \u001b[39mself\u001b[39m\u001b[39m.\u001b[39mreturncode \u001b[39mis\u001b[39;00m \u001b[39mnot\u001b[39;00m \u001b[39mNone\u001b[39;00m:\n\u001b[1;32m   1958\u001b[0m     \u001b[39mbreak\u001b[39;00m  \u001b[39m# Another thread waited.\u001b[39;00m\n\u001b[0;32m-> 1959\u001b[0m (pid, sts) \u001b[39m=\u001b[39m \u001b[39mself\u001b[39;49m\u001b[39m.\u001b[39;49m_try_wait(\u001b[39m0\u001b[39;49m)\n\u001b[1;32m   1960\u001b[0m \u001b[39m# Check the pid and loop as waitpid has been known to\u001b[39;00m\n\u001b[1;32m   1961\u001b[0m \u001b[39m# return 0 even without WNOHANG in odd situations.\u001b[39;00m\n\u001b[1;32m   1962\u001b[0m \u001b[39m# http://bugs.python.org/issue14396.\u001b[39;00m\n\u001b[1;32m   1963\u001b[0m \u001b[39mif\u001b[39;00m pid \u001b[39m==\u001b[39m \u001b[39mself\u001b[39m\u001b[39m.\u001b[39mpid:\n",
      "File \u001b[0;32m/usr/lib/python3.10/subprocess.py:1917\u001b[0m, in \u001b[0;36mPopen._try_wait\u001b[0;34m(self, wait_flags)\u001b[0m\n\u001b[1;32m   1915\u001b[0m \u001b[39m\u001b[39m\u001b[39m\"\"\"All callers to this function MUST hold self._waitpid_lock.\"\"\"\u001b[39;00m\n\u001b[1;32m   1916\u001b[0m \u001b[39mtry\u001b[39;00m:\n\u001b[0;32m-> 1917\u001b[0m     (pid, sts) \u001b[39m=\u001b[39m os\u001b[39m.\u001b[39;49mwaitpid(\u001b[39mself\u001b[39;49m\u001b[39m.\u001b[39;49mpid, wait_flags)\n\u001b[1;32m   1918\u001b[0m \u001b[39mexcept\u001b[39;00m \u001b[39mChildProcessError\u001b[39;00m:\n\u001b[1;32m   1919\u001b[0m     \u001b[39m# This happens if SIGCLD is set to be ignored or waiting\u001b[39;00m\n\u001b[1;32m   1920\u001b[0m     \u001b[39m# for child processes has otherwise been disabled for our\u001b[39;00m\n\u001b[1;32m   1921\u001b[0m     \u001b[39m# process.  This child is dead, we can't get the status.\u001b[39;00m\n\u001b[1;32m   1922\u001b[0m     pid \u001b[39m=\u001b[39m \u001b[39mself\u001b[39m\u001b[39m.\u001b[39mpid\n",
      "\u001b[0;31mKeyboardInterrupt\u001b[0m: "
     ]
    }
   ],
   "source": [
    "benchmark_path = \"/home/shashankp/Desktop/GitHub_S/Advanced-CompArch/phoronix_short_traces/\"\n",
    "benchmarks = os.listdir(benchmark_path)\n",
    "bad_bench = [\"intel-mlc_8\", \"stream_8\"]\n",
    "benchmarks = [x for x in benchmarks if x not in bad_bench and \"_8\" in x]\n",
    "\n",
    "total = len(prefetchers) * len(benchmarks)\n",
    "pb = tqdm(total=total)\n",
    "for prefetcher in prefetchers:\n",
    "    for benchmark in benchmarks:\n",
    "        pb.update(1)\n",
    "        print(benchmark, prefetcher)\n",
    "        key_vals = {\n",
    "            \"isVISATrace\": \"false\",\n",
    "            \"Prefetcher\": prefetcher,\n",
    "            \"BenchmarkPath\": benchmark_path+benchmark+f\"/{benchmark.split('_')[0]}\",\n",
    "        }\n",
    "        replace_key_in_xml(config_file_path, key_vals, output_file)\n",
    "        file_name = f\"{benchmark}_{prefetcher}\"\n",
    "        run(file_name)"
   ]
  },
  {
   "cell_type": "markdown",
   "metadata": {},
   "source": [
    "# Old Benchmarks"
   ]
  },
  {
   "cell_type": "code",
   "execution_count": 14,
   "metadata": {},
   "outputs": [
    {
     "data": {
      "application/vnd.jupyter.widget-view+json": {
       "model_id": "3684bd01669b43b5b592447c21c61f35",
       "version_major": 2,
       "version_minor": 0
      },
      "text/plain": [
       "  0%|          | 0/20 [00:00<?, ?it/s]"
      ]
     },
     "metadata": {},
     "output_type": "display_data"
    },
    {
     "name": "stdout",
     "output_type": "stream",
     "text": [
      "mcf Simple\n",
      "java -jar /home/shashankp/Desktop/GitHub_S/Advanced-CompArch/cs810_resources/Tejas/jars/tejas.jar /home/shashankp/Desktop/GitHub_S/Advanced-CompArch/Assignment_5/config_tigerlake_modified.xml /home/shashankp/Desktop/GitHub_S/Advanced-CompArch/Assignment_5/outputs/mcf_Simple.stat /home/shashankp/Desktop/GitHub_S/Advanced-CompArch/cs810_resources/CPU2017_benchmarks/tejas_traces/mcf\n"
     ]
    },
    {
     "name": "stderr",
     "output_type": "stream",
     "text": [
      " (TAGE 463917)  (LOOP 1248)  (SC 58190)  (TOTAL 523355 bits 511 Kbits)  (TAGE 463917)  (LOOP 1248)  (SC 58190)  (TOTAL 523355 bits 511 Kbits)  (TAGE 463917)  (LOOP 1248)  (SC 58190)  (TOTAL 523355 bits 511 Kbits)  (TAGE 463917)  (LOOP 1248)  (SC 58190)  (TOTAL 523355 bits 511 Kbits)  (TAGE 463917)  (LOOP 1248)  (SC 58190)  (TOTAL 523355 bits 511 Kbits)  (TAGE 463917)  (LOOP 1248)  (SC 58190)  (TOTAL 523355 bits 511 Kbits)  (TAGE 463917)  (LOOP 1248)  (SC 58190)  (TOTAL 523355 bits 511 Kbits)  (TAGE 463917)  (LOOP 1248)  (SC 58190)  (TOTAL 523355 bits 511 Kbits) "
     ]
    },
    {
     "ename": "KeyboardInterrupt",
     "evalue": "",
     "output_type": "error",
     "traceback": [
      "\u001b[0;31m---------------------------------------------------------------------------\u001b[0m",
      "\u001b[0;31mKeyboardInterrupt\u001b[0m                         Traceback (most recent call last)",
      "\u001b[1;32m/home/shashankp/Desktop/GitHub_S/Advanced-CompArch/Assignment_5/runner.ipynb Cell 12\u001b[0m line \u001b[0;36m1\n\u001b[1;32m     <a href='vscode-notebook-cell:/home/shashankp/Desktop/GitHub_S/Advanced-CompArch/Assignment_5/runner.ipynb#X14sZmlsZQ%3D%3D?line=16'>17</a>\u001b[0m replace_key_in_xml(config_file_path, key_vals, output_file)\n\u001b[1;32m     <a href='vscode-notebook-cell:/home/shashankp/Desktop/GitHub_S/Advanced-CompArch/Assignment_5/runner.ipynb#X14sZmlsZQ%3D%3D?line=17'>18</a>\u001b[0m file_name \u001b[39m=\u001b[39m \u001b[39mf\u001b[39m\u001b[39m\"\u001b[39m\u001b[39m{\u001b[39;00mbenchmark\u001b[39m}\u001b[39;00m\u001b[39m_\u001b[39m\u001b[39m{\u001b[39;00mprefetcher\u001b[39m}\u001b[39;00m\u001b[39m\"\u001b[39m\n\u001b[0;32m---> <a href='vscode-notebook-cell:/home/shashankp/Desktop/GitHub_S/Advanced-CompArch/Assignment_5/runner.ipynb#X14sZmlsZQ%3D%3D?line=18'>19</a>\u001b[0m run(file_name, benchmark_path\u001b[39m=\u001b[39;49mbenchmark_path)\n",
      "\u001b[1;32m/home/shashankp/Desktop/GitHub_S/Advanced-CompArch/Assignment_5/runner.ipynb Cell 12\u001b[0m line \u001b[0;36m9\n\u001b[1;32m      <a href='vscode-notebook-cell:/home/shashankp/Desktop/GitHub_S/Advanced-CompArch/Assignment_5/runner.ipynb#X14sZmlsZQ%3D%3D?line=6'>7</a>\u001b[0m \u001b[39mwith\u001b[39;00m \u001b[39mopen\u001b[39m(err_file, \u001b[39m\"\u001b[39m\u001b[39mw\u001b[39m\u001b[39m\"\u001b[39m) \u001b[39mas\u001b[39;00m output_file:\n\u001b[1;32m      <a href='vscode-notebook-cell:/home/shashankp/Desktop/GitHub_S/Advanced-CompArch/Assignment_5/runner.ipynb#X14sZmlsZQ%3D%3D?line=7'>8</a>\u001b[0m     \u001b[39mprint\u001b[39m(cmd)\n\u001b[0;32m----> <a href='vscode-notebook-cell:/home/shashankp/Desktop/GitHub_S/Advanced-CompArch/Assignment_5/runner.ipynb#X14sZmlsZQ%3D%3D?line=8'>9</a>\u001b[0m     subprocess\u001b[39m.\u001b[39;49mrun(cmd, shell\u001b[39m=\u001b[39;49m\u001b[39mTrue\u001b[39;49;00m, stdout\u001b[39m=\u001b[39;49moutput_file)\n",
      "File \u001b[0;32m/usr/lib/python3.10/subprocess.py:505\u001b[0m, in \u001b[0;36mrun\u001b[0;34m(input, capture_output, timeout, check, *popenargs, **kwargs)\u001b[0m\n\u001b[1;32m    503\u001b[0m \u001b[39mwith\u001b[39;00m Popen(\u001b[39m*\u001b[39mpopenargs, \u001b[39m*\u001b[39m\u001b[39m*\u001b[39mkwargs) \u001b[39mas\u001b[39;00m process:\n\u001b[1;32m    504\u001b[0m     \u001b[39mtry\u001b[39;00m:\n\u001b[0;32m--> 505\u001b[0m         stdout, stderr \u001b[39m=\u001b[39m process\u001b[39m.\u001b[39;49mcommunicate(\u001b[39minput\u001b[39;49m, timeout\u001b[39m=\u001b[39;49mtimeout)\n\u001b[1;32m    506\u001b[0m     \u001b[39mexcept\u001b[39;00m TimeoutExpired \u001b[39mas\u001b[39;00m exc:\n\u001b[1;32m    507\u001b[0m         process\u001b[39m.\u001b[39mkill()\n",
      "File \u001b[0;32m/usr/lib/python3.10/subprocess.py:1146\u001b[0m, in \u001b[0;36mPopen.communicate\u001b[0;34m(self, input, timeout)\u001b[0m\n\u001b[1;32m   1144\u001b[0m         stderr \u001b[39m=\u001b[39m \u001b[39mself\u001b[39m\u001b[39m.\u001b[39mstderr\u001b[39m.\u001b[39mread()\n\u001b[1;32m   1145\u001b[0m         \u001b[39mself\u001b[39m\u001b[39m.\u001b[39mstderr\u001b[39m.\u001b[39mclose()\n\u001b[0;32m-> 1146\u001b[0m     \u001b[39mself\u001b[39;49m\u001b[39m.\u001b[39;49mwait()\n\u001b[1;32m   1147\u001b[0m \u001b[39melse\u001b[39;00m:\n\u001b[1;32m   1148\u001b[0m     \u001b[39mif\u001b[39;00m timeout \u001b[39mis\u001b[39;00m \u001b[39mnot\u001b[39;00m \u001b[39mNone\u001b[39;00m:\n",
      "File \u001b[0;32m/usr/lib/python3.10/subprocess.py:1209\u001b[0m, in \u001b[0;36mPopen.wait\u001b[0;34m(self, timeout)\u001b[0m\n\u001b[1;32m   1207\u001b[0m     endtime \u001b[39m=\u001b[39m _time() \u001b[39m+\u001b[39m timeout\n\u001b[1;32m   1208\u001b[0m \u001b[39mtry\u001b[39;00m:\n\u001b[0;32m-> 1209\u001b[0m     \u001b[39mreturn\u001b[39;00m \u001b[39mself\u001b[39;49m\u001b[39m.\u001b[39;49m_wait(timeout\u001b[39m=\u001b[39;49mtimeout)\n\u001b[1;32m   1210\u001b[0m \u001b[39mexcept\u001b[39;00m \u001b[39mKeyboardInterrupt\u001b[39;00m:\n\u001b[1;32m   1211\u001b[0m     \u001b[39m# https://bugs.python.org/issue25942\u001b[39;00m\n\u001b[1;32m   1212\u001b[0m     \u001b[39m# The first keyboard interrupt waits briefly for the child to\u001b[39;00m\n\u001b[1;32m   1213\u001b[0m     \u001b[39m# exit under the common assumption that it also received the ^C\u001b[39;00m\n\u001b[1;32m   1214\u001b[0m     \u001b[39m# generated SIGINT and will exit rapidly.\u001b[39;00m\n\u001b[1;32m   1215\u001b[0m     \u001b[39mif\u001b[39;00m timeout \u001b[39mis\u001b[39;00m \u001b[39mnot\u001b[39;00m \u001b[39mNone\u001b[39;00m:\n",
      "File \u001b[0;32m/usr/lib/python3.10/subprocess.py:1959\u001b[0m, in \u001b[0;36mPopen._wait\u001b[0;34m(self, timeout)\u001b[0m\n\u001b[1;32m   1957\u001b[0m \u001b[39mif\u001b[39;00m \u001b[39mself\u001b[39m\u001b[39m.\u001b[39mreturncode \u001b[39mis\u001b[39;00m \u001b[39mnot\u001b[39;00m \u001b[39mNone\u001b[39;00m:\n\u001b[1;32m   1958\u001b[0m     \u001b[39mbreak\u001b[39;00m  \u001b[39m# Another thread waited.\u001b[39;00m\n\u001b[0;32m-> 1959\u001b[0m (pid, sts) \u001b[39m=\u001b[39m \u001b[39mself\u001b[39;49m\u001b[39m.\u001b[39;49m_try_wait(\u001b[39m0\u001b[39;49m)\n\u001b[1;32m   1960\u001b[0m \u001b[39m# Check the pid and loop as waitpid has been known to\u001b[39;00m\n\u001b[1;32m   1961\u001b[0m \u001b[39m# return 0 even without WNOHANG in odd situations.\u001b[39;00m\n\u001b[1;32m   1962\u001b[0m \u001b[39m# http://bugs.python.org/issue14396.\u001b[39;00m\n\u001b[1;32m   1963\u001b[0m \u001b[39mif\u001b[39;00m pid \u001b[39m==\u001b[39m \u001b[39mself\u001b[39m\u001b[39m.\u001b[39mpid:\n",
      "File \u001b[0;32m/usr/lib/python3.10/subprocess.py:1917\u001b[0m, in \u001b[0;36mPopen._try_wait\u001b[0;34m(self, wait_flags)\u001b[0m\n\u001b[1;32m   1915\u001b[0m \u001b[39m\u001b[39m\u001b[39m\"\"\"All callers to this function MUST hold self._waitpid_lock.\"\"\"\u001b[39;00m\n\u001b[1;32m   1916\u001b[0m \u001b[39mtry\u001b[39;00m:\n\u001b[0;32m-> 1917\u001b[0m     (pid, sts) \u001b[39m=\u001b[39m os\u001b[39m.\u001b[39;49mwaitpid(\u001b[39mself\u001b[39;49m\u001b[39m.\u001b[39;49mpid, wait_flags)\n\u001b[1;32m   1918\u001b[0m \u001b[39mexcept\u001b[39;00m \u001b[39mChildProcessError\u001b[39;00m:\n\u001b[1;32m   1919\u001b[0m     \u001b[39m# This happens if SIGCLD is set to be ignored or waiting\u001b[39;00m\n\u001b[1;32m   1920\u001b[0m     \u001b[39m# for child processes has otherwise been disabled for our\u001b[39;00m\n\u001b[1;32m   1921\u001b[0m     \u001b[39m# process.  This child is dead, we can't get the status.\u001b[39;00m\n\u001b[1;32m   1922\u001b[0m     pid \u001b[39m=\u001b[39m \u001b[39mself\u001b[39m\u001b[39m.\u001b[39mpid\n",
      "\u001b[0;31mKeyboardInterrupt\u001b[0m: "
     ]
    }
   ],
   "source": [
    "benchmark_path = \"/home/shashankp/Desktop/GitHub_S/Advanced-CompArch/cs810_resources/CPU2017_benchmarks/tejas_traces/\"\n",
    "old_benchmarks = os.listdir(benchmark_path)\n",
    "old_benchmarks = list(set([x.split(\"_\")[0] for x in old_benchmarks]))\n",
    "\n",
    "total = len(prefetchers) * len(old_benchmarks)\n",
    "pb = tqdm(total=total)\n",
    "for prefetcher in prefetchers:\n",
    "    for benchmark in old_benchmarks:\n",
    "        pb.update(1)\n",
    "        print(benchmark, prefetcher)\n",
    "        benchmark_path = benchmark_path+benchmark\n",
    "        key_vals = {\n",
    "            \"isVISATrace\": \"true\",\n",
    "            \"Prefetcher\": prefetcher,\n",
    "            \"BenchmarkPath\": benchmark_path\n",
    "        }\n",
    "        replace_key_in_xml(config_file_path, key_vals, output_file)\n",
    "        file_name = f\"{benchmark}_{prefetcher}\"\n",
    "        run(file_name, benchmark_path=benchmark_path)"
   ]
  },
  {
   "cell_type": "markdown",
   "metadata": {},
   "source": [
    "# Statistics Parser"
   ]
  },
  {
   "cell_type": "code",
   "execution_count": null,
   "metadata": {},
   "outputs": [],
   "source": [
    "def stat_parser(stat_file_path):\n",
    "    avg_mipc, mc = 0, 0\n",
    "    avg_cipc, cc = 0, 0\n",
    "    count = 0\n",
    "    i1_hit, l1_hit, l2_hit, l3_hit = [0]*4\n",
    "    with open(stat_file_path, \"r\") as f:\n",
    "        for line in f.readlines():\n",
    "            if line.startswith(\"IPC\"):\n",
    "                ipc = float(line.split(\"=\")[1].strip().split(\"\\t\")[0])\n",
    "                if \"micro-ops\"in line:\n",
    "                    avg_mipc += ipc\n",
    "                    mc += 1\n",
    "                if \"CISC\" in line:\n",
    "                    avg_cipc += ipc\n",
    "                    cc += 1\n",
    "            if line.startswith(\"L3 Hit-Rate\"):\n",
    "                l3_hit = float(line.split(\"=\")[1].strip().split(\"\\t\")[0])\n",
    "            if line.startswith(\"L2 Hit-Rate\"):\n",
    "                l2_hit = float(line.split(\"=\")[1].strip().split(\"\\t\")[0])\n",
    "            if line.startswith(\"L1 Hit-Rate\"):\n",
    "                l1_hit = float(line.split(\"=\")[1].strip().split(\"\\t\")[0])\n",
    "            if line.startswith(\"I1 Hit-Rate\"):\n",
    "                i1_hit = float(line.split(\"=\")[1].strip().split(\"\\t\")[0])\n",
    "    return {\n",
    "        \"Micro Ops IPC\": avg_mipc/mc,\n",
    "        \"CISC IPC\": avg_cipc/cc,\n",
    "        \"I1 Hit Rate\": i1_hit,\n",
    "        \"L1 Hit Rate\": l1_hit,\n",
    "        \"L2 Hit Rate\": l2_hit,\n",
    "        \"L3 Hit Rate\": l3_hit\n",
    "    }"
   ]
  },
  {
   "cell_type": "markdown",
   "metadata": {},
   "source": [
    "# Analyze"
   ]
  },
  {
   "cell_type": "code",
   "execution_count": null,
   "metadata": {},
   "outputs": [
    {
     "name": "stdout",
     "output_type": "stream",
     "text": [
      "openssl_8 Simple\n",
      "openssl_8 Power4\n",
      "openssl_8 Bingo\n",
      "openssl_8 None\n",
      "File Not Found: ./outputs/openssl_8_None.stat\n",
      "blender_8 Simple\n",
      "blender_8 Power4\n",
      "blender_8 Bingo\n",
      "blender_8 None\n",
      "File Not Found: ./outputs/blender_8_None.stat\n",
      "gimp_8 Simple\n",
      "gimp_8 Power4\n",
      "gimp_8 Bingo\n",
      "gimp_8 None\n",
      "File Not Found: ./outputs/gimp_8_None.stat\n",
      "numenta-nab_8 Simple\n",
      "numenta-nab_8 Power4\n",
      "numenta-nab_8 Bingo\n",
      "File Not Found: ./outputs/numenta-nab_8_Bingo.stat\n",
      "numenta-nab_8 None\n",
      "File Not Found: ./outputs/numenta-nab_8_None.stat\n",
      "compress-7zip_8 Simple\n",
      "File Not Found: ./outputs/compress-7zip_8_Simple.stat\n",
      "compress-7zip_8 Power4\n",
      "File Not Found: ./outputs/compress-7zip_8_Power4.stat\n",
      "compress-7zip_8 Bingo\n",
      "File Not Found: ./outputs/compress-7zip_8_Bingo.stat\n",
      "compress-7zip_8 None\n",
      "File Not Found: ./outputs/compress-7zip_8_None.stat\n"
     ]
    },
    {
     "data": {
      "text/plain": [
       "{'openssl_8': {'Simple': {'Micro Ops IPC': 1.9653375,\n",
       "   'CISC IPC': 1.0055125,\n",
       "   'I1 Hit Rate': 0.68935436,\n",
       "   'L1 Hit Rate': 0.9787189,\n",
       "   'L2 Hit Rate': 0.92918515,\n",
       "   'L3 Hit Rate': 0.39688838},\n",
       "  'Power4': {'Micro Ops IPC': 2.1918499999999996,\n",
       "   'CISC IPC': 1.1204749999999999,\n",
       "   'I1 Hit Rate': 0.6228707,\n",
       "   'L1 Hit Rate': 0.9799118,\n",
       "   'L2 Hit Rate': 0.94231135,\n",
       "   'L3 Hit Rate': 0.40105236},\n",
       "  'Bingo': {'Micro Ops IPC': 1.7876499999999997,\n",
       "   'CISC IPC': 0.9205,\n",
       "   'I1 Hit Rate': 0.6449302,\n",
       "   'L1 Hit Rate': 0.97947747,\n",
       "   'L2 Hit Rate': 0.9303048,\n",
       "   'L3 Hit Rate': 0.36963314}},\n",
       " 'blender_8': {'Simple': {'Micro Ops IPC': 0.993375,\n",
       "   'CISC IPC': 0.5806375,\n",
       "   'I1 Hit Rate': 0.6224583,\n",
       "   'L1 Hit Rate': 0.93254304,\n",
       "   'L2 Hit Rate': 0.9485671,\n",
       "   'L3 Hit Rate': 0.32102895},\n",
       "  'Power4': {'Micro Ops IPC': 1.078325,\n",
       "   'CISC IPC': 0.6326875,\n",
       "   'I1 Hit Rate': 0.5802708,\n",
       "   'L1 Hit Rate': 0.9432355,\n",
       "   'L2 Hit Rate': 0.9619809,\n",
       "   'L3 Hit Rate': 0.39848977},\n",
       "  'Bingo': {'Micro Ops IPC': 0.2227875,\n",
       "   'CISC IPC': 0.132075,\n",
       "   'I1 Hit Rate': 0.6372035,\n",
       "   'L1 Hit Rate': 0.95241153,\n",
       "   'L2 Hit Rate': 0.95275253,\n",
       "   'L3 Hit Rate': 0.44396538}},\n",
       " 'gimp_8': {'Simple': {'Micro Ops IPC': 0.7530375000000001,\n",
       "   'CISC IPC': 0.40950000000000003,\n",
       "   'I1 Hit Rate': 0.8417051,\n",
       "   'L1 Hit Rate': 0.7271695,\n",
       "   'L2 Hit Rate': 0.8435931,\n",
       "   'L3 Hit Rate': 0.21778315},\n",
       "  'Power4': {'Micro Ops IPC': 0.7409749999999999,\n",
       "   'CISC IPC': 0.40415,\n",
       "   'I1 Hit Rate': 0.82438207,\n",
       "   'L1 Hit Rate': 0.7972997,\n",
       "   'L2 Hit Rate': 0.8875417,\n",
       "   'L3 Hit Rate': 0.38226998},\n",
       "  'Bingo': {'Micro Ops IPC': 0.24735,\n",
       "   'CISC IPC': 0.1359375,\n",
       "   'I1 Hit Rate': 0.9378004,\n",
       "   'L1 Hit Rate': 0.90175587,\n",
       "   'L2 Hit Rate': 0.8998976,\n",
       "   'L3 Hit Rate': 0.44584677}},\n",
       " 'numenta-nab_8': {'Simple': {'Micro Ops IPC': 0.8577,\n",
       "   'CISC IPC': 0.4743875,\n",
       "   'I1 Hit Rate': 0.70186704,\n",
       "   'L1 Hit Rate': 0.88688815,\n",
       "   'L2 Hit Rate': 0.922301,\n",
       "   'L3 Hit Rate': 0.505106},\n",
       "  'Power4': {'Micro Ops IPC': 0.9677249999999998,\n",
       "   'CISC IPC': 0.5360625,\n",
       "   'I1 Hit Rate': 0.6246607,\n",
       "   'L1 Hit Rate': 0.91530275,\n",
       "   'L2 Hit Rate': 0.9371742,\n",
       "   'L3 Hit Rate': 0.52632755}},\n",
       " 'compress-7zip_8': {}}"
      ]
     },
     "execution_count": 20,
     "metadata": {},
     "output_type": "execute_result"
    }
   ],
   "source": [
    "results = {}\n",
    "for benchmark in benchmarks+old_benchmarks:\n",
    "    results[benchmark] = {}\n",
    "    for prefetcher in prefetchers:\n",
    "        stat_file = f\"./outputs/{benchmark}_{prefetcher}.stat\"\n",
    "        try:\n",
    "            print(benchmark, prefetcher)\n",
    "            parsed_res = stat_parser(stat_file)\n",
    "            results[benchmark][prefetcher] = parsed_res\n",
    "        except:\n",
    "            print(\"File Not Found:\", stat_file)\n",
    "results"
   ]
  },
  {
   "cell_type": "code",
   "execution_count": null,
   "metadata": {},
   "outputs": [],
   "source": []
  }
 ],
 "metadata": {
  "kernelspec": {
   "display_name": "env",
   "language": "python",
   "name": "python3"
  },
  "language_info": {
   "codemirror_mode": {
    "name": "ipython",
    "version": 3
   },
   "file_extension": ".py",
   "mimetype": "text/x-python",
   "name": "python",
   "nbconvert_exporter": "python",
   "pygments_lexer": "ipython3",
   "version": "3.10.12"
  }
 },
 "nbformat": 4,
 "nbformat_minor": 2
}

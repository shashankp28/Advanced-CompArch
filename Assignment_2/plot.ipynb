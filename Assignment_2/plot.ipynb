{
 "cells": [
  {
   "cell_type": "markdown",
   "metadata": {},
   "source": [
    "# All Imports"
   ]
  },
  {
   "cell_type": "code",
   "execution_count": 1,
   "metadata": {},
   "outputs": [],
   "source": [
    "import matplotlib.pyplot as plt"
   ]
  },
  {
   "cell_type": "markdown",
   "metadata": {},
   "source": [
    "# Commands"
   ]
  },
  {
   "cell_type": "code",
   "execution_count": 3,
   "metadata": {},
   "outputs": [],
   "source": [
    "bechmarks=(\"gcc\", \"mcf\", \"namd\", \"lbm\", \"xalancbmk\")\n"
   ]
  },
  {
   "cell_type": "markdown",
   "metadata": {},
   "source": [
    "# Data Extraction"
   ]
  },
  {
   "cell_type": "code",
   "execution_count": 22,
   "metadata": {},
   "outputs": [],
   "source": [
    "def data_splitter(data_path):\n",
    "    with open(data_path, \"r\") as file:\n",
    "        data = file.readlines()\n",
    "    data = [line.strip().split() for line in data][1:]\n",
    "    split_indices = []\n",
    "    for i in range(len(data)):\n",
    "        if data[i][0] == \"#\":\n",
    "            split_indices.append(i)\n",
    "    assert len(split_indices) == 4\n",
    "    meta_data = {\n",
    "        \"RAW\": data[split_indices[0]+1:split_indices[1]],\n",
    "        \"WAR\": data[split_indices[1]+1:split_indices[2]],\n",
    "        \"WAW\": data[split_indices[2]+1:split_indices[3]],\n",
    "        \"SL\": data[split_indices[3]+1:],\n",
    "    }\n",
    "    return meta_data\n",
    "\n",
    "def metadata_parser(metadata):\n",
    "    parsed_data = {key: [] for key in metadata.keys()}\n",
    "    for key in metadata.keys():\n",
    "        for data in metadata[key]:\n",
    "            parsed_data[key].append([int(data[0].replace(',', '')), int(data[1])])\n",
    "    return parsed_data\n",
    "\n",
    "def get_all_data():\n",
    "    data = {key: 0 for key in bechmarks}\n",
    "    for benchmark in bechmarks:\n",
    "        data_path = f\"data/{benchmark}.count\"\n",
    "        metadata = data_splitter(data_path)\n",
    "        parsed_data = metadata_parser(metadata)\n",
    "        data[benchmark] = parsed_data\n",
    "    return data\n",
    "\n",
    "all_data = get_all_data()"
   ]
  },
  {
   "cell_type": "markdown",
   "metadata": {},
   "source": [
    "# Plotting"
   ]
  },
  {
   "cell_type": "code",
   "execution_count": null,
   "metadata": {},
   "outputs": [],
   "source": []
  }
 ],
 "metadata": {
  "kernelspec": {
   "display_name": "Python 3",
   "language": "python",
   "name": "python3"
  },
  "language_info": {
   "codemirror_mode": {
    "name": "ipython",
    "version": 3
   },
   "file_extension": ".py",
   "mimetype": "text/x-python",
   "name": "python",
   "nbconvert_exporter": "python",
   "pygments_lexer": "ipython3",
   "version": "3.10.12"
  },
  "orig_nbformat": 4
 },
 "nbformat": 4,
 "nbformat_minor": 2
}

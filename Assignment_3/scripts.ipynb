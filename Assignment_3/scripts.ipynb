{
 "cells": [
  {
   "cell_type": "markdown",
   "metadata": {},
   "source": [
    "# Imports"
   ]
  },
  {
   "cell_type": "code",
   "execution_count": 73,
   "metadata": {},
   "outputs": [],
   "source": [
    "\n",
    "import xmltodict\n",
    "import re\n",
    "from tqdm.notebook import tqdm\n",
    "import subprocess\n",
    "import json\n",
    "import os\n",
    "from time import sleep"
   ]
  },
  {
   "cell_type": "markdown",
   "metadata": {},
   "source": [
    "# XML Parser"
   ]
  },
  {
   "cell_type": "code",
   "execution_count": 74,
   "metadata": {},
   "outputs": [],
   "source": [
    "xml_file = 'config_tigerLake.xml'\n",
    "with open(xml_file, 'r') as file:\n",
    "    xml_data = file.read()\n",
    "\n",
    "xml_dict = xmltodict.parse(xml_data)"
   ]
  },
  {
   "cell_type": "markdown",
   "metadata": {},
   "source": [
    "# Stat File Parser"
   ]
  },
  {
   "cell_type": "code",
   "execution_count": 75,
   "metadata": {},
   "outputs": [
    {
     "data": {
      "text/plain": [
       "{'L1d Hit rate': 0.9544035,\n",
       " 'L1i Hit rate': 0.79096586,\n",
       " 'L2 Hit rate': 0.9847691,\n",
       " 'L3 Hit rate': 0.20170666,\n",
       " 'L1i TLB hit rate': 0.9988,\n",
       " 'L1d TLB hit rate': 0.9954,\n",
       " 'IPC': 1.7945,\n",
       " 'Branch Prediction Accuracy': 89.7722,\n",
       " 'Time Taken': 2228.0,\n",
       " 'Micro-op Cache Hit Rate': 0.8279,\n",
       " 'Target Predictor Accuracy': 82.4859,\n",
       " 'Predicate Predictor Accuracy': 97.4274,\n",
       " 'Core Energy': [390213428.5796, 15769978.6897, 405983407.2693, 0.0],\n",
       " 'Shared Cache Energy': [25300579.2864, 25024.6114, 25325603.8978, 0.0],\n",
       " 'Main Memory Controller Energy': [976185.1416, 1213.0112, 977398.1528, 0.0],\n",
       " 'Coherence Energy': [14602659.9264, 0.0, 14602659.9264, 0.0],\n",
       " 'Total Energy': [581692812.7244, 16138704.8587, 597831517.5831, 0.0]}"
      ]
     },
     "execution_count": 75,
     "metadata": {},
     "output_type": "execute_result"
    }
   ],
   "source": [
    "def extract_stats(stat_file):\n",
    "    # Read the configuration file\n",
    "    with open(stat_file, \"r\") as file:\n",
    "        config_data = file.read()\n",
    "\n",
    "    to_float = lambda lis: [float(x) for x in lis]\n",
    "    \n",
    "    # Define regex patterns for each metric\n",
    "    l1d_hit_rate_pattern = r\"L1\\[0\\] Hit-Rate\\s*=\\s*([\\d.]+)\"\n",
    "    l1i_hit_rate_pattern = r\"I1\\[0\\] Hit-Rate\\s*=\\s*([\\d.]+)\"\n",
    "    l2_hit_rate_pattern = r\"L2\\[0\\] Hit-Rate\\s*=\\s*([\\d.]+)\"\n",
    "    l3_hit_rate_pattern = r\"L3\\[0\\] Hit-Rate\\s*=\\s*([\\d.]+)\"\n",
    "    l1i_tlb_hit_rate_pattern = r\"iTLB\\[0\\] Hit-Rate\\s*=\\s*([\\d.]+)\"\n",
    "    l1d_tlb_hit_rate_pattern = r\"dTLB\\[0\\] Hit-Rate\\s*=\\s*([\\d.]+)\"\n",
    "    ipc_pattern = r\"IPC\\s*=\\s*([\\d.]+)\\s+in terms of micro-ops\"\n",
    "    branch_prediction_accuracy_pattern = r\"branch predictor accuracy\\s*=\\s*([\\d.]+)\"\n",
    "    total_execution_time_pattern = r\"Total Execution Time\\s*=\\s*([\\d\\s:]+)\"\n",
    "    micro_op_cache_hit_rate_pattern = r\"micro-op cache hit rate\\s*=\\s*([\\d.]+)\"\n",
    "    target_predictor_accuracy_pattern = r\"target predictor accuracy\\s*=\\s*([\\d.]+)\"\n",
    "    predicate_predictor_accuracy_pattern = r\"predicate predictor accuracy\\s*=\\s*([\\d.]+)\"\n",
    "\n",
    "    # Function to extract a metric using the given pattern\n",
    "    def extract_metric(pattern, data):\n",
    "        match = re.search(pattern, data)\n",
    "        if match:\n",
    "            return match.group(1)\n",
    "        return None\n",
    "\n",
    "    # Extract metrics from the configuration data\n",
    "    l1d_hit_rate = extract_metric(l1d_hit_rate_pattern, config_data)\n",
    "    l1i_hit_rate = extract_metric(l1i_hit_rate_pattern, config_data)\n",
    "    l2_hit_rate = extract_metric(l2_hit_rate_pattern, config_data)\n",
    "    l3_hit_rate = extract_metric(l3_hit_rate_pattern, config_data)\n",
    "    l1i_tlb_hit_rate = extract_metric(l1i_tlb_hit_rate_pattern, config_data)\n",
    "    l1d_tlb_hit_rate = extract_metric(l1d_tlb_hit_rate_pattern, config_data)\n",
    "    ipc = extract_metric(ipc_pattern, config_data)\n",
    "    branch_prediction_accuracy = extract_metric(branch_prediction_accuracy_pattern, config_data)\n",
    "    time_taken = extract_metric(total_execution_time_pattern, config_data)\n",
    "    micro_op_cache_hit_rate = extract_metric(micro_op_cache_hit_rate_pattern, config_data)\n",
    "    target_predictor_accuracy = extract_metric(target_predictor_accuracy_pattern, config_data)\n",
    "    predicate_predictor_accuracy = extract_metric(predicate_predictor_accuracy_pattern, config_data)\n",
    "    core_energy = config_data.split(\"coreEnergy.total\")[1].split(\"\\n\")[0].strip().split()\n",
    "    shared_cache_energy = config_data.split(\"sharedCacheEnergy.total\")[1].split(\"\\n\")[0].strip().split()\n",
    "    main_memory_energy = config_data.split(\"mainMemoryControllerEnergy.total\")[1].split(\"\\n\")[0].strip().split()\n",
    "    coherence_energy = config_data.split(\"coherenceEnergy.total\")[1].split(\"\\n\")[0].strip().split()\n",
    "    total_energy = config_data.split(\"TotalEnergy\")[-1].split()\n",
    "\n",
    "    # Print the extracted metrics\n",
    "    data = {\n",
    "        \"L1d Hit rate\": float(l1d_hit_rate),\n",
    "        \"L1i Hit rate\": float(l1i_hit_rate),\n",
    "        \"L2 Hit rate\": float(l2_hit_rate),\n",
    "        \"L3 Hit rate\": float(l3_hit_rate),\n",
    "        \"L1i TLB hit rate\": float(l1i_tlb_hit_rate),\n",
    "        \"L1d TLB hit rate\": float(l1d_tlb_hit_rate),\n",
    "        \"IPC\": float(ipc),\n",
    "        \"Branch Prediction Accuracy\": float(branch_prediction_accuracy),\n",
    "        \"Time Taken\": float(time_taken),\n",
    "        \"Micro-op Cache Hit Rate\": float(micro_op_cache_hit_rate),\n",
    "        \"Target Predictor Accuracy\": float(target_predictor_accuracy),\n",
    "        \"Predicate Predictor Accuracy\": float(predicate_predictor_accuracy) if predicate_predictor_accuracy is not None else None,\n",
    "        \"Core Energy\": to_float(core_energy),\n",
    "        \"Shared Cache Energy\": to_float(shared_cache_energy),\n",
    "        \"Main Memory Controller Energy\": to_float(main_memory_energy),\n",
    "        \"Coherence Energy\": to_float(coherence_energy),\n",
    "        \"Total Energy\": to_float(total_energy),\n",
    "    }\n",
    "    return data\n",
    "\n",
    "extract_stats('gcc.stat')"
   ]
  },
  {
   "cell_type": "markdown",
   "metadata": {},
   "source": [
    "# Others"
   ]
  },
  {
   "cell_type": "code",
   "execution_count": 76,
   "metadata": {},
   "outputs": [],
   "source": [
    "jar_file = \"/home/shashankp/Desktop/GitHub_S/Advanced-CompArch/cs810_resources/Tejas/jars/tejas.jar\"\n",
    "config_path = \"./config_tigerLake.xml\"\n",
    "benchmarks = ['gcc', 'lbm', 'mcf', 'namd', 'xalancbmk']\n",
    "specifications = {\n",
    "    \"BranchPredictor-Predictor_Mode\": [\"NoPredictor\", \"PerfectPredictor\", \"AlwaysTaken\", \"AlwaysNotTaken\", \"Tournament\", \"Bimodal\", \"GShare\", \"GAg\", \"GAp\", \"PAg\", \"PAp\", \"TAGE\", \"TAGE-SC-L\"],\n",
    "    \"MainMemory-MainMemoryLatency\": [10, 50, 100, 500],\n",
    "    \"Core-CoreFrequency\": [100, 500, 2000, 5000],\n",
    "    \"BranchPredictor-BHRsize\": [2, 4, 8, 16, 32, 64],\n",
    "    \"MainMemory-MainMemoryFrequency\": [100, 500, 2000, 5000],\n",
    "    \"ITLB-Size\": [10, 50, 200, 500], \n",
    "    \"DTLB-Size\": [10, 50, 200, 500],\n",
    "    # \"Integer-IntRegFileSize\": [50, 100, 200, 400],\n",
    "    # \"Vector-VectorRegFileSize\": [50, 100, 200, 400],\n",
    "    \"IntVectorMul-Latency\": [1, 5, 10, 20],\n",
    "    \"FloatMul-Latency\": [1, 5, 10],\n",
    "    \"FloatALU-Latency\": [1, 5, 10],\n",
    "    \"FMA-Latency\": [1, 5, 10],\n",
    "}\n",
    "with open('command.txt', \"w+\") as file:\n",
    "    pass"
   ]
  },
  {
   "cell_type": "markdown",
   "metadata": {},
   "source": [
    "# Modify Config File"
   ]
  },
  {
   "cell_type": "code",
   "execution_count": 77,
   "metadata": {},
   "outputs": [],
   "source": [
    "def modify_config_file_subtree(old_file, new_file, key1, key2, value):\n",
    "    import xml.etree.ElementTree as ET\n",
    "    value = str(value)\n",
    "    def change_element_recursive(root, element_name):\n",
    "        # Check if the current element's tag matches the desired element name\n",
    "        if root.tag == element_name:\n",
    "            return root\n",
    "\n",
    "        # Recursively search through child elements\n",
    "        for child in root:\n",
    "            found_element = change_element_recursive(child, element_name)\n",
    "            if found_element is not None:\n",
    "                return found_element\n",
    "\n",
    "        # Element not found in this branch\n",
    "        return None\n",
    "\n",
    "    # Parse the XML file\n",
    "    tree = ET.parse(old_file)\n",
    "    root = tree.getroot()\n",
    "\n",
    "    # Call the recursive function to find the element\n",
    "    v = change_element_recursive(root, key1)\n",
    "    v1 = change_element_recursive(v, key2)\n",
    "    v1.text=value\n",
    "    if v is None:\n",
    "        print(\"Key doesn't exist\")\n",
    "\n",
    "    tree.write(new_file)"
   ]
  },
  {
   "cell_type": "markdown",
   "metadata": {},
   "source": [
    "# Tejas Runner"
   ]
  },
  {
   "cell_type": "code",
   "execution_count": 78,
   "metadata": {},
   "outputs": [],
   "source": [
    "def run_tejas(benchmark, jar_file, config_file, stat_file):\n",
    "    bench_mark_path = f\"/home/shashankp/Desktop/GitHub_S/Advanced-CompArch/cs810_resources/CPU2017_benchmarks/tejas_traces/{benchmark}\"\n",
    "    command = (f'java -jar {jar_file} {config_file} {stat_file} {bench_mark_path}').split()\n",
    "    with open('command.txt', 'a') as file:\n",
    "        full_config_path = os.path.abspath(config_file)\n",
    "        command[3] = full_config_path\n",
    "        file.write(' '.join(command) + \"\\n\")\n",
    "    subprocess.run(command, stdout=subprocess.PIPE, stderr=subprocess.PIPE, text=True)"
   ]
  },
  {
   "cell_type": "markdown",
   "metadata": {},
   "source": [
    "# Save Metrics"
   ]
  },
  {
   "cell_type": "code",
   "execution_count": 79,
   "metadata": {},
   "outputs": [],
   "source": [
    "def save_metrics(data, file_path):\n",
    "    with open(file_path, 'w') as file:\n",
    "        json.dump(data, file)"
   ]
  },
  {
   "cell_type": "markdown",
   "metadata": {},
   "source": [
    "# Experiments"
   ]
  },
  {
   "cell_type": "code",
   "execution_count": 80,
   "metadata": {},
   "outputs": [
    {
     "data": {
      "application/vnd.jupyter.widget-view+json": {
       "model_id": "e407037f038243c69593af9a43c98c01",
       "version_major": 2,
       "version_minor": 0
      },
      "text/plain": [
       "  0%|          | 0/260 [00:00<?, ?it/s]"
      ]
     },
     "metadata": {},
     "output_type": "display_data"
    },
    {
     "ename": "TypeError",
     "evalue": "float() argument must be a string or a real number, not 'NoneType'",
     "output_type": "error",
     "traceback": [
      "\u001b[0;31m---------------------------------------------------------------------------\u001b[0m",
      "\u001b[0;31mTypeError\u001b[0m                                 Traceback (most recent call last)",
      "\u001b[1;32m/home/shashankp/Desktop/GitHub_S/Advanced-CompArch/Assignment_3/scripts.ipynb Cell 16\u001b[0m line \u001b[0;36m2\n\u001b[1;32m     <a href='vscode-notebook-cell:/home/shashankp/Desktop/GitHub_S/Advanced-CompArch/Assignment_3/scripts.ipynb#X21sZmlsZQ%3D%3D?line=19'>20</a>\u001b[0m modify_config_file_subtree(config_path, new_config, key1, key2, value)\n\u001b[1;32m     <a href='vscode-notebook-cell:/home/shashankp/Desktop/GitHub_S/Advanced-CompArch/Assignment_3/scripts.ipynb#X21sZmlsZQ%3D%3D?line=20'>21</a>\u001b[0m run_tejas(benchmark, jar_file, new_config, new_stat_file)\n\u001b[0;32m---> <a href='vscode-notebook-cell:/home/shashankp/Desktop/GitHub_S/Advanced-CompArch/Assignment_3/scripts.ipynb#X21sZmlsZQ%3D%3D?line=21'>22</a>\u001b[0m extracted_data \u001b[39m=\u001b[39m extract_stats(new_stat_file)\n\u001b[1;32m     <a href='vscode-notebook-cell:/home/shashankp/Desktop/GitHub_S/Advanced-CompArch/Assignment_3/scripts.ipynb#X21sZmlsZQ%3D%3D?line=22'>23</a>\u001b[0m save_metrics(extracted_data, \u001b[39mf\u001b[39m\u001b[39m\"\u001b[39m\u001b[39m./metrics/\u001b[39m\u001b[39m{\u001b[39;00mbenchmark\u001b[39m}\u001b[39;00m\u001b[39m_\u001b[39m\u001b[39m{\u001b[39;00mkey1\u001b[39m}\u001b[39;00m\u001b[39m-\u001b[39m\u001b[39m{\u001b[39;00mkey2\u001b[39m}\u001b[39;00m\u001b[39m_\u001b[39m\u001b[39m{\u001b[39;00mvalue\u001b[39m}\u001b[39;00m\u001b[39m.json\u001b[39m\u001b[39m\"\u001b[39m)\n\u001b[1;32m     <a href='vscode-notebook-cell:/home/shashankp/Desktop/GitHub_S/Advanced-CompArch/Assignment_3/scripts.ipynb#X21sZmlsZQ%3D%3D?line=23'>24</a>\u001b[0m pb\u001b[39m.\u001b[39mupdate(\u001b[39m1\u001b[39m)\n",
      "\u001b[1;32m/home/shashankp/Desktop/GitHub_S/Advanced-CompArch/Assignment_3/scripts.ipynb Cell 16\u001b[0m line \u001b[0;36m6\n\u001b[1;32m     <a href='vscode-notebook-cell:/home/shashankp/Desktop/GitHub_S/Advanced-CompArch/Assignment_3/scripts.ipynb#X21sZmlsZQ%3D%3D?line=45'>46</a>\u001b[0m total_energy \u001b[39m=\u001b[39m config_data\u001b[39m.\u001b[39msplit(\u001b[39m\"\u001b[39m\u001b[39mTotalEnergy\u001b[39m\u001b[39m\"\u001b[39m)[\u001b[39m-\u001b[39m\u001b[39m1\u001b[39m]\u001b[39m.\u001b[39msplit()\n\u001b[1;32m     <a href='vscode-notebook-cell:/home/shashankp/Desktop/GitHub_S/Advanced-CompArch/Assignment_3/scripts.ipynb#X21sZmlsZQ%3D%3D?line=47'>48</a>\u001b[0m \u001b[39m# Print the extracted metrics\u001b[39;00m\n\u001b[1;32m     <a href='vscode-notebook-cell:/home/shashankp/Desktop/GitHub_S/Advanced-CompArch/Assignment_3/scripts.ipynb#X21sZmlsZQ%3D%3D?line=48'>49</a>\u001b[0m data \u001b[39m=\u001b[39m {\n\u001b[1;32m     <a href='vscode-notebook-cell:/home/shashankp/Desktop/GitHub_S/Advanced-CompArch/Assignment_3/scripts.ipynb#X21sZmlsZQ%3D%3D?line=49'>50</a>\u001b[0m     \u001b[39m\"\u001b[39m\u001b[39mL1d Hit rate\u001b[39m\u001b[39m\"\u001b[39m: \u001b[39mfloat\u001b[39m(l1d_hit_rate),\n\u001b[1;32m     <a href='vscode-notebook-cell:/home/shashankp/Desktop/GitHub_S/Advanced-CompArch/Assignment_3/scripts.ipynb#X21sZmlsZQ%3D%3D?line=50'>51</a>\u001b[0m     \u001b[39m\"\u001b[39m\u001b[39mL1i Hit rate\u001b[39m\u001b[39m\"\u001b[39m: \u001b[39mfloat\u001b[39m(l1i_hit_rate),\n\u001b[1;32m     <a href='vscode-notebook-cell:/home/shashankp/Desktop/GitHub_S/Advanced-CompArch/Assignment_3/scripts.ipynb#X21sZmlsZQ%3D%3D?line=51'>52</a>\u001b[0m     \u001b[39m\"\u001b[39m\u001b[39mL2 Hit rate\u001b[39m\u001b[39m\"\u001b[39m: \u001b[39mfloat\u001b[39m(l2_hit_rate),\n\u001b[1;32m     <a href='vscode-notebook-cell:/home/shashankp/Desktop/GitHub_S/Advanced-CompArch/Assignment_3/scripts.ipynb#X21sZmlsZQ%3D%3D?line=52'>53</a>\u001b[0m     \u001b[39m\"\u001b[39m\u001b[39mL3 Hit rate\u001b[39m\u001b[39m\"\u001b[39m: \u001b[39mfloat\u001b[39m(l3_hit_rate),\n\u001b[1;32m     <a href='vscode-notebook-cell:/home/shashankp/Desktop/GitHub_S/Advanced-CompArch/Assignment_3/scripts.ipynb#X21sZmlsZQ%3D%3D?line=53'>54</a>\u001b[0m     \u001b[39m\"\u001b[39m\u001b[39mL1i TLB hit rate\u001b[39m\u001b[39m\"\u001b[39m: \u001b[39mfloat\u001b[39m(l1i_tlb_hit_rate),\n\u001b[1;32m     <a href='vscode-notebook-cell:/home/shashankp/Desktop/GitHub_S/Advanced-CompArch/Assignment_3/scripts.ipynb#X21sZmlsZQ%3D%3D?line=54'>55</a>\u001b[0m     \u001b[39m\"\u001b[39m\u001b[39mL1d TLB hit rate\u001b[39m\u001b[39m\"\u001b[39m: \u001b[39mfloat\u001b[39m(l1d_tlb_hit_rate),\n\u001b[1;32m     <a href='vscode-notebook-cell:/home/shashankp/Desktop/GitHub_S/Advanced-CompArch/Assignment_3/scripts.ipynb#X21sZmlsZQ%3D%3D?line=55'>56</a>\u001b[0m     \u001b[39m\"\u001b[39m\u001b[39mIPC\u001b[39m\u001b[39m\"\u001b[39m: \u001b[39mfloat\u001b[39m(ipc),\n\u001b[1;32m     <a href='vscode-notebook-cell:/home/shashankp/Desktop/GitHub_S/Advanced-CompArch/Assignment_3/scripts.ipynb#X21sZmlsZQ%3D%3D?line=56'>57</a>\u001b[0m     \u001b[39m\"\u001b[39m\u001b[39mBranch Prediction Accuracy\u001b[39m\u001b[39m\"\u001b[39m: \u001b[39mfloat\u001b[39m(branch_prediction_accuracy),\n\u001b[1;32m     <a href='vscode-notebook-cell:/home/shashankp/Desktop/GitHub_S/Advanced-CompArch/Assignment_3/scripts.ipynb#X21sZmlsZQ%3D%3D?line=57'>58</a>\u001b[0m     \u001b[39m\"\u001b[39m\u001b[39mTime Taken\u001b[39m\u001b[39m\"\u001b[39m: \u001b[39mfloat\u001b[39m(time_taken),\n\u001b[1;32m     <a href='vscode-notebook-cell:/home/shashankp/Desktop/GitHub_S/Advanced-CompArch/Assignment_3/scripts.ipynb#X21sZmlsZQ%3D%3D?line=58'>59</a>\u001b[0m     \u001b[39m\"\u001b[39m\u001b[39mMicro-op Cache Hit Rate\u001b[39m\u001b[39m\"\u001b[39m: \u001b[39mfloat\u001b[39m(micro_op_cache_hit_rate),\n\u001b[1;32m     <a href='vscode-notebook-cell:/home/shashankp/Desktop/GitHub_S/Advanced-CompArch/Assignment_3/scripts.ipynb#X21sZmlsZQ%3D%3D?line=59'>60</a>\u001b[0m     \u001b[39m\"\u001b[39m\u001b[39mTarget Predictor Accuracy\u001b[39m\u001b[39m\"\u001b[39m: \u001b[39mfloat\u001b[39m(target_predictor_accuracy),\n\u001b[0;32m---> <a href='vscode-notebook-cell:/home/shashankp/Desktop/GitHub_S/Advanced-CompArch/Assignment_3/scripts.ipynb#X21sZmlsZQ%3D%3D?line=60'>61</a>\u001b[0m     \u001b[39m\"\u001b[39m\u001b[39mPredicate Predictor Accuracy\u001b[39m\u001b[39m\"\u001b[39m: \u001b[39mfloat\u001b[39;49m(predicate_predictor_accuracy),\n\u001b[1;32m     <a href='vscode-notebook-cell:/home/shashankp/Desktop/GitHub_S/Advanced-CompArch/Assignment_3/scripts.ipynb#X21sZmlsZQ%3D%3D?line=61'>62</a>\u001b[0m     \u001b[39m\"\u001b[39m\u001b[39mCore Energy\u001b[39m\u001b[39m\"\u001b[39m: to_float(core_energy),\n\u001b[1;32m     <a href='vscode-notebook-cell:/home/shashankp/Desktop/GitHub_S/Advanced-CompArch/Assignment_3/scripts.ipynb#X21sZmlsZQ%3D%3D?line=62'>63</a>\u001b[0m     \u001b[39m\"\u001b[39m\u001b[39mShared Cache Energy\u001b[39m\u001b[39m\"\u001b[39m: to_float(shared_cache_energy),\n\u001b[1;32m     <a href='vscode-notebook-cell:/home/shashankp/Desktop/GitHub_S/Advanced-CompArch/Assignment_3/scripts.ipynb#X21sZmlsZQ%3D%3D?line=63'>64</a>\u001b[0m     \u001b[39m\"\u001b[39m\u001b[39mMain Memory Controller Energy\u001b[39m\u001b[39m\"\u001b[39m: to_float(main_memory_energy),\n\u001b[1;32m     <a href='vscode-notebook-cell:/home/shashankp/Desktop/GitHub_S/Advanced-CompArch/Assignment_3/scripts.ipynb#X21sZmlsZQ%3D%3D?line=64'>65</a>\u001b[0m     \u001b[39m\"\u001b[39m\u001b[39mCoherence Energy\u001b[39m\u001b[39m\"\u001b[39m: to_float(coherence_energy),\n\u001b[1;32m     <a href='vscode-notebook-cell:/home/shashankp/Desktop/GitHub_S/Advanced-CompArch/Assignment_3/scripts.ipynb#X21sZmlsZQ%3D%3D?line=65'>66</a>\u001b[0m     \u001b[39m\"\u001b[39m\u001b[39mTotal Energy\u001b[39m\u001b[39m\"\u001b[39m: to_float(total_energy),\n\u001b[1;32m     <a href='vscode-notebook-cell:/home/shashankp/Desktop/GitHub_S/Advanced-CompArch/Assignment_3/scripts.ipynb#X21sZmlsZQ%3D%3D?line=66'>67</a>\u001b[0m }\n\u001b[1;32m     <a href='vscode-notebook-cell:/home/shashankp/Desktop/GitHub_S/Advanced-CompArch/Assignment_3/scripts.ipynb#X21sZmlsZQ%3D%3D?line=67'>68</a>\u001b[0m \u001b[39mreturn\u001b[39;00m data\n",
      "\u001b[0;31mTypeError\u001b[0m: float() argument must be a string or a real number, not 'NoneType'"
     ]
    }
   ],
   "source": [
    "total = 0\n",
    "for benchmark in benchmarks:\n",
    "    for key in specifications:\n",
    "        total += len(specifications[key])\n",
    "pb = tqdm(total=total)\n",
    "\n",
    "full_result = dict()\n",
    "for benchmark in benchmarks:\n",
    "    full_result[benchmark] = {}\n",
    "    for key in specifications:\n",
    "        full_result[benchmark][key] = {}\n",
    "        key1, key2 = key.split('-')\n",
    "        for value in specifications[key]:\n",
    "            sleep(1)\n",
    "            new_config = f\"./config/{benchmark}_{key1}-{key2}_{value}.xml\"\n",
    "            new_stat_file = f\"./stats/{benchmark}_{key1}-{key2}_{value}.stat\"\n",
    "            if new_stat_file.split('/')[-1] in os.listdir('./stats'):\n",
    "                pb.update(1)\n",
    "                continue\n",
    "            modify_config_file_subtree(config_path, new_config, key1, key2, value)\n",
    "            run_tejas(benchmark, jar_file, new_config, new_stat_file)\n",
    "            extracted_data = extract_stats(new_stat_file)\n",
    "            save_metrics(extracted_data, f\"./metrics/{benchmark}_{key1}-{key2}_{value}.json\")\n",
    "            pb.update(1)"
   ]
  },
  {
   "cell_type": "code",
   "execution_count": null,
   "metadata": {},
   "outputs": [],
   "source": []
  }
 ],
 "metadata": {
  "kernelspec": {
   "display_name": "env",
   "language": "python",
   "name": "python3"
  },
  "language_info": {
   "codemirror_mode": {
    "name": "ipython",
    "version": 3
   },
   "file_extension": ".py",
   "mimetype": "text/x-python",
   "name": "python",
   "nbconvert_exporter": "python",
   "pygments_lexer": "ipython3",
   "version": "3.10.12"
  },
  "orig_nbformat": 4
 },
 "nbformat": 4,
 "nbformat_minor": 2
}

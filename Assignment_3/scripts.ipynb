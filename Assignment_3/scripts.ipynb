{
 "cells": [
  {
   "cell_type": "markdown",
   "metadata": {},
   "source": [
    "# Imports"
   ]
  },
  {
   "cell_type": "code",
   "execution_count": 38,
   "metadata": {},
   "outputs": [],
   "source": [
    "import xmltodict\n",
    "import re\n",
    "from tqdm.notebook import tqdm\n",
    "import subprocess"
   ]
  },
  {
   "cell_type": "markdown",
   "metadata": {},
   "source": [
    "# XML Parser"
   ]
  },
  {
   "cell_type": "code",
   "execution_count": 27,
   "metadata": {},
   "outputs": [],
   "source": [
    "xml_file = 'config_tigerLake.xml'\n",
    "with open(xml_file, 'r') as file:\n",
    "    xml_data = file.read()\n",
    "\n",
    "xml_dict = xmltodict.parse(xml_data)"
   ]
  },
  {
   "cell_type": "markdown",
   "metadata": {},
   "source": [
    "# Stat File Parser"
   ]
  },
  {
   "cell_type": "code",
   "execution_count": 28,
   "metadata": {},
   "outputs": [
    {
     "name": "stdout",
     "output_type": "stream",
     "text": [
      "None\n"
     ]
    },
    {
     "data": {
      "text/plain": [
       "{'L1d Hit rate': '0.9544035',\n",
       " 'L1i Hit rate': '0.79096586',\n",
       " 'L2 Hit rate': '0.9847691',\n",
       " 'L3 Hit rate': '0.20170666',\n",
       " 'L1i TLB hit rate': '0.9988',\n",
       " 'L1d TLB hit rate': '0.9954',\n",
       " 'IPC': '1.7945',\n",
       " 'Branch Prediction Accuracy': '89.7722',\n",
       " 'Time Taken': '2228 ',\n",
       " 'Micro-op Cache Hit Rate': '0.8279',\n",
       " 'Target Predictor Accuracy': '82.4859',\n",
       " 'Predicate Predictor Accuracy': '97.4274'}"
      ]
     },
     "execution_count": 28,
     "metadata": {},
     "output_type": "execute_result"
    }
   ],
   "source": [
    "def extract_stats(stat_file):\n",
    "    # Read the configuration file\n",
    "    with open(stat_file, \"r\") as file:\n",
    "        config_data = file.read()\n",
    "\n",
    "    # Define regex patterns for each metric\n",
    "    l1d_hit_rate_pattern = r\"L1\\[0\\] Hit-Rate\\s*=\\s*([\\d.]+)\"\n",
    "    l1i_hit_rate_pattern = r\"I1\\[0\\] Hit-Rate\\s*=\\s*([\\d.]+)\"\n",
    "    l2_hit_rate_pattern = r\"L2\\[0\\] Hit-Rate\\s*=\\s*([\\d.]+)\"\n",
    "    l3_hit_rate_pattern = r\"L3\\[0\\] Hit-Rate\\s*=\\s*([\\d.]+)\"\n",
    "    l1i_tlb_hit_rate_pattern = r\"iTLB\\[0\\] Hit-Rate\\s*=\\s*([\\d.]+)\"\n",
    "    l1d_tlb_hit_rate_pattern = r\"dTLB\\[0\\] Hit-Rate\\s*=\\s*([\\d.]+)\"\n",
    "    ipc_pattern = r\"IPC\\s*=\\s*([\\d.]+)\\s+in terms of micro-ops\"\n",
    "    branch_prediction_accuracy_pattern = r\"branch predictor accuracy\\s*=\\s*([\\d.]+)\"\n",
    "    total_execution_time_pattern = r\"Total Execution Time\\s*=\\s*([\\d\\s:]+)\"\n",
    "    micro_op_cache_hit_rate_pattern = r\"micro-op cache hit rate\\s*=\\s*([\\d.]+)\"\n",
    "    target_predictor_accuracy_pattern = r\"target predictor accuracy\\s*=\\s*([\\d.]+)\"\n",
    "    predicate_predictor_accuracy_pattern = r\"predicate predictor accuracy\\s*=\\s*([\\d.]+)\"\n",
    "    \n",
    "    core_energy_pattern = r\"^coreEnergy.total*\"\n",
    "    shared_cache_energy_pattern = r\"sharedCacheEnergy.total\\s*=\\s*([\\d.]+)\\s+([\\d.]+)\\s+([\\d.]+)\\s+([\\d.]+)\"\n",
    "    main_memory_energy_pattern = r\"mainMemoryControllerEnergy.total\\s*=\\s*([\\d.]+)\\s+([\\d.]+)\\s+([\\d.]+)\\s+([\\d.]+)\"\n",
    "    coherence_energy_pattern = r\"coherenceEnergy.total\\s*=\\s*([\\d.]+)\\s+([\\d.]+)\\s+([\\d.]+)\\s+([\\d.]+)\"\n",
    "    total_energy_pattern = r\"TotalEnergy\\s*=\\s*([\\d.]+)\\s+([\\d.]+)\\s+([\\d.]+)\\s+([\\d.]+)\"\n",
    "\n",
    "    # Function to extract a metric using the given pattern\n",
    "    def extract_metric(pattern, data):\n",
    "        match = re.search(pattern, data)\n",
    "        if match:\n",
    "            return match.group(1)\n",
    "        return None\n",
    "\n",
    "    # Extract metrics from the configuration data\n",
    "    l1d_hit_rate = extract_metric(l1d_hit_rate_pattern, config_data)\n",
    "    l1i_hit_rate = extract_metric(l1i_hit_rate_pattern, config_data)\n",
    "    l2_hit_rate = extract_metric(l2_hit_rate_pattern, config_data)\n",
    "    l3_hit_rate = extract_metric(l3_hit_rate_pattern, config_data)\n",
    "    l1i_tlb_hit_rate = extract_metric(l1i_tlb_hit_rate_pattern, config_data)\n",
    "    l1d_tlb_hit_rate = extract_metric(l1d_tlb_hit_rate_pattern, config_data)\n",
    "    ipc = extract_metric(ipc_pattern, config_data)\n",
    "    branch_prediction_accuracy = extract_metric(branch_prediction_accuracy_pattern, config_data)\n",
    "    time_taken = extract_metric(total_execution_time_pattern, config_data)\n",
    "    micro_op_cache_hit_rate = extract_metric(micro_op_cache_hit_rate_pattern, config_data)\n",
    "    target_predictor_accuracy = extract_metric(target_predictor_accuracy_pattern, config_data)\n",
    "    predicate_predictor_accuracy = extract_metric(predicate_predictor_accuracy_pattern, config_data)\n",
    "    core_energy = extract_metric(core_energy_pattern, config_data)\n",
    "    print(core_energy)\n",
    "    # shared_cache_energy = tuple(map(float, extract_metric(shared_cache_energy_pattern, config_data).split()))\n",
    "    # main_memory_energy = tuple(map(float, extract_metric(main_memory_energy_pattern, config_data).split()))\n",
    "    # coherence_energy = tuple(map(float, extract_metric(coherence_energy_pattern, config_data).split()))\n",
    "    # total_energy = tuple(map(float, extract_metric(total_energy_pattern, config_data).split()))\n",
    "\n",
    "    # Print the extracted metrics\n",
    "    data = {\n",
    "        \"L1d Hit rate\": l1d_hit_rate,\n",
    "        \"L1i Hit rate\": l1i_hit_rate,\n",
    "        \"L2 Hit rate\": l2_hit_rate,\n",
    "        \"L3 Hit rate\": l3_hit_rate,\n",
    "        \"L1i TLB hit rate\": l1i_tlb_hit_rate,\n",
    "        \"L1d TLB hit rate\": l1d_tlb_hit_rate,\n",
    "        \"IPC\": ipc,\n",
    "        \"Branch Prediction Accuracy\": branch_prediction_accuracy,\n",
    "        \"Time Taken\": time_taken,\n",
    "        \"Micro-op Cache Hit Rate\": micro_op_cache_hit_rate,\n",
    "        \"Target Predictor Accuracy\": target_predictor_accuracy,\n",
    "        \"Predicate Predictor Accuracy\": predicate_predictor_accuracy,\n",
    "        # \"Core Energy\": core_energy,\n",
    "        # \"Shared Cache Energy\": shared_cache_energy,\n",
    "        # \"Main Memory Controller Energy\": main_memory_energy,\n",
    "        # \"Coherence Energy\": coherence_energy,\n",
    "        # \"Total Energy\": total_energy,\n",
    "    }\n",
    "    return data\n",
    "\n",
    "extract_stats('gcc.stat')"
   ]
  },
  {
   "cell_type": "markdown",
   "metadata": {},
   "source": [
    "# Others"
   ]
  },
  {
   "cell_type": "code",
   "execution_count": 41,
   "metadata": {},
   "outputs": [],
   "source": [
    "jar_file = \"/home/shashankp/Desktop/GitHub_S/Advanced-CompArch/cs810_resources/Tejas/jars/tejas.jar\"\n",
    "config_path = \"./config_tigerLake.xml\"\n",
    "files = ['gcc', 'lbm', 'mcf', 'namd', 'xalancbmk']\n",
    "specifications = {\n",
    "    \n",
    "}"
   ]
  },
  {
   "cell_type": "markdown",
   "metadata": {},
   "source": [
    "# Tejas Runner"
   ]
  },
  {
   "cell_type": "code",
   "execution_count": 49,
   "metadata": {},
   "outputs": [],
   "source": [
    "def run_tejas(benchmark, jar_file, config_file, stat_file):\n",
    "    bench_mark_path = f\"/home/shashankp/Desktop/GitHub_S/Advanced-CompArch/cs810_resources/CPU2017_benchmarks/tejas_traces/{benchmark}\"\n",
    "    command = (f'java -jar {jar_file} {config_file} {stat_file} {bench_mark_path}').split()\n",
    "    subprocess.run(command, stdout=subprocess.PIPE, stderr=subprocess.PIPE, text=True)"
   ]
  },
  {
   "cell_type": "markdown",
   "metadata": {},
   "source": [
    "# Experiments"
   ]
  },
  {
   "cell_type": "code",
   "execution_count": 50,
   "metadata": {},
   "outputs": [],
   "source": [
    "run_tejas('gcc', jar_file, config_path, './stats/gcc.stat')"
   ]
  },
  {
   "cell_type": "code",
   "execution_count": null,
   "metadata": {},
   "outputs": [],
   "source": []
  }
 ],
 "metadata": {
  "kernelspec": {
   "display_name": "env",
   "language": "python",
   "name": "python3"
  },
  "language_info": {
   "codemirror_mode": {
    "name": "ipython",
    "version": 3
   },
   "file_extension": ".py",
   "mimetype": "text/x-python",
   "name": "python",
   "nbconvert_exporter": "python",
   "pygments_lexer": "ipython3",
   "version": "3.10.12"
  },
  "orig_nbformat": 4
 },
 "nbformat": 4,
 "nbformat_minor": 2
}
